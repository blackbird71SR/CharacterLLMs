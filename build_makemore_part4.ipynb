{
 "cells": [
  {
   "attachments": {},
   "cell_type": "markdown",
   "metadata": {},
   "source": [
    "### Loss Log\n",
    "\n",
    "| No. | Model                                           | Train Loss | Dev Loss |\n",
    "| --- | ----------------------------------------------- | ---------- | -------- |\n",
    "| 1   | NN v3 - 3 char context, 200 hidden, 12K params                       | 2.062      | 2.106    |\n",
    "| 2   | Context Change: 8 char context, 200 hidden, 22K params                  | 1.932      | 2.035    |\n",
    "| 3   | Flat -> Hierarchical: 8 char context, 200 hidden, 22K params                  | 1.949      | 2.029    |\n",
    "| 4   | BatchNorm Bug Fix, 200 hidden, 22K params                  | 1.923      | 2.023    |"
   ]
  },
  {
   "cell_type": "code",
   "execution_count": 36,
   "metadata": {},
   "outputs": [],
   "source": [
    "import torch\n",
    "import torch.nn.functional as F\n",
    "import matplotlib.pyplot as plt\n",
    "import random\n",
    "\n",
    "torch.manual_seed(42)\n",
    "\n",
    "%matplotlib inline"
   ]
  },
  {
   "cell_type": "code",
   "execution_count": 37,
   "metadata": {},
   "outputs": [],
   "source": [
    "BLOCK_SIZE = 8\n",
    "N_EMBED = 10\n",
    "N_HIDDEN = 200\n",
    "N_EPOCHS = 200000\n",
    "BATCH_SIZE = 32\n",
    "g = torch.Generator().manual_seed(2147483647)"
   ]
  },
  {
   "cell_type": "code",
   "execution_count": 38,
   "metadata": {},
   "outputs": [],
   "source": [
    "def createWordsMapping(filename = 'names.txt'):\n",
    "  words = open(filename, 'r').read().splitlines()\n",
    "  chars = sorted(list(set(''.join(words))))\n",
    "  stoi = {s:i+1 for i,s in enumerate(chars)}\n",
    "  stoi['.'] = 0\n",
    "  itos = {i:s for s,i in stoi.items()}\n",
    "  n_vocab = len(stoi)\n",
    "  return words, stoi, itos, n_vocab\n",
    "\n",
    "def buildDataset(words, stoi, block_size):\n",
    "  X, Y = [], []\n",
    "  for w in words:\n",
    "    context = [0] * block_size\n",
    "    for ch in w + '.':\n",
    "      ix = stoi[ch]\n",
    "      X.append(context)\n",
    "      Y.append(ix)\n",
    "      context = context[1:] + [ix]\n",
    "  X = torch.tensor(X)\n",
    "  Y = torch.tensor(Y)\n",
    "  return X,Y\n",
    "\n",
    "def buildDatasets(words, stoi, block_size):\n",
    "  random.seed(42)\n",
    "  random.shuffle(words)\n",
    "  \n",
    "  n1 = int(0.8 * len(words))\n",
    "  n2 = int(0.9 * len(words))\n",
    "  \n",
    "  Xtr, Ytr = buildDataset(words[:n1], stoi, block_size)\n",
    "  Xdev, Ydev = buildDataset(words[n1:n2], stoi, block_size)\n",
    "  Xte, Yte = buildDataset(words[n2:], stoi, block_size)\n",
    "\n",
    "  return Xtr, Ytr, Xdev, Ydev, Xte, Yte"
   ]
  },
  {
   "cell_type": "code",
   "execution_count": 39,
   "metadata": {},
   "outputs": [],
   "source": [
    "words, stoi, itos, n_vocab = createWordsMapping()\n",
    "Xtr, Ytr, Xdev, Ydev, Xte, Yte = buildDatasets(words, stoi, BLOCK_SIZE)\n",
    "n_embed, n_hidden, block_size, n_epochs, batch_size = N_EMBED, N_HIDDEN, BLOCK_SIZE, N_EPOCHS, BATCH_SIZE\n",
    "X, Y = Xtr, Ytr"
   ]
  },
  {
   "cell_type": "code",
   "execution_count": 40,
   "metadata": {},
   "outputs": [],
   "source": [
    "class Linear:\n",
    "  \n",
    "  def __init__(self, fan_in, fan_out, bias=True):\n",
    "    self.weight = torch.randn((fan_in, fan_out), generator=g)/ fan_in**0.5\n",
    "    self.bias = torch.zeros(fan_out) if bias else None\n",
    "\n",
    "  def __call__(self, x):\n",
    "    self.out = x @ self.weight\n",
    "    if self.bias is not None:\n",
    "      self.out += self.bias\n",
    "    return self.out\n",
    "  \n",
    "  def parameters(self):\n",
    "    return [self.weight] + ([] if self.bias is None else [self.bias])\n",
    "\n",
    "\n",
    "class BatchNorm1d:\n",
    "\n",
    "  def __init__(self, dim, eps=1e-5, momentum=0.1):\n",
    "    self.eps = eps\n",
    "    self.momentum = momentum\n",
    "    self.training = True\n",
    "    # parameters (trained with backprop)\n",
    "    self.gamma = torch.ones(dim)\n",
    "    self.beta = torch.zeros(dim)\n",
    "    # buffers (trained with a running 'momentum update')\n",
    "    self.running_mean = torch.zeros(dim)\n",
    "    self.running_var = torch.ones(dim)\n",
    "\n",
    "  def __call__(self, x):\n",
    "    if self.training:\n",
    "      if x.ndim == 2:\n",
    "        dim = 0\n",
    "      elif x.ndim == 3:\n",
    "        dim = (0,1)\n",
    "      xmean = x.mean(dim, keepdims=True)\n",
    "      xvar = x.var(dim, keepdims=True, unbiased=True)\n",
    "    else:\n",
    "      xmean = self.running_mean\n",
    "      xvar = self.running_var\n",
    "    xhat = (x - xmean)/torch.sqrt(xvar + self.eps) # normalize to unit variance\n",
    "    self.out = self.gamma * xhat + self.beta\n",
    "\n",
    "    if self.training:\n",
    "      with torch.no_grad():\n",
    "        self.running_mean = (1-self.momentum) * self.running_mean + self.momentum * xmean\n",
    "        self.running_var = (1-self.momentum) * self.running_var + self.momentum *xvar\n",
    "    return self.out\n",
    "\n",
    "  def parameters(self):\n",
    "    return [self.gamma, self.beta]\n",
    "\n",
    "class Tanh:\n",
    "\n",
    "  def __call__(self, x):\n",
    "    self.out = torch.tanh(x)\n",
    "    return self.out\n",
    "  \n",
    "  def parameters(self):\n",
    "    return []\n",
    "  \n",
    "class Embedding:\n",
    "\n",
    "  def __init__(self, num_embeddings, embedding_dim):\n",
    "    self.weight = torch.randn((num_embeddings, embedding_dim))\n",
    "\n",
    "  def __call__(self, IX):\n",
    "    self.out = self.weight[IX]\n",
    "    return self.out\n",
    "  \n",
    "  def parameters(self):\n",
    "    return [self.weight]\n",
    "  \n",
    "class FalttenConsecutive:\n",
    "\n",
    "  def __init__(self, n):\n",
    "    self.n = n\n",
    "\n",
    "  def __call__(self, x):\n",
    "    B,T,C = x.shape\n",
    "    x = x.view(B, T//self.n, C*self.n)\n",
    "    if x.shape[1] == 1:\n",
    "      x = x.squeeze(1)\n",
    "    self.out = x\n",
    "    return self.out\n",
    "  \n",
    "  def parameters(self):\n",
    "    return []\n",
    "  \n",
    "class Sequential:\n",
    "\n",
    "  def __init__(self, layers):\n",
    "    self.layers = layers\n",
    "\n",
    "  def __call__(self, x):\n",
    "    for layer in self.layers:\n",
    "      x = layer(x)\n",
    "    self.out = x\n",
    "    return self.out\n",
    "  \n",
    "  def parameters(self):\n",
    "    return [p for layer in self.layers for p in layer.parameters()]"
   ]
  },
  {
   "cell_type": "code",
   "execution_count": 41,
   "metadata": {},
   "outputs": [
    {
     "name": "stdout",
     "output_type": "stream",
     "text": [
      "Total Parameters: 22097\n"
     ]
    }
   ],
   "source": [
    "def initializeWeights(n_vocab, block_size, n_embed, n_hidden):\n",
    "    \n",
    "  model = Sequential([\n",
    "    Embedding(n_vocab, n_embed),\n",
    "    FalttenConsecutive(block_size),\n",
    "    Linear(n_embed*block_size, n_hidden, bias=False),\n",
    "    BatchNorm1d(n_hidden),\n",
    "    Tanh(),\n",
    "    Linear(n_hidden, n_vocab)\n",
    "  ])\n",
    "\n",
    "  with torch.no_grad():\n",
    "    model.layers[-1].weight *= 0.1 # Make last layer less confident\n",
    "  \n",
    "  parameters = model.parameters()\n",
    "  for p in parameters:\n",
    "    p.requires_grad = True\n",
    "\n",
    "  print(f'Total Parameters: {sum(p.nelement() for p in parameters)}')\n",
    "  return model\n",
    "\n",
    "model = initializeWeights(n_vocab, BLOCK_SIZE, N_EMBED, N_HIDDEN)"
   ]
  },
  {
   "attachments": {},
   "cell_type": "markdown",
   "metadata": {},
   "source": [
    "---"
   ]
  },
  {
   "cell_type": "code",
   "execution_count": 42,
   "metadata": {},
   "outputs": [
    {
     "name": "stdout",
     "output_type": "stream",
     "text": [
      "torch.Size([4, 8])\n"
     ]
    },
    {
     "data": {
      "text/plain": [
       "tensor([[ 0,  0,  0,  0, 23, 25, 14, 14],\n",
       "        [ 0,  0,  0,  0,  0,  0,  1, 12],\n",
       "        [ 0,  0,  0,  0,  0,  0,  0,  0],\n",
       "        [ 0,  0,  0,  0,  0,  0,  3,  1]])"
      ]
     },
     "execution_count": 42,
     "metadata": {},
     "output_type": "execute_result"
    }
   ],
   "source": [
    "ix = torch.randint(0, Xtr.shape[0], (4,))\n",
    "Xb, Yb = Xtr[ix], Ytr[ix]\n",
    "logits = model(Xb)\n",
    "\n",
    "print(Xb.shape)\n",
    "Xb"
   ]
  },
  {
   "cell_type": "code",
   "execution_count": 43,
   "metadata": {},
   "outputs": [
    {
     "name": "stdout",
     "output_type": "stream",
     "text": [
      "torch.Size([4, 8, 10])\n"
     ]
    },
    {
     "data": {
      "text/plain": [
       "tensor([[ 1.9269,  1.4873,  0.9007, -2.1055,  0.6784, -1.2345, -0.0431, -1.6047,\n",
       "         -0.7521,  1.6487],\n",
       "        [ 1.9269,  1.4873,  0.9007, -2.1055,  0.6784, -1.2345, -0.0431, -1.6047,\n",
       "         -0.7521,  1.6487],\n",
       "        [ 1.9269,  1.4873,  0.9007, -2.1055,  0.6784, -1.2345, -0.0431, -1.6047,\n",
       "         -0.7521,  1.6487],\n",
       "        [ 1.9269,  1.4873,  0.9007, -2.1055,  0.6784, -1.2345, -0.0431, -1.6047,\n",
       "         -0.7521,  1.6487],\n",
       "        [ 0.3999,  1.9892, -0.0720, -0.9061, -2.0487, -1.0811,  0.0176,  0.0782,\n",
       "          0.1932,  0.4097],\n",
       "        [ 0.8539,  0.5130,  0.5397,  0.5655,  0.2691,  0.0854, -1.3793,  0.6258,\n",
       "         -2.5850, -0.0240],\n",
       "        [-0.3753,  1.0331, -0.6867,  0.6368, -0.9727,  0.9585,  1.6192,  1.4506,\n",
       "          0.2695, -0.2104],\n",
       "        [-0.3753,  1.0331, -0.6867,  0.6368, -0.9727,  0.9585,  1.6192,  1.4506,\n",
       "          0.2695, -0.2104]], grad_fn=<SelectBackward0>)"
      ]
     },
     "execution_count": 43,
     "metadata": {},
     "output_type": "execute_result"
    }
   ],
   "source": [
    "print(model.layers[0].out.shape) # output of embedding layer\n",
    "model.layers[0].out[0]"
   ]
  },
  {
   "cell_type": "code",
   "execution_count": 44,
   "metadata": {},
   "outputs": [
    {
     "name": "stdout",
     "output_type": "stream",
     "text": [
      "torch.Size([4, 80])\n"
     ]
    },
    {
     "data": {
      "text/plain": [
       "tensor([ 1.9269,  1.4873,  0.9007, -2.1055,  0.6784, -1.2345, -0.0431, -1.6047,\n",
       "        -0.7521,  1.6487,  1.9269,  1.4873,  0.9007, -2.1055,  0.6784, -1.2345,\n",
       "        -0.0431, -1.6047, -0.7521,  1.6487,  1.9269,  1.4873,  0.9007, -2.1055,\n",
       "         0.6784, -1.2345, -0.0431, -1.6047, -0.7521,  1.6487,  1.9269,  1.4873,\n",
       "         0.9007, -2.1055,  0.6784, -1.2345, -0.0431, -1.6047, -0.7521,  1.6487,\n",
       "         0.3999,  1.9892, -0.0720, -0.9061, -2.0487, -1.0811,  0.0176,  0.0782,\n",
       "         0.1932,  0.4097,  0.8539,  0.5130,  0.5397,  0.5655,  0.2691,  0.0854,\n",
       "        -1.3793,  0.6258, -2.5850, -0.0240, -0.3753,  1.0331, -0.6867,  0.6368,\n",
       "        -0.9727,  0.9585,  1.6192,  1.4506,  0.2695, -0.2104, -0.3753,  1.0331,\n",
       "        -0.6867,  0.6368, -0.9727,  0.9585,  1.6192,  1.4506,  0.2695, -0.2104],\n",
       "       grad_fn=<SelectBackward0>)"
      ]
     },
     "execution_count": 44,
     "metadata": {},
     "output_type": "execute_result"
    }
   ],
   "source": [
    "print(model.layers[1].out.shape) # output of Flatten layer\n",
    "model.layers[1].out[0]"
   ]
  },
  {
   "cell_type": "code",
   "execution_count": 45,
   "metadata": {},
   "outputs": [
    {
     "name": "stdout",
     "output_type": "stream",
     "text": [
      "torch.Size([4, 200])\n"
     ]
    },
    {
     "data": {
      "text/plain": [
       "tensor([-1.4118,  0.5454, -0.0037, -0.0569,  0.6386, -1.9053,  1.6907, -0.5929,\n",
       "         0.3391,  1.3252,  0.9732,  0.2862, -0.4899, -0.4952,  0.0762,  1.5031,\n",
       "         0.2221, -0.2884,  0.6110, -0.6833, -0.4694,  0.4685,  1.1403, -0.2568,\n",
       "         0.7272,  1.0340, -0.0531, -0.8734, -2.0166, -1.3218, -0.2961, -0.4005,\n",
       "        -0.7133,  0.5247,  2.2226,  1.8702,  2.8294,  0.7569,  0.3685,  0.6816,\n",
       "         1.4751, -0.4991, -0.3078, -0.5588,  1.1291,  0.1883, -2.6661, -0.3544,\n",
       "         0.6918, -2.4085, -0.6430,  1.5251, -1.3815, -0.2375,  0.3717,  1.2172,\n",
       "        -0.2788,  1.4614,  1.3200,  1.1155,  2.2115,  0.3059, -1.7089,  0.5343,\n",
       "        -0.5146, -0.8109,  0.6190, -1.1418,  0.0223,  2.2152, -0.7988, -0.9527,\n",
       "        -0.6386, -0.5744,  1.4360,  0.5347,  1.8457,  2.6047, -0.9992, -1.1193,\n",
       "         0.4613, -0.2150,  0.3152,  0.2055,  2.6417,  1.1943,  0.2810, -0.0256,\n",
       "         1.8675,  1.8501, -1.8149,  0.1657, -0.1074, -2.8826, -0.8802,  0.0169,\n",
       "        -0.1374,  0.7622, -1.1815,  1.0387,  0.0925,  0.1472,  1.6798,  0.1284,\n",
       "        -0.0748,  1.5177, -1.1567,  0.6710,  0.2110,  0.8982, -0.9539,  0.3751,\n",
       "         0.1612,  1.2027, -1.3494, -1.1039,  0.9678,  0.7284, -1.7555,  0.8145,\n",
       "        -1.4709, -0.4636, -0.2340, -0.8298,  0.6656,  1.4680, -0.2568,  0.1893,\n",
       "         0.8781, -0.6766, -1.6258,  0.0943, -3.0879, -1.1536, -0.7291, -1.2338,\n",
       "        -0.0761, -0.2290,  1.4563,  0.1789,  0.5944, -0.9516,  1.1720,  0.5111,\n",
       "         2.4492,  1.9294, -2.0319, -0.2705, -0.3225, -1.4486, -0.0706,  0.7961,\n",
       "         1.2183, -0.3987,  1.1757,  0.3349,  0.9837, -1.0998, -0.1848,  0.1550,\n",
       "        -0.3508,  0.5412, -1.4326,  0.5348,  1.2866, -1.9102, -0.4469,  0.4805,\n",
       "        -1.7780,  2.0717,  0.9600,  1.5200,  1.1719, -0.3379,  0.8018,  0.6572,\n",
       "         2.0314,  0.9180, -0.1507,  0.9431, -0.2969, -0.0900,  1.6493,  0.8977,\n",
       "         0.3213,  0.5482,  0.3202, -1.0907,  1.6443, -0.2005,  0.5397, -0.1268,\n",
       "         0.5419, -0.7269, -1.8069, -1.7287, -0.0680,  1.7828,  0.8974, -1.3366],\n",
       "       grad_fn=<SelectBackward0>)"
      ]
     },
     "execution_count": 45,
     "metadata": {},
     "output_type": "execute_result"
    }
   ],
   "source": [
    "print(model.layers[2].out.shape) # output of Linear layer\n",
    "model.layers[2].out[0]"
   ]
  },
  {
   "attachments": {},
   "cell_type": "markdown",
   "metadata": {},
   "source": [
    "This linear layer is basically doing following operation:\n"
   ]
  },
  {
   "cell_type": "code",
   "execution_count": 46,
   "metadata": {},
   "outputs": [
    {
     "data": {
      "text/plain": [
       "torch.Size([4, 200])"
      ]
     },
     "execution_count": 46,
     "metadata": {},
     "output_type": "execute_result"
    }
   ],
   "source": [
    "(torch.randn(4, 80) @ torch.randn(80, 200) + torch.randn(200)).shape"
   ]
  },
  {
   "attachments": {},
   "cell_type": "markdown",
   "metadata": {},
   "source": [
    "But we don't want to concatenate all 8 embedding vectors (of size 10 each) to create a 80 size vector, we want 4 pairs of embedding vectors of size 20 each. This works because matrix multiplication works only on last dimension of first matrix. Hence the below operation works in Linear layer as well:"
   ]
  },
  {
   "cell_type": "code",
   "execution_count": 47,
   "metadata": {},
   "outputs": [
    {
     "data": {
      "text/plain": [
       "torch.Size([4, 4, 200])"
      ]
     },
     "execution_count": 47,
     "metadata": {},
     "output_type": "execute_result"
    }
   ],
   "source": [
    "(torch.randn(4, 4, 20) @ torch.randn(20, 200) + torch.randn(200)).shape"
   ]
  },
  {
   "cell_type": "code",
   "execution_count": 48,
   "metadata": {},
   "outputs": [
    {
     "name": "stdout",
     "output_type": "stream",
     "text": [
      "Embedding : (4, 8, 10)\n",
      "FalttenConsecutive : (4, 80)\n",
      "Linear : (4, 200)\n",
      "BatchNorm1d : (4, 200)\n",
      "Tanh : (4, 200)\n",
      "Linear : (4, 27)\n"
     ]
    }
   ],
   "source": [
    "for layer in model.layers:\n",
    "    print(layer.__class__.__name__, ':', tuple(layer.out.shape))"
   ]
  },
  {
   "cell_type": "code",
   "execution_count": 49,
   "metadata": {},
   "outputs": [
    {
     "name": "stdout",
     "output_type": "stream",
     "text": [
      "Total Parameters: 22397\n"
     ]
    }
   ],
   "source": [
    "def initializeWeights(n_vocab, block_size, n_embed, n_hidden):\n",
    "    \n",
    "  model = Sequential([\n",
    "    Embedding(n_vocab, n_embed),\n",
    "    FalttenConsecutive(2), Linear(n_embed*2, n_hidden, bias=False), BatchNorm1d(n_hidden), Tanh(),\n",
    "    FalttenConsecutive(2), Linear(n_hidden*2, n_hidden, bias=False), BatchNorm1d(n_hidden), Tanh(),\n",
    "    FalttenConsecutive(2), Linear(n_hidden*2, n_hidden, bias=False), BatchNorm1d(n_hidden), Tanh(),\n",
    "    Linear(n_hidden, n_vocab)\n",
    "  ])\n",
    "\n",
    "  with torch.no_grad():\n",
    "    model.layers[-1].weight *= 0.1 # Make last layer less confident\n",
    "  \n",
    "  parameters = model.parameters()\n",
    "  for p in parameters:\n",
    "    p.requires_grad = True\n",
    "\n",
    "  print(f'Total Parameters: {sum(p.nelement() for p in parameters)}')\n",
    "  return model\n",
    "\n",
    "model = initializeWeights(n_vocab, BLOCK_SIZE, N_EMBED, 68)"
   ]
  },
  {
   "cell_type": "code",
   "execution_count": 50,
   "metadata": {},
   "outputs": [
    {
     "name": "stdout",
     "output_type": "stream",
     "text": [
      "torch.Size([4, 8])\n"
     ]
    },
    {
     "data": {
      "text/plain": [
       "tensor([[ 0,  0,  0,  0, 18,  1,  4,  6],\n",
       "        [ 0,  0,  0,  0,  0,  0,  0,  0],\n",
       "        [ 0,  0, 25,  9, 20, 20,  5, 12],\n",
       "        [ 0,  0,  0,  0,  0,  0,  0,  1]])"
      ]
     },
     "execution_count": 50,
     "metadata": {},
     "output_type": "execute_result"
    }
   ],
   "source": [
    "ix = torch.randint(0, Xtr.shape[0], (4,))\n",
    "Xb, Yb = Xtr[ix], Ytr[ix]\n",
    "logits = model(Xb)\n",
    "\n",
    "print(Xb.shape)\n",
    "Xb"
   ]
  },
  {
   "cell_type": "code",
   "execution_count": 51,
   "metadata": {},
   "outputs": [
    {
     "name": "stdout",
     "output_type": "stream",
     "text": [
      "Embedding : (4, 8, 10)\n",
      "FalttenConsecutive : (4, 4, 20)\n",
      "Linear : (4, 4, 68)\n",
      "BatchNorm1d : (4, 4, 68)\n",
      "Tanh : (4, 4, 68)\n",
      "FalttenConsecutive : (4, 2, 136)\n",
      "Linear : (4, 2, 68)\n",
      "BatchNorm1d : (4, 2, 68)\n",
      "Tanh : (4, 2, 68)\n",
      "FalttenConsecutive : (4, 136)\n",
      "Linear : (4, 68)\n",
      "BatchNorm1d : (4, 68)\n",
      "Tanh : (4, 68)\n",
      "Linear : (4, 27)\n"
     ]
    }
   ],
   "source": [
    "for layer in model.layers:\n",
    "    print(layer.__class__.__name__, ':', tuple(layer.out.shape))"
   ]
  },
  {
   "attachments": {},
   "cell_type": "markdown",
   "metadata": {},
   "source": [
    "---"
   ]
  },
  {
   "cell_type": "code",
   "execution_count": 52,
   "metadata": {},
   "outputs": [
    {
     "name": "stdout",
     "output_type": "stream",
     "text": [
      "      0/ 200000: 3.3086\n",
      "  10000/ 200000: 1.9379\n",
      "  20000/ 200000: 2.0195\n",
      "  30000/ 200000: 2.0194\n",
      "  40000/ 200000: 2.6392\n",
      "  50000/ 200000: 1.9345\n",
      "  60000/ 200000: 2.0813\n",
      "  70000/ 200000: 1.8935\n",
      "  80000/ 200000: 1.9396\n",
      "  90000/ 200000: 2.4987\n",
      " 100000/ 200000: 1.8003\n",
      " 110000/ 200000: 1.8270\n",
      " 120000/ 200000: 2.0209\n",
      " 130000/ 200000: 1.8290\n",
      " 140000/ 200000: 2.0088\n",
      " 150000/ 200000: 1.9822\n",
      " 160000/ 200000: 2.2747\n",
      " 170000/ 200000: 2.4721\n",
      " 180000/ 200000: 2.0503\n",
      " 190000/ 200000: 1.6822\n"
     ]
    },
    {
     "data": {
      "image/png": "[encoded data removed]",
      "text/plain": [
       "<Figure size 640x480 with 1 Axes>"
      ]
     },
     "metadata": {},
     "output_type": "display_data"
    }
   ],
   "source": [
    "def trainModel(X, Y, model, n_epochs, batch_size):\n",
    "  lossi = []\n",
    "  ud = []\n",
    "  parameters = model.parameters()\n",
    "\n",
    "  for epoch in range(n_epochs):\n",
    "\n",
    "    # Minibatch Construct\n",
    "    ix = torch.randint(0, X.shape[0], (batch_size,), generator=g)\n",
    "    X_batch, Y_batch = X[ix], Y[ix] # batch X, Y \n",
    "\n",
    "    # Forward Pass\n",
    "    logits = model(X_batch)\n",
    "    loss = F.cross_entropy(logits, Y_batch)\n",
    "\n",
    "    # Backward Pass\n",
    "    for p in parameters:\n",
    "      p.grad = None\n",
    "    loss.backward()\n",
    "\n",
    "    # Update Parameters\n",
    "    lr = 0.1 if epoch < 100000 else 0.01 # stop learning rate decay\n",
    "    for p in parameters:\n",
    "      p.data += -lr * p.grad\n",
    "    \n",
    "    # Track Stats\n",
    "    lossi.append(loss.log10().item())\n",
    "    with torch.no_grad():\n",
    "      ud.append([(lr*p.grad.std()/p.data.std()).log10().item() for p in parameters])\n",
    "    if epoch % 10000 == 0:\n",
    "      print(f'{epoch:7d}/{n_epochs:7d}: {loss.item():.4f}')\n",
    "  \n",
    "  plt.plot(torch.tensor(lossi).view(-1, 1000).mean(1))\n",
    "  return lossi, ud, parameters\n",
    "\n",
    "lossi, ud, parameters = trainModel(Xtr, Ytr, model, N_EPOCHS, BATCH_SIZE)"
   ]
  },
  {
   "cell_type": "code",
   "execution_count": 53,
   "metadata": {},
   "outputs": [],
   "source": [
    "@torch.no_grad()\n",
    "def loss(X, Y, model):\n",
    "  for layer in model.layers:\n",
    "    layer.training = False\n",
    "  logits = model(X)\n",
    "  loss = F.cross_entropy(logits, Y)\n",
    "  return loss"
   ]
  },
  {
   "cell_type": "code",
   "execution_count": 54,
   "metadata": {},
   "outputs": [
    {
     "name": "stdout",
     "output_type": "stream",
     "text": [
      "Train Loss: 1.9238624572753906\n",
      "Val Loss: 2.02327823638916\n"
     ]
    }
   ],
   "source": [
    "print(f'Train Loss: {loss(Xtr, Ytr, model)}')\n",
    "print(f'Val Loss: {loss(Xdev, Ydev, model)}')"
   ]
  },
  {
   "cell_type": "code",
   "execution_count": 55,
   "metadata": {},
   "outputs": [],
   "source": [
    "def generateExample(model, block_size, itos):\n",
    "  out = []\n",
    "  context = [0] * block_size\n",
    "  while True:\n",
    "    logits = model(torch.tensor([context]))\n",
    "    probs = F.softmax(logits, dim=1)\n",
    "    ix = torch.multinomial(probs, num_samples=1, generator=g).item()\n",
    "    context = context[1:] + [ix]\n",
    "    out.append(ix)\n",
    "    if ix == 0:\n",
    "      break\n",
    "  return ''.join(itos[i] for i in out)\n",
    "\n",
    "def generateExamples(model, block_size, itos, numExamples = 20):\n",
    "  for layer in model.layers:\n",
    "    layer.training = False\n",
    "  examples = []\n",
    "  for _ in range(numExamples):\n",
    "    example = generateExample(model, block_size, itos)\n",
    "    examples.append(example)\n",
    "  return examples"
   ]
  },
  {
   "cell_type": "code",
   "execution_count": 56,
   "metadata": {},
   "outputs": [
    {
     "name": "stdout",
     "output_type": "stream",
     "text": [
      "Generated Examples: ['alir.', 'chlaka.', 'ryann.', 'miliyus.', 'tha.', 'troya.', 'kiero.', 'aau.', 'rayleah.', 'paikionne.', 'rivlo.', 'kiysha.', 'shraya.', 'dimina.', 'keygen.', 'geott.', 'emi.', 'viras.', 'huszian.', 'lalinn.']\n"
     ]
    }
   ],
   "source": [
    "examples = generateExamples(model, BLOCK_SIZE, itos)\n",
    "print(f'Generated Examples: {examples}')"
   ]
  },
  {
   "cell_type": "code",
   "execution_count": null,
   "metadata": {},
   "outputs": [],
   "source": []
  }
 ],
 "metadata": {
  "kernelspec": {
   "display_name": "dev-gpu",
   "language": "python",
   "name": "python3"
  },
  "language_info": {
   "codemirror_mode": {
    "name": "ipython",
    "version": 3
   },
   "file_extension": ".py",
   "mimetype": "text/x-python",
   "name": "python",
   "nbconvert_exporter": "python",
   "pygments_lexer": "ipython3",
   "version": "3.10.9"
  },
  "orig_nbformat": 4
 },
 "nbformat": 4,
 "nbformat_minor": 2
}
