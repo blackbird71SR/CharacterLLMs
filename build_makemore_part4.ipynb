{
 "cells": [
  {
   "attachments": {},
   "cell_type": "markdown",
   "metadata": {},
   "source": [
    "### Loss Log\n",
    "\n",
    "| No. | Model                                           | Train Loss | Dev Loss |\n",
    "| --- | ----------------------------------------------- | ---------- | -------- |\n",
    "| 1   | NN v3 - 3 char context, 200 hidden, 12K params                       | 2.062      | 2.106    |\n",
    "| 2   | Context Change: 8 char context, 200 hidden, 22K params                  | 1.932      | 2.035    |"
   ]
  },
  {
   "cell_type": "code",
   "execution_count": 3,
   "metadata": {},
   "outputs": [],
   "source": [
    "import torch\n",
    "import torch.nn.functional as F\n",
    "import matplotlib.pyplot as plt\n",
    "import random\n",
    "\n",
    "torch.manual_seed(42)\n",
    "\n",
    "%matplotlib inline"
   ]
  },
  {
   "cell_type": "code",
   "execution_count": 4,
   "metadata": {},
   "outputs": [],
   "source": [
    "BLOCK_SIZE = 8\n",
    "N_EMBED = 10\n",
    "N_HIDDEN = 200\n",
    "N_EPOCHS = 200000\n",
    "BATCH_SIZE = 32\n",
    "g = torch.Generator().manual_seed(2147483647)"
   ]
  },
  {
   "cell_type": "code",
   "execution_count": 5,
   "metadata": {},
   "outputs": [],
   "source": [
    "def createWordsMapping(filename = 'names.txt'):\n",
    "  words = open(filename, 'r').read().splitlines()\n",
    "  chars = sorted(list(set(''.join(words))))\n",
    "  stoi = {s:i+1 for i,s in enumerate(chars)}\n",
    "  stoi['.'] = 0\n",
    "  itos = {i:s for s,i in stoi.items()}\n",
    "  n_vocab = len(stoi)\n",
    "  return words, stoi, itos, n_vocab\n",
    "\n",
    "def buildDataset(words, stoi, block_size):\n",
    "  X, Y = [], []\n",
    "  for w in words:\n",
    "    context = [0] * block_size\n",
    "    for ch in w + '.':\n",
    "      ix = stoi[ch]\n",
    "      X.append(context)\n",
    "      Y.append(ix)\n",
    "      context = context[1:] + [ix]\n",
    "  X = torch.tensor(X)\n",
    "  Y = torch.tensor(Y)\n",
    "  return X,Y\n",
    "\n",
    "def buildDatasets(words, stoi, block_size):\n",
    "  random.seed(42)\n",
    "  random.shuffle(words)\n",
    "  \n",
    "  n1 = int(0.8 * len(words))\n",
    "  n2 = int(0.9 * len(words))\n",
    "  \n",
    "  Xtr, Ytr = buildDataset(words[:n1], stoi, block_size)\n",
    "  Xdev, Ydev = buildDataset(words[n1:n2], stoi, block_size)\n",
    "  Xte, Yte = buildDataset(words[n2:], stoi, block_size)\n",
    "\n",
    "  return Xtr, Ytr, Xdev, Ydev, Xte, Yte"
   ]
  },
  {
   "cell_type": "code",
   "execution_count": 6,
   "metadata": {},
   "outputs": [],
   "source": [
    "words, stoi, itos, n_vocab = createWordsMapping()\n",
    "Xtr, Ytr, Xdev, Ydev, Xte, Yte = buildDatasets(words, stoi, BLOCK_SIZE)\n",
    "n_embed, n_hidden, block_size, n_epochs, batch_size = N_EMBED, N_HIDDEN, BLOCK_SIZE, N_EPOCHS, BATCH_SIZE\n",
    "X, Y = Xtr, Ytr"
   ]
  },
  {
   "cell_type": "code",
   "execution_count": 25,
   "metadata": {},
   "outputs": [],
   "source": [
    "class Linear:\n",
    "  \n",
    "  def __init__(self, fan_in, fan_out, bias=True):\n",
    "    self.weight = torch.randn((fan_in, fan_out), generator=g)/ fan_in**0.5\n",
    "    self.bias = torch.zeros(fan_out) if bias else None\n",
    "\n",
    "  def __call__(self, x):\n",
    "    self.out = x @ self.weight\n",
    "    if self.bias is not None:\n",
    "      self.out += self.bias\n",
    "    return self.out\n",
    "  \n",
    "  def parameters(self):\n",
    "    return [self.weight] + ([] if self.bias is None else [self.bias])\n",
    "\n",
    "\n",
    "class BatchNorm1d:\n",
    "\n",
    "  def __init__(self, dim, eps=1e-5, momentum=0.1):\n",
    "    self.eps = eps\n",
    "    self.momentum = momentum\n",
    "    self.training = True\n",
    "    # parameters (trained with backprop)\n",
    "    self.gamma = torch.ones(dim)\n",
    "    self.beta = torch.zeros(dim)\n",
    "    # buffers (trained with a running 'momentum update')\n",
    "    self.running_mean = torch.zeros(dim)\n",
    "    self.running_var = torch.ones(dim)\n",
    "\n",
    "  def __call__(self, x):\n",
    "    if self.training:\n",
    "      xmean = x.mean(0, keepdims=True)\n",
    "      xvar = x.var(0, keepdims=True, unbiased=True)\n",
    "    else:\n",
    "      xmean = self.running_mean\n",
    "      xvar = self.running_var\n",
    "    xhat = (x - xmean)/torch.sqrt(xvar + self.eps) # normalize to unit variance\n",
    "    self.out = self.gamma * xhat + self.beta\n",
    "\n",
    "    if self.training:\n",
    "      with torch.no_grad():\n",
    "        self.running_mean = (1-self.momentum) * self.running_mean + self.momentum * xmean\n",
    "        self.running_var = (1-self.momentum) * self.running_var + self.momentum *xvar\n",
    "    return self.out\n",
    "\n",
    "  def parameters(self):\n",
    "    return [self.gamma, self.beta]\n",
    "\n",
    "class Tanh:\n",
    "\n",
    "  def __call__(self, x):\n",
    "    self.out = torch.tanh(x)\n",
    "    return self.out\n",
    "  \n",
    "  def parameters(self):\n",
    "    return []\n",
    "  \n",
    "class Embedding:\n",
    "\n",
    "  def __init__(self, num_embeddings, embedding_dim):\n",
    "    self.weight = torch.randn((num_embeddings, embedding_dim))\n",
    "\n",
    "  def __call__(self, IX):\n",
    "    self.out = self.weight[IX]\n",
    "    return self.out\n",
    "  \n",
    "  def parameters(self):\n",
    "    return [self.weight]\n",
    "  \n",
    "class FalttenConsecutive:\n",
    "\n",
    "  def __init__(self, n):\n",
    "    self.n = n\n",
    "\n",
    "  def __call__(self, x):\n",
    "    B,T,C = x.shape\n",
    "    x = x.view(B, T//self.n, C*self.n)\n",
    "    if x.shape[1] == 1:\n",
    "      x = x.squeeze(1)\n",
    "    self.out = x\n",
    "    return self.out\n",
    "  \n",
    "  def parameters(self):\n",
    "    return []\n",
    "  \n",
    "class Sequential:\n",
    "\n",
    "  def __init__(self, layers):\n",
    "    self.layers = layers\n",
    "\n",
    "  def __call__(self, x):\n",
    "    for layer in self.layers:\n",
    "      x = layer(x)\n",
    "    self.out = x\n",
    "    return self.out\n",
    "  \n",
    "  def parameters(self):\n",
    "    return [p for layer in self.layers for p in layer.parameters()]"
   ]
  },
  {
   "cell_type": "code",
   "execution_count": 11,
   "metadata": {},
   "outputs": [
    {
     "name": "stdout",
     "output_type": "stream",
     "text": [
      "Total Parameters: 22097\n"
     ]
    }
   ],
   "source": [
    "def initializeWeights(n_vocab, block_size, n_embed, n_hidden):\n",
    "    \n",
    "  model = Sequential([\n",
    "    Embedding(n_vocab, n_embed),\n",
    "    FalttenConsecutive(block_size),\n",
    "    Linear(n_embed*block_size, n_hidden, bias=False),\n",
    "    BatchNorm1d(n_hidden),\n",
    "    Tanh(),\n",
    "    Linear(n_hidden, n_vocab)\n",
    "  ])\n",
    "\n",
    "  with torch.no_grad():\n",
    "    model.layers[-1].weight *= 0.1 # Make last layer less confident\n",
    "  \n",
    "  parameters = model.parameters()\n",
    "  for p in parameters:\n",
    "    p.requires_grad = True\n",
    "\n",
    "  print(f'Total Parameters: {sum(p.nelement() for p in parameters)}')\n",
    "  return model\n",
    "\n",
    "model = initializeWeights(n_vocab, BLOCK_SIZE, N_EMBED, N_HIDDEN)"
   ]
  },
  {
   "attachments": {},
   "cell_type": "markdown",
   "metadata": {},
   "source": [
    "---"
   ]
  },
  {
   "cell_type": "code",
   "execution_count": 12,
   "metadata": {},
   "outputs": [
    {
     "name": "stdout",
     "output_type": "stream",
     "text": [
      "torch.Size([4, 8])\n"
     ]
    },
    {
     "data": {
      "text/plain": [
       "tensor([[ 0,  0, 19,  3, 15, 20, 12,  1],\n",
       "        [ 0,  0,  0,  0,  5, 13, 13,  5],\n",
       "        [ 0,  0,  0,  0, 10,  1, 13,  1],\n",
       "        [ 0,  0,  0,  0,  0,  0,  0, 11]])"
      ]
     },
     "execution_count": 12,
     "metadata": {},
     "output_type": "execute_result"
    }
   ],
   "source": [
    "ix = torch.randint(0, Xtr.shape[0], (4,))\n",
    "Xb, Yb = Xtr[ix], Ytr[ix]\n",
    "logits = model(Xb)\n",
    "\n",
    "print(Xb.shape)\n",
    "Xb"
   ]
  },
  {
   "cell_type": "code",
   "execution_count": 13,
   "metadata": {},
   "outputs": [
    {
     "name": "stdout",
     "output_type": "stream",
     "text": [
      "torch.Size([4, 8, 10])\n"
     ]
    },
    {
     "data": {
      "text/plain": [
       "tensor([[-0.5419, -0.4410, -0.3136, -0.1293, -0.7150, -0.0476,  0.5230,  0.9717,\n",
       "          0.9364,  0.7122],\n",
       "        [-0.5419, -0.4410, -0.3136, -0.1293, -0.7150, -0.0476,  0.5230,  0.9717,\n",
       "          0.9364,  0.7122],\n",
       "        [-2.0479,  1.0006, -0.4005, -0.6088, -0.5081, -0.6185, -1.6470, -1.0362,\n",
       "         -0.9711,  2.8605],\n",
       "        [ 0.3040,  0.9339,  1.0554, -1.4534,  0.4652,  0.3714, -0.0047,  0.0795,\n",
       "         -0.4560, -0.0619],\n",
       "        [ 0.7204,  1.4701,  0.0378, -1.1702, -0.1032,  1.1895,  0.7607, -0.7463,\n",
       "         -0.5824,  1.3500],\n",
       "        [-0.5480, -1.1426, -0.4488, -0.0305,  0.3830, -0.0448, -2.3120, -0.6416,\n",
       "          0.6495,  0.0950],\n",
       "        [ 0.9871,  1.1457, -0.1418, -0.2763, -0.1932,  0.7768,  0.7204, -1.3358,\n",
       "         -0.5161,  0.6002],\n",
       "        [-0.0318,  0.1016,  1.3433,  0.7133,  0.3463, -0.5402,  0.8337, -0.9585,\n",
       "          0.4536,  1.2461]], grad_fn=<SelectBackward0>)"
      ]
     },
     "execution_count": 13,
     "metadata": {},
     "output_type": "execute_result"
    }
   ],
   "source": [
    "print(model.layers[0].out.shape) # output of embedding layer\n",
    "model.layers[0].out[0]"
   ]
  },
  {
   "cell_type": "code",
   "execution_count": 14,
   "metadata": {},
   "outputs": [
    {
     "name": "stdout",
     "output_type": "stream",
     "text": [
      "torch.Size([4, 80])\n"
     ]
    },
    {
     "data": {
      "text/plain": [
       "tensor([-0.5419, -0.4410, -0.3136, -0.1293, -0.7150, -0.0476,  0.5230,  0.9717,\n",
       "         0.9364,  0.7122, -0.5419, -0.4410, -0.3136, -0.1293, -0.7150, -0.0476,\n",
       "         0.5230,  0.9717,  0.9364,  0.7122, -2.0479,  1.0006, -0.4005, -0.6088,\n",
       "        -0.5081, -0.6185, -1.6470, -1.0362, -0.9711,  2.8605,  0.3040,  0.9339,\n",
       "         1.0554, -1.4534,  0.4652,  0.3714, -0.0047,  0.0795, -0.4560, -0.0619,\n",
       "         0.7204,  1.4701,  0.0378, -1.1702, -0.1032,  1.1895,  0.7607, -0.7463,\n",
       "        -0.5824,  1.3500, -0.5480, -1.1426, -0.4488, -0.0305,  0.3830, -0.0448,\n",
       "        -2.3120, -0.6416,  0.6495,  0.0950,  0.9871,  1.1457, -0.1418, -0.2763,\n",
       "        -0.1932,  0.7768,  0.7204, -1.3358, -0.5161,  0.6002, -0.0318,  0.1016,\n",
       "         1.3433,  0.7133,  0.3463, -0.5402,  0.8337, -0.9585,  0.4536,  1.2461],\n",
       "       grad_fn=<SelectBackward0>)"
      ]
     },
     "execution_count": 14,
     "metadata": {},
     "output_type": "execute_result"
    }
   ],
   "source": [
    "print(model.layers[1].out.shape) # output of Flatten layer\n",
    "model.layers[1].out[0]"
   ]
  },
  {
   "cell_type": "code",
   "execution_count": 15,
   "metadata": {},
   "outputs": [
    {
     "name": "stdout",
     "output_type": "stream",
     "text": [
      "torch.Size([4, 200])\n"
     ]
    },
    {
     "data": {
      "text/plain": [
       "tensor([ 3.6371e-01, -7.0285e-02,  3.6494e-01, -8.6531e-01,  3.9713e-01,\n",
       "         6.8814e-02,  1.4698e+00, -1.9597e+00, -4.1056e-01,  7.3812e-01,\n",
       "         1.2573e+00, -1.1849e+00, -1.2871e-02,  6.8723e-01, -2.9159e-01,\n",
       "         1.2857e+00,  2.0443e+00, -6.3539e-01,  7.2856e-01, -4.3907e-01,\n",
       "        -8.1104e-02, -1.4002e+00, -3.6807e-01,  4.2459e-01, -1.1065e-01,\n",
       "        -7.8724e-01,  8.4981e-02,  7.0495e-01,  7.5998e-01, -5.1223e-02,\n",
       "        -8.2160e-01, -2.0446e-01, -4.3777e-01, -4.6356e-01,  1.2382e+00,\n",
       "         6.5298e-01, -3.7058e-01, -4.7458e-01, -1.4479e+00,  1.1876e+00,\n",
       "        -2.3419e-01,  3.8134e-02,  1.5644e+00,  2.0425e-01,  7.6449e-02,\n",
       "        -4.8862e-01, -7.9649e-01,  1.2111e-01,  1.7142e-02, -4.7748e-01,\n",
       "         4.4015e-01, -1.1332e+00,  5.0987e-01, -4.7662e-01,  3.6442e-01,\n",
       "        -3.0008e-01,  3.5219e-01, -5.9183e-01,  1.0373e+00,  1.5553e-01,\n",
       "        -3.4037e-02,  3.6700e-01, -6.0715e-01,  4.7416e-01, -4.5850e-01,\n",
       "         2.2226e-01,  4.4739e-01,  3.2051e-01,  4.7314e-01, -1.4023e+00,\n",
       "         4.1798e-01, -2.4126e-01,  4.9973e-01, -6.5392e-01, -4.7941e-01,\n",
       "         9.9930e-01, -7.6763e-01,  8.6160e-01, -6.8891e-01,  3.0513e-01,\n",
       "        -1.9037e+00,  3.6851e-01,  1.3221e+00, -9.7438e-01,  1.2709e+00,\n",
       "         2.5705e+00,  8.0423e-02, -1.8562e-01, -6.2689e-01,  1.8818e-01,\n",
       "         2.0806e-01,  1.6990e+00, -1.2827e+00,  7.1750e-01,  1.4894e-01,\n",
       "        -1.4718e+00, -6.6635e-02, -9.1311e-01, -5.6313e-01, -6.4926e-01,\n",
       "        -1.7306e+00,  4.7370e-01,  1.1132e-01,  1.5567e-01, -1.9490e-01,\n",
       "        -7.4805e-01,  1.2376e+00,  3.1260e-01,  3.0101e-01, -1.3642e+00,\n",
       "        -7.5820e-01, -2.0996e-01, -9.0285e-01, -1.3921e+00,  3.6786e-01,\n",
       "         1.7003e+00,  2.6850e-01, -6.1621e-01, -1.4306e+00,  2.7253e-01,\n",
       "         7.6406e-01, -5.8575e-01, -1.2794e-01,  4.7358e-01,  6.0180e-01,\n",
       "         6.2632e-01,  4.5341e-01,  7.6555e-01, -7.3374e-01,  1.5739e-01,\n",
       "         1.0945e-04, -1.2549e+00, -4.3874e-01,  9.1278e-01,  2.4783e-02,\n",
       "        -1.0992e+00, -6.5722e-01,  2.2510e-01,  4.3213e-01, -4.6856e-01,\n",
       "         1.3856e+00, -1.7091e-01, -1.0837e-01, -4.6740e-01,  2.2340e+00,\n",
       "        -1.0441e+00, -5.1675e-01, -3.7776e-01, -1.8501e+00, -7.7721e-01,\n",
       "        -3.0080e-02,  5.2200e-01, -3.0773e-01,  4.3737e-01, -3.5444e-01,\n",
       "        -8.9050e-01, -1.4822e+00,  6.1347e-03, -1.7316e+00,  9.5006e-01,\n",
       "         1.6012e-01,  5.5716e-01, -8.8702e-01, -7.0258e-01, -6.1448e-01,\n",
       "         1.4175e+00, -5.6885e-01,  1.6380e+00, -5.3406e-01,  5.2219e-01,\n",
       "        -2.9696e-02, -2.0124e-01, -9.6494e-01,  7.0517e-01, -3.9188e-01,\n",
       "         4.7417e-01,  5.1980e-01,  6.3922e-01,  7.0932e-01,  1.4224e-01,\n",
       "        -1.2289e+00, -7.9668e-01,  7.9945e-01,  5.0771e-01, -2.0899e+00,\n",
       "         4.5888e-01, -2.0517e+00, -5.1443e-01,  1.4511e+00, -2.0289e+00,\n",
       "         3.9021e-01,  4.6083e-01,  1.8927e-01, -2.7431e-02, -1.4094e+00,\n",
       "         6.8874e-01, -1.1355e+00,  3.3811e-01, -1.3812e+00, -1.0681e+00],\n",
       "       grad_fn=<SelectBackward0>)"
      ]
     },
     "execution_count": 15,
     "metadata": {},
     "output_type": "execute_result"
    }
   ],
   "source": [
    "print(model.layers[2].out.shape) # output of Linear layer\n",
    "model.layers[2].out[0]"
   ]
  },
  {
   "attachments": {},
   "cell_type": "markdown",
   "metadata": {},
   "source": [
    "This linear layer is basically doing following operation:\n"
   ]
  },
  {
   "cell_type": "code",
   "execution_count": 132,
   "metadata": {},
   "outputs": [
    {
     "data": {
      "text/plain": [
       "torch.Size([4, 200])"
      ]
     },
     "execution_count": 132,
     "metadata": {},
     "output_type": "execute_result"
    }
   ],
   "source": [
    "(torch.randn(4, 80) @ torch.randn(80, 200) + torch.randn(200)).shape"
   ]
  },
  {
   "attachments": {},
   "cell_type": "markdown",
   "metadata": {},
   "source": [
    "But we don't want to concatenate all 8 embedding vectors (of size 10 each) to create a 80 size vector, we want 4 pairs of embedding vectors of size 20 each. This works because matrix multiplication works only on last dimension of first matrix. Hence the below operation works in Linear layer as well:"
   ]
  },
  {
   "cell_type": "code",
   "execution_count": 133,
   "metadata": {},
   "outputs": [
    {
     "data": {
      "text/plain": [
       "torch.Size([4, 4, 200])"
      ]
     },
     "execution_count": 133,
     "metadata": {},
     "output_type": "execute_result"
    }
   ],
   "source": [
    "(torch.randn(4, 4, 20) @ torch.randn(20, 200) + torch.randn(200)).shape"
   ]
  },
  {
   "cell_type": "code",
   "execution_count": 16,
   "metadata": {},
   "outputs": [
    {
     "name": "stdout",
     "output_type": "stream",
     "text": [
      "Embedding : (4, 8, 10)\n",
      "FalttenConsecutive : (4, 80)\n",
      "Linear : (4, 200)\n",
      "BatchNorm1d : (4, 200)\n",
      "Tanh : (4, 200)\n",
      "Linear : (4, 27)\n"
     ]
    }
   ],
   "source": [
    "for layer in model.layers:\n",
    "    print(layer.__class__.__name__, ':', tuple(layer.out.shape))"
   ]
  },
  {
   "cell_type": "code",
   "execution_count": 30,
   "metadata": {},
   "outputs": [
    {
     "name": "stdout",
     "output_type": "stream",
     "text": [
      "Total Parameters: 170897\n"
     ]
    }
   ],
   "source": [
    "def initializeWeights(n_vocab, block_size, n_embed, n_hidden):\n",
    "    \n",
    "  model = Sequential([\n",
    "    Embedding(n_vocab, n_embed),\n",
    "    FalttenConsecutive(2), Linear(n_embed*2, n_hidden, bias=False), BatchNorm1d(n_hidden), Tanh(),\n",
    "    FalttenConsecutive(2), Linear(n_hidden*2, n_hidden, bias=False), BatchNorm1d(n_hidden), Tanh(),\n",
    "    FalttenConsecutive(2), Linear(n_hidden*2, n_hidden, bias=False), BatchNorm1d(n_hidden), Tanh(),\n",
    "    Linear(n_hidden, n_vocab)\n",
    "  ])\n",
    "\n",
    "  with torch.no_grad():\n",
    "    model.layers[-1].weight *= 0.1 # Make last layer less confident\n",
    "  \n",
    "  parameters = model.parameters()\n",
    "  for p in parameters:\n",
    "    p.requires_grad = True\n",
    "\n",
    "  print(f'Total Parameters: {sum(p.nelement() for p in parameters)}')\n",
    "  return model\n",
    "\n",
    "model = initializeWeights(n_vocab, BLOCK_SIZE, N_EMBED, N_HIDDEN)"
   ]
  },
  {
   "cell_type": "code",
   "execution_count": 31,
   "metadata": {},
   "outputs": [
    {
     "name": "stdout",
     "output_type": "stream",
     "text": [
      "torch.Size([4, 8])\n"
     ]
    },
    {
     "data": {
      "text/plain": [
       "tensor([[ 0,  0, 13,  1,  1, 19,  1,  9],\n",
       "        [ 0,  0, 11,  1,  8, 18, 15, 14],\n",
       "        [18, 15, 19,  5, 12,  5, 14,  1],\n",
       "        [ 0,  0,  0,  0,  0,  0,  0,  0]])"
      ]
     },
     "execution_count": 31,
     "metadata": {},
     "output_type": "execute_result"
    }
   ],
   "source": [
    "ix = torch.randint(0, Xtr.shape[0], (4,))\n",
    "Xb, Yb = Xtr[ix], Ytr[ix]\n",
    "logits = model(Xb)\n",
    "\n",
    "print(Xb.shape)\n",
    "Xb"
   ]
  },
  {
   "cell_type": "code",
   "execution_count": 32,
   "metadata": {},
   "outputs": [
    {
     "name": "stdout",
     "output_type": "stream",
     "text": [
      "Embedding : (4, 8, 10)\n",
      "FalttenConsecutive : (4, 4, 20)\n",
      "Linear : (4, 4, 200)\n",
      "BatchNorm1d : (4, 4, 200)\n",
      "Tanh : (4, 4, 200)\n",
      "FalttenConsecutive : (4, 2, 400)\n",
      "Linear : (4, 2, 200)\n",
      "BatchNorm1d : (4, 2, 200)\n",
      "Tanh : (4, 2, 200)\n",
      "FalttenConsecutive : (4, 400)\n",
      "Linear : (4, 200)\n",
      "BatchNorm1d : (4, 200)\n",
      "Tanh : (4, 200)\n",
      "Linear : (4, 27)\n"
     ]
    }
   ],
   "source": [
    "for layer in model.layers:\n",
    "    print(layer.__class__.__name__, ':', tuple(layer.out.shape))"
   ]
  },
  {
   "attachments": {},
   "cell_type": "markdown",
   "metadata": {},
   "source": [
    "---"
   ]
  },
  {
   "cell_type": "code",
   "execution_count": 98,
   "metadata": {},
   "outputs": [
    {
     "name": "stdout",
     "output_type": "stream",
     "text": [
      "      0/ 200000: 3.2893\n",
      "  10000/ 200000: 2.5725\n",
      "  20000/ 200000: 2.4781\n",
      "  30000/ 200000: 1.8565\n",
      "  40000/ 200000: 1.9186\n",
      "  50000/ 200000: 2.1431\n",
      "  60000/ 200000: 2.5908\n",
      "  70000/ 200000: 1.9706\n",
      "  80000/ 200000: 1.8082\n",
      "  90000/ 200000: 2.0895\n",
      " 100000/ 200000: 2.0826\n",
      " 110000/ 200000: 1.9560\n",
      " 120000/ 200000: 1.9226\n",
      " 130000/ 200000: 2.1969\n",
      " 140000/ 200000: 1.9653\n",
      " 150000/ 200000: 2.2003\n",
      " 160000/ 200000: 1.7267\n",
      " 170000/ 200000: 2.1718\n",
      " 180000/ 200000: 1.7756\n",
      " 190000/ 200000: 2.1954\n"
     ]
    },
    {
     "data": {
      "image/png": "[encoded data removed]",
      "text/plain": [
       "<Figure size 640x480 with 1 Axes>"
      ]
     },
     "metadata": {},
     "output_type": "display_data"
    }
   ],
   "source": [
    "def trainModel(X, Y, model, n_epochs, batch_size):\n",
    "  lossi = []\n",
    "  ud = []\n",
    "  parameters = model.parameters()\n",
    "\n",
    "  for epoch in range(n_epochs):\n",
    "\n",
    "    # Minibatch Construct\n",
    "    ix = torch.randint(0, X.shape[0], (batch_size,), generator=g)\n",
    "    X_batch, Y_batch = X[ix], Y[ix] # batch X, Y \n",
    "\n",
    "    # Forward Pass\n",
    "    logits = model(X_batch)\n",
    "    loss = F.cross_entropy(logits, Y_batch)\n",
    "\n",
    "    # Backward Pass\n",
    "    for p in parameters:\n",
    "      p.grad = None\n",
    "    loss.backward()\n",
    "\n",
    "    # Update Parameters\n",
    "    lr = 0.1 if epoch < 100000 else 0.01 # stop learning rate decay\n",
    "    for p in parameters:\n",
    "      p.data += -lr * p.grad\n",
    "    \n",
    "    # Track Stats\n",
    "    lossi.append(loss.log10().item())\n",
    "    with torch.no_grad():\n",
    "      ud.append([(lr*p.grad.std()/p.data.std()).log10().item() for p in parameters])\n",
    "    if epoch % 10000 == 0:\n",
    "      print(f'{epoch:7d}/{n_epochs:7d}: {loss.item():.4f}')\n",
    "  \n",
    "  plt.plot(torch.tensor(lossi).view(-1, 1000).mean(1))\n",
    "  return lossi, ud, parameters\n",
    "\n",
    "lossi, ud, parameters = trainModel(Xtr, Ytr, model, N_EPOCHS, BATCH_SIZE)"
   ]
  },
  {
   "cell_type": "code",
   "execution_count": 103,
   "metadata": {},
   "outputs": [],
   "source": [
    "@torch.no_grad()\n",
    "def loss(X, Y, model):\n",
    "  for layer in model.layers:\n",
    "    layer.training = False\n",
    "  logits = model(X)\n",
    "  loss = F.cross_entropy(logits, Y)\n",
    "  return loss"
   ]
  },
  {
   "cell_type": "code",
   "execution_count": 104,
   "metadata": {},
   "outputs": [
    {
     "name": "stdout",
     "output_type": "stream",
     "text": [
      "Train Loss: 1.932580590248108\n",
      "Val Loss: 2.0354812145233154\n"
     ]
    }
   ],
   "source": [
    "print(f'Train Loss: {loss(Xtr, Ytr, model)}')\n",
    "print(f'Val Loss: {loss(Xdev, Ydev, model)}')"
   ]
  },
  {
   "cell_type": "code",
   "execution_count": 105,
   "metadata": {},
   "outputs": [],
   "source": [
    "def generateExample(model, block_size, itos):\n",
    "  out = []\n",
    "  context = [0] * block_size\n",
    "  while True:\n",
    "    logits = model(torch.tensor([context]))\n",
    "    probs = F.softmax(logits, dim=1)\n",
    "    ix = torch.multinomial(probs, num_samples=1, generator=g).item()\n",
    "    context = context[1:] + [ix]\n",
    "    out.append(ix)\n",
    "    if ix == 0:\n",
    "      break\n",
    "  return ''.join(itos[i] for i in out)\n",
    "\n",
    "def generateExamples(model, block_size, itos, numExamples = 20):\n",
    "  for layer in model.layers:\n",
    "    layer.training = False\n",
    "  examples = []\n",
    "  for _ in range(numExamples):\n",
    "    example = generateExample(model, block_size, itos)\n",
    "    examples.append(example)\n",
    "  return examples"
   ]
  },
  {
   "cell_type": "code",
   "execution_count": 106,
   "metadata": {},
   "outputs": [
    {
     "name": "stdout",
     "output_type": "stream",
     "text": [
      "Generated Examples: ['aurian.', 'moal.', 'julliohi.', 'lovenice.', 'leoralene.', 'zuda.', 'tatee.', 'jreelyn.', 'elissa.', 'jassir.', 'aeya.', 'ezer.', 'matlay.', 'tamarim.', 'henza.', 'maira.', 'moe.', 'hobree.', 'meisen.', 'jenna.']\n"
     ]
    }
   ],
   "source": [
    "examples = generateExamples(model, BLOCK_SIZE, itos)\n",
    "print(f'Generated Examples: {examples}')"
   ]
  },
  {
   "cell_type": "code",
   "execution_count": null,
   "metadata": {},
   "outputs": [],
   "source": []
  }
 ],
 "metadata": {
  "kernelspec": {
   "display_name": "dev-gpu",
   "language": "python",
   "name": "python3"
  },
  "language_info": {
   "codemirror_mode": {
    "name": "ipython",
    "version": 3
   },
   "file_extension": ".py",
   "mimetype": "text/x-python",
   "name": "python",
   "nbconvert_exporter": "python",
   "pygments_lexer": "ipython3",
   "version": "3.10.9"
  },
  "orig_nbformat": 4
 },
 "nbformat": 4,
 "nbformat_minor": 2
}
