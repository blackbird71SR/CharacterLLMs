{
 "cells": [
  {
   "attachments": {},
   "cell_type": "markdown",
   "metadata": {},
   "source": [
    "### Loss Log\n",
    "\n",
    "| No. | Model                                           | Train Loss | Dev Loss |\n",
    "| --- | ----------------------------------------------- | ---------- | -------- |\n",
    "| 1   | NN v3 - 3 char context, 200 hidden, 12K params                       | 2.062      | 2.106    |\n",
    "| 2   | Context Change: 8 char context, 200 hidden, 22K params                  | 1.932      | 2.035    |\n",
    "| 3   | Flat -> Hierarchical: 8 char context, 200 hidden, 22K params                  | 1.949      | 2.029    |"
   ]
  },
  {
   "cell_type": "code",
   "execution_count": 1,
   "metadata": {},
   "outputs": [],
   "source": [
    "import torch\n",
    "import torch.nn.functional as F\n",
    "import matplotlib.pyplot as plt\n",
    "import random\n",
    "\n",
    "torch.manual_seed(42)\n",
    "\n",
    "%matplotlib inline"
   ]
  },
  {
   "cell_type": "code",
   "execution_count": 15,
   "metadata": {},
   "outputs": [],
   "source": [
    "BLOCK_SIZE = 8\n",
    "N_EMBED = 10\n",
    "N_HIDDEN = 200\n",
    "N_EPOCHS = 200000\n",
    "BATCH_SIZE = 32\n",
    "g = torch.Generator().manual_seed(2147483647)"
   ]
  },
  {
   "cell_type": "code",
   "execution_count": 16,
   "metadata": {},
   "outputs": [],
   "source": [
    "def createWordsMapping(filename = 'names.txt'):\n",
    "  words = open(filename, 'r').read().splitlines()\n",
    "  chars = sorted(list(set(''.join(words))))\n",
    "  stoi = {s:i+1 for i,s in enumerate(chars)}\n",
    "  stoi['.'] = 0\n",
    "  itos = {i:s for s,i in stoi.items()}\n",
    "  n_vocab = len(stoi)\n",
    "  return words, stoi, itos, n_vocab\n",
    "\n",
    "def buildDataset(words, stoi, block_size):\n",
    "  X, Y = [], []\n",
    "  for w in words:\n",
    "    context = [0] * block_size\n",
    "    for ch in w + '.':\n",
    "      ix = stoi[ch]\n",
    "      X.append(context)\n",
    "      Y.append(ix)\n",
    "      context = context[1:] + [ix]\n",
    "  X = torch.tensor(X)\n",
    "  Y = torch.tensor(Y)\n",
    "  return X,Y\n",
    "\n",
    "def buildDatasets(words, stoi, block_size):\n",
    "  random.seed(42)\n",
    "  random.shuffle(words)\n",
    "  \n",
    "  n1 = int(0.8 * len(words))\n",
    "  n2 = int(0.9 * len(words))\n",
    "  \n",
    "  Xtr, Ytr = buildDataset(words[:n1], stoi, block_size)\n",
    "  Xdev, Ydev = buildDataset(words[n1:n2], stoi, block_size)\n",
    "  Xte, Yte = buildDataset(words[n2:], stoi, block_size)\n",
    "\n",
    "  return Xtr, Ytr, Xdev, Ydev, Xte, Yte"
   ]
  },
  {
   "cell_type": "code",
   "execution_count": 17,
   "metadata": {},
   "outputs": [],
   "source": [
    "words, stoi, itos, n_vocab = createWordsMapping()\n",
    "Xtr, Ytr, Xdev, Ydev, Xte, Yte = buildDatasets(words, stoi, BLOCK_SIZE)\n",
    "n_embed, n_hidden, block_size, n_epochs, batch_size = N_EMBED, N_HIDDEN, BLOCK_SIZE, N_EPOCHS, BATCH_SIZE\n",
    "X, Y = Xtr, Ytr"
   ]
  },
  {
   "cell_type": "code",
   "execution_count": 18,
   "metadata": {},
   "outputs": [],
   "source": [
    "class Linear:\n",
    "  \n",
    "  def __init__(self, fan_in, fan_out, bias=True):\n",
    "    self.weight = torch.randn((fan_in, fan_out), generator=g)/ fan_in**0.5\n",
    "    self.bias = torch.zeros(fan_out) if bias else None\n",
    "\n",
    "  def __call__(self, x):\n",
    "    self.out = x @ self.weight\n",
    "    if self.bias is not None:\n",
    "      self.out += self.bias\n",
    "    return self.out\n",
    "  \n",
    "  def parameters(self):\n",
    "    return [self.weight] + ([] if self.bias is None else [self.bias])\n",
    "\n",
    "\n",
    "class BatchNorm1d:\n",
    "\n",
    "  def __init__(self, dim, eps=1e-5, momentum=0.1):\n",
    "    self.eps = eps\n",
    "    self.momentum = momentum\n",
    "    self.training = True\n",
    "    # parameters (trained with backprop)\n",
    "    self.gamma = torch.ones(dim)\n",
    "    self.beta = torch.zeros(dim)\n",
    "    # buffers (trained with a running 'momentum update')\n",
    "    self.running_mean = torch.zeros(dim)\n",
    "    self.running_var = torch.ones(dim)\n",
    "\n",
    "  def __call__(self, x):\n",
    "    if self.training:\n",
    "      xmean = x.mean(0, keepdims=True)\n",
    "      xvar = x.var(0, keepdims=True, unbiased=True)\n",
    "    else:\n",
    "      xmean = self.running_mean\n",
    "      xvar = self.running_var\n",
    "    xhat = (x - xmean)/torch.sqrt(xvar + self.eps) # normalize to unit variance\n",
    "    self.out = self.gamma * xhat + self.beta\n",
    "\n",
    "    if self.training:\n",
    "      with torch.no_grad():\n",
    "        self.running_mean = (1-self.momentum) * self.running_mean + self.momentum * xmean\n",
    "        self.running_var = (1-self.momentum) * self.running_var + self.momentum *xvar\n",
    "    return self.out\n",
    "\n",
    "  def parameters(self):\n",
    "    return [self.gamma, self.beta]\n",
    "\n",
    "class Tanh:\n",
    "\n",
    "  def __call__(self, x):\n",
    "    self.out = torch.tanh(x)\n",
    "    return self.out\n",
    "  \n",
    "  def parameters(self):\n",
    "    return []\n",
    "  \n",
    "class Embedding:\n",
    "\n",
    "  def __init__(self, num_embeddings, embedding_dim):\n",
    "    self.weight = torch.randn((num_embeddings, embedding_dim))\n",
    "\n",
    "  def __call__(self, IX):\n",
    "    self.out = self.weight[IX]\n",
    "    return self.out\n",
    "  \n",
    "  def parameters(self):\n",
    "    return [self.weight]\n",
    "  \n",
    "class FalttenConsecutive:\n",
    "\n",
    "  def __init__(self, n):\n",
    "    self.n = n\n",
    "\n",
    "  def __call__(self, x):\n",
    "    B,T,C = x.shape\n",
    "    x = x.view(B, T//self.n, C*self.n)\n",
    "    if x.shape[1] == 1:\n",
    "      x = x.squeeze(1)\n",
    "    self.out = x\n",
    "    return self.out\n",
    "  \n",
    "  def parameters(self):\n",
    "    return []\n",
    "  \n",
    "class Sequential:\n",
    "\n",
    "  def __init__(self, layers):\n",
    "    self.layers = layers\n",
    "\n",
    "  def __call__(self, x):\n",
    "    for layer in self.layers:\n",
    "      x = layer(x)\n",
    "    self.out = x\n",
    "    return self.out\n",
    "  \n",
    "  def parameters(self):\n",
    "    return [p for layer in self.layers for p in layer.parameters()]"
   ]
  },
  {
   "cell_type": "code",
   "execution_count": 19,
   "metadata": {},
   "outputs": [
    {
     "name": "stdout",
     "output_type": "stream",
     "text": [
      "Total Parameters: 22097\n"
     ]
    }
   ],
   "source": [
    "def initializeWeights(n_vocab, block_size, n_embed, n_hidden):\n",
    "    \n",
    "  model = Sequential([\n",
    "    Embedding(n_vocab, n_embed),\n",
    "    FalttenConsecutive(block_size),\n",
    "    Linear(n_embed*block_size, n_hidden, bias=False),\n",
    "    BatchNorm1d(n_hidden),\n",
    "    Tanh(),\n",
    "    Linear(n_hidden, n_vocab)\n",
    "  ])\n",
    "\n",
    "  with torch.no_grad():\n",
    "    model.layers[-1].weight *= 0.1 # Make last layer less confident\n",
    "  \n",
    "  parameters = model.parameters()\n",
    "  for p in parameters:\n",
    "    p.requires_grad = True\n",
    "\n",
    "  print(f'Total Parameters: {sum(p.nelement() for p in parameters)}')\n",
    "  return model\n",
    "\n",
    "model = initializeWeights(n_vocab, BLOCK_SIZE, N_EMBED, N_HIDDEN)"
   ]
  },
  {
   "attachments": {},
   "cell_type": "markdown",
   "metadata": {},
   "source": [
    "---"
   ]
  },
  {
   "cell_type": "code",
   "execution_count": 20,
   "metadata": {},
   "outputs": [
    {
     "name": "stdout",
     "output_type": "stream",
     "text": [
      "torch.Size([4, 8])\n"
     ]
    },
    {
     "data": {
      "text/plain": [
       "tensor([[ 0,  0,  0,  0,  0, 16,  5, 20],\n",
       "        [ 0,  0,  0,  0,  0,  0,  0,  0],\n",
       "        [ 0,  0,  0,  0,  0, 15, 19,  5],\n",
       "        [ 0,  0,  0,  0,  0,  0,  0,  0]])"
      ]
     },
     "execution_count": 20,
     "metadata": {},
     "output_type": "execute_result"
    }
   ],
   "source": [
    "ix = torch.randint(0, Xtr.shape[0], (4,))\n",
    "Xb, Yb = Xtr[ix], Ytr[ix]\n",
    "logits = model(Xb)\n",
    "\n",
    "print(Xb.shape)\n",
    "Xb"
   ]
  },
  {
   "cell_type": "code",
   "execution_count": 21,
   "metadata": {},
   "outputs": [
    {
     "name": "stdout",
     "output_type": "stream",
     "text": [
      "torch.Size([4, 8, 10])\n"
     ]
    },
    {
     "data": {
      "text/plain": [
       "tensor([[ 1.1428, -0.0059,  0.3342,  1.3584, -0.9938,  1.4082,  1.0748, -0.2850,\n",
       "          0.5397,  1.6047],\n",
       "        [ 1.1428, -0.0059,  0.3342,  1.3584, -0.9938,  1.4082,  1.0748, -0.2850,\n",
       "          0.5397,  1.6047],\n",
       "        [ 1.1428, -0.0059,  0.3342,  1.3584, -0.9938,  1.4082,  1.0748, -0.2850,\n",
       "          0.5397,  1.6047],\n",
       "        [ 1.1428, -0.0059,  0.3342,  1.3584, -0.9938,  1.4082,  1.0748, -0.2850,\n",
       "          0.5397,  1.6047],\n",
       "        [ 1.1428, -0.0059,  0.3342,  1.3584, -0.9938,  1.4082,  1.0748, -0.2850,\n",
       "          0.5397,  1.6047],\n",
       "        [-1.5926, -0.8196,  0.7568,  0.2921, -0.8154,  1.7449, -0.0380, -2.1266,\n",
       "         -1.0751,  1.5753],\n",
       "        [ 0.8713,  0.7700,  0.3684, -0.7939, -2.9684,  0.2638,  0.4108, -1.4492,\n",
       "          1.3606,  0.0959],\n",
       "        [ 0.2819,  0.7550, -0.1216,  1.4171, -0.4111,  1.1039, -0.6529,  0.2741,\n",
       "         -1.6033, -1.1177]], grad_fn=<SelectBackward0>)"
      ]
     },
     "execution_count": 21,
     "metadata": {},
     "output_type": "execute_result"
    }
   ],
   "source": [
    "print(model.layers[0].out.shape) # output of embedding layer\n",
    "model.layers[0].out[0]"
   ]
  },
  {
   "cell_type": "code",
   "execution_count": 22,
   "metadata": {},
   "outputs": [
    {
     "name": "stdout",
     "output_type": "stream",
     "text": [
      "torch.Size([4, 80])\n"
     ]
    },
    {
     "data": {
      "text/plain": [
       "tensor([ 1.1428, -0.0059,  0.3342,  1.3584, -0.9938,  1.4082,  1.0748, -0.2850,\n",
       "         0.5397,  1.6047,  1.1428, -0.0059,  0.3342,  1.3584, -0.9938,  1.4082,\n",
       "         1.0748, -0.2850,  0.5397,  1.6047,  1.1428, -0.0059,  0.3342,  1.3584,\n",
       "        -0.9938,  1.4082,  1.0748, -0.2850,  0.5397,  1.6047,  1.1428, -0.0059,\n",
       "         0.3342,  1.3584, -0.9938,  1.4082,  1.0748, -0.2850,  0.5397,  1.6047,\n",
       "         1.1428, -0.0059,  0.3342,  1.3584, -0.9938,  1.4082,  1.0748, -0.2850,\n",
       "         0.5397,  1.6047, -1.5926, -0.8196,  0.7568,  0.2921, -0.8154,  1.7449,\n",
       "        -0.0380, -2.1266, -1.0751,  1.5753,  0.8713,  0.7700,  0.3684, -0.7939,\n",
       "        -2.9684,  0.2638,  0.4108, -1.4492,  1.3606,  0.0959,  0.2819,  0.7550,\n",
       "        -0.1216,  1.4171, -0.4111,  1.1039, -0.6529,  0.2741, -1.6033, -1.1177],\n",
       "       grad_fn=<SelectBackward0>)"
      ]
     },
     "execution_count": 22,
     "metadata": {},
     "output_type": "execute_result"
    }
   ],
   "source": [
    "print(model.layers[1].out.shape) # output of Flatten layer\n",
    "model.layers[1].out[0]"
   ]
  },
  {
   "cell_type": "code",
   "execution_count": 23,
   "metadata": {},
   "outputs": [
    {
     "name": "stdout",
     "output_type": "stream",
     "text": [
      "torch.Size([4, 200])\n"
     ]
    },
    {
     "data": {
      "text/plain": [
       "tensor([ 7.8794e-01, -8.1537e-01, -3.7338e-01,  2.1959e-01,  1.1223e+00,\n",
       "        -1.2482e-01,  6.6252e-01,  4.4337e-01, -1.3637e+00,  8.9591e-02,\n",
       "         1.5849e+00, -1.5164e-01, -5.4185e-02, -1.0877e+00,  4.9242e-01,\n",
       "         2.1171e+00, -3.2336e-01,  1.1701e+00, -1.6772e+00, -1.2161e+00,\n",
       "        -7.8427e-01,  7.7618e-02,  7.0279e-01, -3.2755e-01,  9.4752e-01,\n",
       "        -9.0833e-01,  5.0755e-01, -6.8757e-01, -1.1312e+00, -1.4349e+00,\n",
       "        -5.9635e-01, -1.3653e+00,  4.1389e-01, -3.8430e-01,  1.2405e+00,\n",
       "        -4.8781e-01, -3.3578e-01, -7.3915e-01, -7.9455e-01, -3.7722e-01,\n",
       "        -3.1885e-01, -1.5208e+00,  5.4209e-01,  1.3910e+00, -1.0990e+00,\n",
       "        -1.0195e+00,  5.4112e-02, -1.3322e+00, -1.5330e+00,  7.1223e-01,\n",
       "         6.5261e-01,  1.0837e+00, -1.4728e+00, -1.9758e+00,  9.1405e-01,\n",
       "        -1.2785e+00,  2.2319e-01, -1.0611e+00, -9.8814e-01, -1.6226e+00,\n",
       "        -2.2667e+00, -1.7792e+00, -1.1916e+00,  8.1718e-01, -7.4427e-01,\n",
       "         1.2002e+00,  8.7399e-01,  1.3203e-01, -3.5673e-01,  3.5037e-02,\n",
       "        -6.1207e-01,  7.6261e-01,  4.9628e-01, -2.2161e-01,  8.7574e-01,\n",
       "        -6.7177e-01,  1.0014e+00,  6.4253e-01, -1.0465e-02,  2.4525e+00,\n",
       "        -1.0582e+00,  2.8131e-03,  4.7207e-01, -9.3528e-01, -1.4710e-01,\n",
       "         7.5012e-01,  5.5178e-01,  3.1149e-02, -2.8308e+00, -1.3585e+00,\n",
       "         1.1665e-01,  1.8994e+00,  8.0352e-01, -6.6197e-01, -1.0413e+00,\n",
       "         6.7269e-02,  5.8054e-01, -7.6088e-01, -2.6568e-01,  1.4763e-01,\n",
       "         1.1209e+00, -1.3813e+00, -2.9025e-01,  9.9193e-01,  5.6887e-01,\n",
       "        -1.4279e+00, -1.9788e+00, -1.5025e-01, -2.4697e-01, -6.7535e-01,\n",
       "         1.1022e+00,  2.9723e-01,  2.9266e-01,  8.3247e-01,  4.9770e-01,\n",
       "         8.2481e-01,  5.3056e-01, -1.4002e+00, -2.6178e-01,  4.1571e-01,\n",
       "        -1.1530e+00,  6.3797e-01, -1.8936e-01, -3.1524e-02,  1.6505e-01,\n",
       "         1.7122e+00,  6.6736e-01,  1.1633e+00, -2.1641e-01, -8.7204e-01,\n",
       "        -1.9812e-01, -1.1740e+00, -2.2906e+00, -7.3562e-01,  3.9268e-01,\n",
       "         3.3219e-01,  1.5840e+00, -1.0621e+00,  1.7925e+00,  9.8073e-01,\n",
       "         2.2912e+00,  5.0471e-01,  1.8642e-01,  2.5874e-01,  4.7409e-01,\n",
       "         2.6009e-01, -8.7503e-01,  3.9655e-01,  4.8713e-01,  3.0772e-01,\n",
       "         8.3938e-02, -1.2115e+00, -4.8010e-02,  4.3507e-01,  2.8356e-01,\n",
       "        -8.8668e-01, -1.3900e-01, -4.4810e-01,  6.2659e-01,  2.0850e+00,\n",
       "        -9.9200e-01,  9.1657e-01, -2.8267e-01,  1.8181e+00,  4.2142e-02,\n",
       "         1.5215e+00, -3.4628e-01, -9.6912e-02,  2.0586e+00,  1.3378e+00,\n",
       "        -7.9866e-01,  7.0827e-01,  7.5595e-01, -1.5668e+00, -2.8057e-01,\n",
       "         3.0743e-01,  5.2624e-01,  3.5349e-01, -1.7368e-01, -3.6394e-01,\n",
       "         1.4826e+00, -1.3866e+00, -1.9436e+00,  6.3316e-01,  2.1782e-02,\n",
       "         2.6307e-01, -2.0381e-01,  4.7076e-01, -8.3863e-01,  8.4320e-01,\n",
       "        -6.7519e-02,  1.2316e-01,  1.1097e+00,  5.9619e-01, -1.2140e+00,\n",
       "         1.9407e+00,  2.1619e+00, -3.0109e-02,  1.5067e+00, -2.2007e-02],\n",
       "       grad_fn=<SelectBackward0>)"
      ]
     },
     "execution_count": 23,
     "metadata": {},
     "output_type": "execute_result"
    }
   ],
   "source": [
    "print(model.layers[2].out.shape) # output of Linear layer\n",
    "model.layers[2].out[0]"
   ]
  },
  {
   "attachments": {},
   "cell_type": "markdown",
   "metadata": {},
   "source": [
    "This linear layer is basically doing following operation:\n"
   ]
  },
  {
   "cell_type": "code",
   "execution_count": 24,
   "metadata": {},
   "outputs": [
    {
     "data": {
      "text/plain": [
       "torch.Size([4, 200])"
      ]
     },
     "execution_count": 24,
     "metadata": {},
     "output_type": "execute_result"
    }
   ],
   "source": [
    "(torch.randn(4, 80) @ torch.randn(80, 200) + torch.randn(200)).shape"
   ]
  },
  {
   "attachments": {},
   "cell_type": "markdown",
   "metadata": {},
   "source": [
    "But we don't want to concatenate all 8 embedding vectors (of size 10 each) to create a 80 size vector, we want 4 pairs of embedding vectors of size 20 each. This works because matrix multiplication works only on last dimension of first matrix. Hence the below operation works in Linear layer as well:"
   ]
  },
  {
   "cell_type": "code",
   "execution_count": 25,
   "metadata": {},
   "outputs": [
    {
     "data": {
      "text/plain": [
       "torch.Size([4, 4, 200])"
      ]
     },
     "execution_count": 25,
     "metadata": {},
     "output_type": "execute_result"
    }
   ],
   "source": [
    "(torch.randn(4, 4, 20) @ torch.randn(20, 200) + torch.randn(200)).shape"
   ]
  },
  {
   "cell_type": "code",
   "execution_count": 26,
   "metadata": {},
   "outputs": [
    {
     "name": "stdout",
     "output_type": "stream",
     "text": [
      "Embedding : (4, 8, 10)\n",
      "FalttenConsecutive : (4, 80)\n",
      "Linear : (4, 200)\n",
      "BatchNorm1d : (4, 200)\n",
      "Tanh : (4, 200)\n",
      "Linear : (4, 27)\n"
     ]
    }
   ],
   "source": [
    "for layer in model.layers:\n",
    "    print(layer.__class__.__name__, ':', tuple(layer.out.shape))"
   ]
  },
  {
   "cell_type": "code",
   "execution_count": 28,
   "metadata": {},
   "outputs": [
    {
     "name": "stdout",
     "output_type": "stream",
     "text": [
      "Total Parameters: 22397\n"
     ]
    }
   ],
   "source": [
    "def initializeWeights(n_vocab, block_size, n_embed, n_hidden):\n",
    "    \n",
    "  model = Sequential([\n",
    "    Embedding(n_vocab, n_embed),\n",
    "    FalttenConsecutive(2), Linear(n_embed*2, n_hidden, bias=False), BatchNorm1d(n_hidden), Tanh(),\n",
    "    FalttenConsecutive(2), Linear(n_hidden*2, n_hidden, bias=False), BatchNorm1d(n_hidden), Tanh(),\n",
    "    FalttenConsecutive(2), Linear(n_hidden*2, n_hidden, bias=False), BatchNorm1d(n_hidden), Tanh(),\n",
    "    Linear(n_hidden, n_vocab)\n",
    "  ])\n",
    "\n",
    "  with torch.no_grad():\n",
    "    model.layers[-1].weight *= 0.1 # Make last layer less confident\n",
    "  \n",
    "  parameters = model.parameters()\n",
    "  for p in parameters:\n",
    "    p.requires_grad = True\n",
    "\n",
    "  print(f'Total Parameters: {sum(p.nelement() for p in parameters)}')\n",
    "  return model\n",
    "\n",
    "model = initializeWeights(n_vocab, BLOCK_SIZE, N_EMBED, 68)"
   ]
  },
  {
   "cell_type": "code",
   "execution_count": 29,
   "metadata": {},
   "outputs": [
    {
     "name": "stdout",
     "output_type": "stream",
     "text": [
      "torch.Size([4, 8])\n"
     ]
    },
    {
     "data": {
      "text/plain": [
       "tensor([[ 0,  0,  0,  0, 20,  5, 18, 18],\n",
       "        [ 0,  0,  0,  0,  0,  0,  0, 16],\n",
       "        [ 0,  0,  0,  0,  0,  0,  0, 19],\n",
       "        [18, 21, 17,  1,  9, 25,  1,  8]])"
      ]
     },
     "execution_count": 29,
     "metadata": {},
     "output_type": "execute_result"
    }
   ],
   "source": [
    "ix = torch.randint(0, Xtr.shape[0], (4,))\n",
    "Xb, Yb = Xtr[ix], Ytr[ix]\n",
    "logits = model(Xb)\n",
    "\n",
    "print(Xb.shape)\n",
    "Xb"
   ]
  },
  {
   "cell_type": "code",
   "execution_count": 30,
   "metadata": {},
   "outputs": [
    {
     "name": "stdout",
     "output_type": "stream",
     "text": [
      "Embedding : (4, 8, 10)\n",
      "FalttenConsecutive : (4, 4, 20)\n",
      "Linear : (4, 4, 68)\n",
      "BatchNorm1d : (4, 4, 68)\n",
      "Tanh : (4, 4, 68)\n",
      "FalttenConsecutive : (4, 2, 136)\n",
      "Linear : (4, 2, 68)\n",
      "BatchNorm1d : (4, 2, 68)\n",
      "Tanh : (4, 2, 68)\n",
      "FalttenConsecutive : (4, 136)\n",
      "Linear : (4, 68)\n",
      "BatchNorm1d : (4, 68)\n",
      "Tanh : (4, 68)\n",
      "Linear : (4, 27)\n"
     ]
    }
   ],
   "source": [
    "for layer in model.layers:\n",
    "    print(layer.__class__.__name__, ':', tuple(layer.out.shape))"
   ]
  },
  {
   "attachments": {},
   "cell_type": "markdown",
   "metadata": {},
   "source": [
    "---"
   ]
  },
  {
   "cell_type": "code",
   "execution_count": 31,
   "metadata": {},
   "outputs": [
    {
     "name": "stdout",
     "output_type": "stream",
     "text": [
      "      0/ 200000: 3.2944\n",
      "  10000/ 200000: 2.4813\n",
      "  20000/ 200000: 1.7648\n",
      "  30000/ 200000: 2.0762\n",
      "  40000/ 200000: 2.1419\n",
      "  50000/ 200000: 1.8504\n",
      "  60000/ 200000: 2.3352\n",
      "  70000/ 200000: 2.5015\n",
      "  80000/ 200000: 2.0774\n",
      "  90000/ 200000: 2.0517\n",
      " 100000/ 200000: 2.2974\n",
      " 110000/ 200000: 1.8397\n",
      " 120000/ 200000: 2.1459\n",
      " 130000/ 200000: 1.6140\n",
      " 140000/ 200000: 2.5750\n",
      " 150000/ 200000: 2.4930\n",
      " 160000/ 200000: 1.9730\n",
      " 170000/ 200000: 1.6440\n",
      " 180000/ 200000: 1.4709\n",
      " 190000/ 200000: 2.1189\n"
     ]
    },
    {
     "data": {
      "image/png": "[encoded data removed]",
      "text/plain": [
       "<Figure size 640x480 with 1 Axes>"
      ]
     },
     "metadata": {},
     "output_type": "display_data"
    }
   ],
   "source": [
    "def trainModel(X, Y, model, n_epochs, batch_size):\n",
    "  lossi = []\n",
    "  ud = []\n",
    "  parameters = model.parameters()\n",
    "\n",
    "  for epoch in range(n_epochs):\n",
    "\n",
    "    # Minibatch Construct\n",
    "    ix = torch.randint(0, X.shape[0], (batch_size,), generator=g)\n",
    "    X_batch, Y_batch = X[ix], Y[ix] # batch X, Y \n",
    "\n",
    "    # Forward Pass\n",
    "    logits = model(X_batch)\n",
    "    loss = F.cross_entropy(logits, Y_batch)\n",
    "\n",
    "    # Backward Pass\n",
    "    for p in parameters:\n",
    "      p.grad = None\n",
    "    loss.backward()\n",
    "\n",
    "    # Update Parameters\n",
    "    lr = 0.1 if epoch < 100000 else 0.01 # stop learning rate decay\n",
    "    for p in parameters:\n",
    "      p.data += -lr * p.grad\n",
    "    \n",
    "    # Track Stats\n",
    "    lossi.append(loss.log10().item())\n",
    "    with torch.no_grad():\n",
    "      ud.append([(lr*p.grad.std()/p.data.std()).log10().item() for p in parameters])\n",
    "    if epoch % 10000 == 0:\n",
    "      print(f'{epoch:7d}/{n_epochs:7d}: {loss.item():.4f}')\n",
    "  \n",
    "  plt.plot(torch.tensor(lossi).view(-1, 1000).mean(1))\n",
    "  return lossi, ud, parameters\n",
    "\n",
    "lossi, ud, parameters = trainModel(Xtr, Ytr, model, N_EPOCHS, BATCH_SIZE)"
   ]
  },
  {
   "cell_type": "code",
   "execution_count": 32,
   "metadata": {},
   "outputs": [],
   "source": [
    "@torch.no_grad()\n",
    "def loss(X, Y, model):\n",
    "  for layer in model.layers:\n",
    "    layer.training = False\n",
    "  logits = model(X)\n",
    "  loss = F.cross_entropy(logits, Y)\n",
    "  return loss"
   ]
  },
  {
   "cell_type": "code",
   "execution_count": 33,
   "metadata": {},
   "outputs": [
    {
     "name": "stdout",
     "output_type": "stream",
     "text": [
      "Train Loss: 1.9494009017944336\n",
      "Val Loss: 2.0295262336730957\n"
     ]
    }
   ],
   "source": [
    "print(f'Train Loss: {loss(Xtr, Ytr, model)}')\n",
    "print(f'Val Loss: {loss(Xdev, Ydev, model)}')"
   ]
  },
  {
   "cell_type": "code",
   "execution_count": 34,
   "metadata": {},
   "outputs": [],
   "source": [
    "def generateExample(model, block_size, itos):\n",
    "  out = []\n",
    "  context = [0] * block_size\n",
    "  while True:\n",
    "    logits = model(torch.tensor([context]))\n",
    "    probs = F.softmax(logits, dim=1)\n",
    "    ix = torch.multinomial(probs, num_samples=1, generator=g).item()\n",
    "    context = context[1:] + [ix]\n",
    "    out.append(ix)\n",
    "    if ix == 0:\n",
    "      break\n",
    "  return ''.join(itos[i] for i in out)\n",
    "\n",
    "def generateExamples(model, block_size, itos, numExamples = 20):\n",
    "  for layer in model.layers:\n",
    "    layer.training = False\n",
    "  examples = []\n",
    "  for _ in range(numExamples):\n",
    "    example = generateExample(model, block_size, itos)\n",
    "    examples.append(example)\n",
    "  return examples"
   ]
  },
  {
   "cell_type": "code",
   "execution_count": 35,
   "metadata": {},
   "outputs": [
    {
     "name": "stdout",
     "output_type": "stream",
     "text": [
      "Generated Examples: ['braxgi.', 'noet.', 'lakin.', 'rhil.', 'maklaud.', 'trissa.', 'olinn.', 'tebela.', 'telin.', 'junep.', 'maris.', 'isandry.', 'jam.', 'phrazber.', 'lauriza.', 'kisca.', 'alex.', 'ohavanmia.', 'jeylis.', 'shamanie.']\n"
     ]
    }
   ],
   "source": [
    "examples = generateExamples(model, BLOCK_SIZE, itos)\n",
    "print(f'Generated Examples: {examples}')"
   ]
  },
  {
   "cell_type": "code",
   "execution_count": null,
   "metadata": {},
   "outputs": [],
   "source": []
  }
 ],
 "metadata": {
  "kernelspec": {
   "display_name": "dev-gpu",
   "language": "python",
   "name": "python3"
  },
  "language_info": {
   "codemirror_mode": {
    "name": "ipython",
    "version": 3
   },
   "file_extension": ".py",
   "mimetype": "text/x-python",
   "name": "python",
   "nbconvert_exporter": "python",
   "pygments_lexer": "ipython3",
   "version": "3.10.9"
  },
  "orig_nbformat": 4
 },
 "nbformat": 4,
 "nbformat_minor": 2
}
