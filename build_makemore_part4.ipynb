{
 "cells": [
  {
   "cell_type": "code",
   "execution_count": 15,
   "metadata": {},
   "outputs": [],
   "source": [
    "import torch\n",
    "import torch.nn.functional as F\n",
    "import matplotlib.pyplot as plt\n",
    "import random\n",
    "\n",
    "torch.manual_seed(42)\n",
    "\n",
    "%matplotlib inline"
   ]
  },
  {
   "cell_type": "code",
   "execution_count": 16,
   "metadata": {},
   "outputs": [],
   "source": [
    "BLOCK_SIZE = 3\n",
    "N_EMBED = 10\n",
    "N_HIDDEN = 200\n",
    "N_EPOCHS = 200000\n",
    "BATCH_SIZE = 32\n",
    "g = torch.Generator().manual_seed(2147483647)"
   ]
  },
  {
   "cell_type": "code",
   "execution_count": 17,
   "metadata": {},
   "outputs": [],
   "source": [
    "def createWordsMapping(filename = 'names.txt'):\n",
    "  words = open(filename, 'r').read().splitlines()\n",
    "  chars = sorted(list(set(''.join(words))))\n",
    "  stoi = {s:i+1 for i,s in enumerate(chars)}\n",
    "  stoi['.'] = 0\n",
    "  itos = {i:s for s,i in stoi.items()}\n",
    "  n_vocab = len(stoi)\n",
    "  return words, stoi, itos, n_vocab\n",
    "\n",
    "def buildDataset(words, block_size):\n",
    "  X, Y = [], []\n",
    "  for w in words:\n",
    "    context = [0] * block_size\n",
    "    for ch in w + '.':\n",
    "      ix = stoi[ch]\n",
    "      X.append(context)\n",
    "      Y.append(ix)\n",
    "      context = context[1:] + [ix]\n",
    "  X = torch.tensor(X)\n",
    "  Y = torch.tensor(Y)\n",
    "  return X,Y\n",
    "\n",
    "def buildDatasets(words, block_size):\n",
    "  random.seed(42)\n",
    "  random.shuffle(words)\n",
    "  \n",
    "  n1 = int(0.8 * len(words))\n",
    "  n2 = int(0.9 * len(words))\n",
    "  \n",
    "  Xtr, Ytr = buildDataset(words[:n1], block_size)\n",
    "  Xdev, Ydev = buildDataset(words[n1:n2], block_size)\n",
    "  Xte, Yte = buildDataset(words[n2:], block_size)\n",
    "\n",
    "  return Xtr, Ytr, Xdev, Ydev, Xte, Yte"
   ]
  },
  {
   "cell_type": "code",
   "execution_count": 18,
   "metadata": {},
   "outputs": [],
   "source": [
    "words, stoi, itos, n_vocab = createWordsMapping()\n",
    "Xtr, Ytr, Xdev, Ydev, Xte, Yte = buildDatasets(words, BLOCK_SIZE)\n",
    "n_embed, n_hidden, block_size, n_epochs, batch_size = N_EMBED, N_HIDDEN, BLOCK_SIZE, N_EPOCHS, BATCH_SIZE\n",
    "X, Y = Xtr, Ytr"
   ]
  },
  {
   "cell_type": "code",
   "execution_count": 19,
   "metadata": {},
   "outputs": [],
   "source": [
    "class Linear:\n",
    "  \n",
    "  def __init__(self, fan_in, fan_out, bias=True):\n",
    "    self.weight = torch.randn((fan_in, fan_out), generator=g)/ fan_in**0.5\n",
    "    self.bias = torch.zeros(fan_out) if bias else None\n",
    "\n",
    "  def __call__(self, x):\n",
    "    self.out = x @ self.weight\n",
    "    if self.bias is not None:\n",
    "      self.out += self.bias\n",
    "    return self.out\n",
    "  \n",
    "  def parameters(self):\n",
    "    return [self.weight] + ([] if self.bias is None else [self.bias])\n",
    "\n",
    "\n",
    "class BatchNorm1d:\n",
    "\n",
    "  def __init__(self, dim, eps=1e-5, momentum=0.1):\n",
    "    self.eps = eps\n",
    "    self.momentum = momentum\n",
    "    self.training = True\n",
    "    # parameters (trained with backprop)\n",
    "    self.gamma = torch.ones(dim)\n",
    "    self.beta = torch.zeros(dim)\n",
    "    # buffers (trained with a running 'momentum update')\n",
    "    self.running_mean = torch.zeros(dim)\n",
    "    self.running_var = torch.ones(dim)\n",
    "\n",
    "  def __call__(self, x):\n",
    "    if self.training:\n",
    "      xmean = x.mean(0, keepdims=True)\n",
    "      xvar = x.var(0, keepdims=True, unbiased=True)\n",
    "    else:\n",
    "      xmean = self.running_mean\n",
    "      xvar = self.running_var\n",
    "    xhat = (x - xmean)/torch.sqrt(xvar + self.eps) # normalize to unit variance\n",
    "    self.out = self.gamma * xhat + self.beta\n",
    "\n",
    "    if self.training:\n",
    "      with torch.no_grad():\n",
    "        self.running_mean = (1-self.momentum) * self.running_mean + self.momentum * xmean\n",
    "        self.running_var = (1-self.momentum) * self.running_var + self.momentum *xvar\n",
    "    return self.out\n",
    "\n",
    "  def parameters(self):\n",
    "    return [self.gamma, self.beta]\n",
    "\n",
    "class Tanh:\n",
    "\n",
    "  def __call__(self, x):\n",
    "    self.out = torch.tanh(x)\n",
    "    return self.out\n",
    "  \n",
    "  def parameters(self):\n",
    "    return []"
   ]
  },
  {
   "cell_type": "code",
   "execution_count": 20,
   "metadata": {},
   "outputs": [
    {
     "name": "stdout",
     "output_type": "stream",
     "text": [
      "Total Parameters: 12097\n"
     ]
    }
   ],
   "source": [
    "def initializeWeights(n_vocab, block_size, n_embed, n_hidden):\n",
    "  \n",
    "  C = torch.randn((n_vocab, n_embed), generator=g)\n",
    "  \n",
    "  layers = [\n",
    "    Linear(n_embed*block_size, n_hidden, bias=False),\n",
    "    BatchNorm1d(n_hidden),\n",
    "    Tanh(),\n",
    "    Linear(n_hidden, n_vocab)\n",
    "  ]\n",
    "\n",
    "  with torch.no_grad():\n",
    "    layers[-1].weight *= 0.1 # Make last layer less confident\n",
    "  \n",
    "  parameters = [C] + [p for layer in layers for p in layer.parameters()]\n",
    "  for p in parameters:\n",
    "    p.requires_grad = True\n",
    "\n",
    "  print(f'Total Parameters: {sum(p.nelement() for p in parameters)}')\n",
    "  return layers, parameters\n",
    "\n",
    "layers, parameters = initializeWeights(n_vocab, BLOCK_SIZE, N_EMBED, N_HIDDEN)"
   ]
  },
  {
   "cell_type": "code",
   "execution_count": 21,
   "metadata": {},
   "outputs": [
    {
     "name": "stdout",
     "output_type": "stream",
     "text": [
      "      0/ 200000: 3.3117\n",
      "  10000/ 200000: 2.4403\n",
      "  20000/ 200000: 2.2737\n",
      "  30000/ 200000: 1.9788\n",
      "  40000/ 200000: 2.1093\n",
      "  50000/ 200000: 1.8122\n",
      "  60000/ 200000: 2.0012\n",
      "  70000/ 200000: 2.3298\n",
      "  80000/ 200000: 1.7821\n",
      "  90000/ 200000: 2.2001\n",
      " 100000/ 200000: 2.0125\n",
      " 110000/ 200000: 2.3203\n",
      " 120000/ 200000: 2.2022\n",
      " 130000/ 200000: 2.2252\n",
      " 140000/ 200000: 2.0450\n",
      " 150000/ 200000: 2.0527\n",
      " 160000/ 200000: 2.1273\n",
      " 170000/ 200000: 2.2071\n",
      " 180000/ 200000: 1.8429\n",
      " 190000/ 200000: 2.1286\n"
     ]
    },
    {
     "data": {
      "image/png": "[encoded data removed]",
      "text/plain": [
       "<Figure size 640x480 with 1 Axes>"
      ]
     },
     "metadata": {},
     "output_type": "display_data"
    }
   ],
   "source": [
    "def trainModel(X, Y, layers, parameters, block_size, n_embed, n_epochs, batch_size):\n",
    "  lossi = []\n",
    "  ud = []\n",
    "\n",
    "  for epoch in range(n_epochs):\n",
    "\n",
    "    # Minibatch Construct\n",
    "    ix = torch.randint(0, X.shape[0], (batch_size,), generator=g)\n",
    "    X_batch, Y_batch = X[ix], Y[ix] # batch X, Y \n",
    "\n",
    "    # Forward Pass\n",
    "    emb = parameters[0][X_batch] # embed characters into vectors\n",
    "    x = emb.view(emb.shape[0], -1) # concatentae the vectors\n",
    "    for layer in layers:\n",
    "      x = layer(x)\n",
    "    loss = F.cross_entropy(x, Y_batch)\n",
    "\n",
    "    # Backward Pass\n",
    "    for layer in layers:\n",
    "      layer.out.retain_grad()\n",
    "    for p in parameters:\n",
    "      p.grad = None\n",
    "    loss.backward()\n",
    "\n",
    "    # Update Parameters\n",
    "    lr = 0.1 if epoch < 100000 else 0.01 # stop learning rate decay\n",
    "    for p in parameters:\n",
    "      p.data += -lr * p.grad\n",
    "    \n",
    "    # Track Stats\n",
    "    lossi.append(loss.log10().item())\n",
    "    with torch.no_grad():\n",
    "      ud.append([(lr*p.grad.std()/p.data.std()).log10().item() for p in parameters])\n",
    "    if epoch % 10000 == 0:\n",
    "      print(f'{epoch:7d}/{n_epochs:7d}: {loss.item():.4f}')\n",
    "  \n",
    "  plt.plot(torch.tensor(lossi).view(-1, 1000).mean(1))\n",
    "  return lossi, ud, parameters\n",
    "\n",
    "lossi, ud, parameters = trainModel(Xtr, Ytr, layers, parameters, BLOCK_SIZE, N_EMBED, N_EPOCHS, BATCH_SIZE)"
   ]
  },
  {
   "cell_type": "code",
   "execution_count": 22,
   "metadata": {},
   "outputs": [],
   "source": [
    "@torch.no_grad()\n",
    "def loss(X, Y, layers, parameters):\n",
    "  emb = parameters[0][X]\n",
    "  x = emb.view(emb.shape[0], -1)\n",
    "  for layer in layers:\n",
    "      if isinstance(layer, BatchNorm1d):\n",
    "        layer.training = False\n",
    "      x = layer(x)\n",
    "  loss = F.cross_entropy(x, Y)\n",
    "  return loss"
   ]
  },
  {
   "cell_type": "code",
   "execution_count": 23,
   "metadata": {},
   "outputs": [
    {
     "name": "stdout",
     "output_type": "stream",
     "text": [
      "Train Loss: 2.0637259483337402\n",
      "Val Loss: 2.107517719268799\n"
     ]
    }
   ],
   "source": [
    "print(f'Train Loss: {loss(Xtr, Ytr, layers, parameters)}')\n",
    "print(f'Val Loss: {loss(Xdev, Ydev, layers, parameters)}')"
   ]
  },
  {
   "cell_type": "code",
   "execution_count": 24,
   "metadata": {},
   "outputs": [],
   "source": [
    "def generateExample(layers, parameters, block_size, itos):\n",
    "  out = []\n",
    "  context = [0] * block_size\n",
    "  while True:\n",
    "    emb = parameters[0][torch.tensor([context])] # (1,block_size, d)\n",
    "    x = emb.view(emb.shape[0], -1)\n",
    "    for layer in layers:\n",
    "      if isinstance(layer, BatchNorm1d):\n",
    "        layer.training = False\n",
    "      x = layer(x)\n",
    "    probs = F.softmax(x, dim=1)\n",
    "    ix = torch.multinomial(probs, num_samples=1, generator=g).item()\n",
    "    context = context[1:] + [ix]\n",
    "    out.append(ix)\n",
    "    if ix == 0:\n",
    "      break\n",
    "  return ''.join(itos[i] for i in out)\n",
    "\n",
    "def generateExamples(layers, parameters, block_size, itos, numExamples = 20):\n",
    "  examples = []\n",
    "  for _ in range(numExamples):\n",
    "    example = generateExample(layers, parameters, block_size, itos)\n",
    "    examples.append(example)\n",
    "  return examples"
   ]
  },
  {
   "cell_type": "code",
   "execution_count": 25,
   "metadata": {},
   "outputs": [
    {
     "name": "stdout",
     "output_type": "stream",
     "text": [
      "Generated Examples: ['andaylyn.', 'brannye.', 'aktises.', 'oru.', 'ltnah.', 'oru.', 'caliknazim.', 'a.', 'aletseleyson.', 'prissel.', 'kena.', 'pex.', 'elone.', 'lakynz.', 'falie.', 'yura.', 'mila.', 'maphinglulitaly.', 'kender.', 'drefson.']\n"
     ]
    }
   ],
   "source": [
    "examples = generateExamples(layers, parameters, BLOCK_SIZE, itos)\n",
    "print(f'Generated Examples: {examples}')"
   ]
  },
  {
   "cell_type": "code",
   "execution_count": null,
   "metadata": {},
   "outputs": [],
   "source": []
  }
 ],
 "metadata": {
  "kernelspec": {
   "display_name": "dev-gpu",
   "language": "python",
   "name": "python3"
  },
  "language_info": {
   "codemirror_mode": {
    "name": "ipython",
    "version": 3
   },
   "file_extension": ".py",
   "mimetype": "text/x-python",
   "name": "python",
   "nbconvert_exporter": "python",
   "pygments_lexer": "ipython3",
   "version": "3.10.9"
  },
  "orig_nbformat": 4
 },
 "nbformat": 4,
 "nbformat_minor": 2
}
