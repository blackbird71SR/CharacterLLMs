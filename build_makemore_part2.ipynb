{
 "cells": [
  {
   "attachments": {},
   "cell_type": "markdown",
   "metadata": {},
   "source": [
    "### Loss Log\n",
    "\n",
    "| No. | Model                         | Train Loss | Dev Loss |\n",
    "| --- | ----------------------------- | ---------- | -------- |\n",
    "| 1   | Starter Code (From NN v2)     | 2.125      | 2.172    |\n",
    "| 2   | Fix initial loss in `softmax` | 2.068      | 2.129    |\n",
    "| 3   | Fix saturated `tanh` layer    | 2.036      | 2.104    |"
   ]
  },
  {
   "attachments": {},
   "cell_type": "markdown",
   "metadata": {},
   "source": [
    "### Final Code"
   ]
  },
  {
   "cell_type": "code",
   "execution_count": 49,
   "metadata": {},
   "outputs": [],
   "source": [
    "import torch\n",
    "import torch.nn.functional as F\n",
    "import matplotlib.pyplot as plt\n",
    "import random\n",
    "\n",
    "%matplotlib inline"
   ]
  },
  {
   "cell_type": "code",
   "execution_count": 50,
   "metadata": {},
   "outputs": [],
   "source": [
    "BLOCK_SIZE = 3\n",
    "N_EMBED = 10\n",
    "N_HIDDEN = 200\n",
    "N_EPOCHS = 200000\n",
    "BATCH_SIZE = 32"
   ]
  },
  {
   "cell_type": "code",
   "execution_count": 51,
   "metadata": {},
   "outputs": [],
   "source": [
    "def createWordsMapping(filename = 'names.txt'):\n",
    "  words = open(filename, 'r').read().splitlines()\n",
    "  chars = sorted(list(set(''.join(words))))\n",
    "  stoi = {s:i+1 for i,s in enumerate(chars)}\n",
    "  stoi['.'] = 0\n",
    "  itos = {i:s for s,i in stoi.items()}\n",
    "  n_vocab = len(stoi)\n",
    "  return words, stoi, itos, n_vocab\n",
    "\n",
    "words, stoi, itos, n_vocab = createWordsMapping()"
   ]
  },
  {
   "cell_type": "code",
   "execution_count": 52,
   "metadata": {},
   "outputs": [],
   "source": [
    "def buildDataset(words, block_size):\n",
    "  X, Y = [], []\n",
    "  for w in words:\n",
    "    context = [0] * block_size\n",
    "    for ch in w + '.':\n",
    "      ix = stoi[ch]\n",
    "      X.append(context)\n",
    "      Y.append(ix)\n",
    "      context = context[1:] + [ix]\n",
    "  X = torch.tensor(X)\n",
    "  Y = torch.tensor(Y)\n",
    "  return X,Y\n",
    "\n",
    "def buildDatasets(words, block_size):\n",
    "  random.seed(42)\n",
    "  random.shuffle(words)\n",
    "  \n",
    "  n1 = int(0.8 * len(words))\n",
    "  n2 = int(0.9 * len(words))\n",
    "  \n",
    "  Xtr, Ytr = buildDataset(words[:n1], block_size)\n",
    "  Xdev, Ydev = buildDataset(words[n1:n2], block_size)\n",
    "  Xte, Yte = buildDataset(words[n2:], block_size)\n",
    "\n",
    "  return Xtr, Ytr, Xdev, Ydev, Xte, Yte\n",
    "\n",
    "Xtr, Ytr, Xdev, Ydev, Xte, Yte = buildDatasets(words, BLOCK_SIZE)"
   ]
  },
  {
   "cell_type": "code",
   "execution_count": 53,
   "metadata": {},
   "outputs": [
    {
     "name": "stdout",
     "output_type": "stream",
     "text": [
      "Total Parameters: 11897\n"
     ]
    }
   ],
   "source": [
    "def initializeWeights(n_vocab, block_size, n_embed, n_hidden):\n",
    "  g = torch.Generator().manual_seed(2147483647)\n",
    "  \n",
    "  C = torch.randn((n_vocab, n_embed), generator=g)\n",
    "  W1 = torch.randn((n_embed * block_size, n_hidden), generator=g) * 0.2\n",
    "  b1 = torch.randn(n_hidden, generator=g) * 0.01\n",
    "  W2 = torch.randn((n_hidden, n_vocab), generator=g) * 0.01\n",
    "  b2 = torch.randn(n_vocab, generator=g) * 0\n",
    "\n",
    "  parameters = [C, W1, b1, W2, b2]\n",
    "  for p in parameters:\n",
    "    p.requires_grad = True\n",
    "\n",
    "  print(f'Total Parameters: {sum(p.nelement() for p in parameters)}')\n",
    "  return parameters\n",
    "\n",
    "parameters = initializeWeights(n_vocab, BLOCK_SIZE, N_EMBED, N_HIDDEN)"
   ]
  },
  {
   "cell_type": "code",
   "execution_count": 54,
   "metadata": {},
   "outputs": [
    {
     "name": "stdout",
     "output_type": "stream",
     "text": [
      "      0/ 200000: 3.3070\n",
      "  10000/ 200000: 2.0390\n",
      "  20000/ 200000: 2.3337\n",
      "  30000/ 200000: 2.1899\n",
      "  40000/ 200000: 2.0281\n",
      "  50000/ 200000: 2.3006\n",
      "  60000/ 200000: 1.9184\n",
      "  70000/ 200000: 2.0165\n",
      "  80000/ 200000: 2.1462\n",
      "  90000/ 200000: 2.0186\n",
      " 100000/ 200000: 2.1868\n",
      " 110000/ 200000: 2.0560\n",
      " 120000/ 200000: 2.0876\n",
      " 130000/ 200000: 1.6509\n",
      " 140000/ 200000: 2.2062\n",
      " 150000/ 200000: 2.2495\n",
      " 160000/ 200000: 2.0697\n",
      " 170000/ 200000: 1.6954\n",
      " 180000/ 200000: 2.5341\n",
      " 190000/ 200000: 2.2555\n"
     ]
    }
   ],
   "source": [
    "def trainModel(X, Y, parameters, block_size, n_embed, n_epochs, batch_size):\n",
    "  C, W1, b1, W2, b2 = parameters\n",
    "  g = torch.Generator().manual_seed(2147483647)\n",
    "  lossi = []\n",
    "\n",
    "  for epoch in range(n_epochs):\n",
    "\n",
    "    # Minibatch Construct\n",
    "    ix = torch.randint(0, X.shape[0], (batch_size,), generator=g)\n",
    "    X_batch, Y_batch = X[ix], Y[ix] # batch X, Y \n",
    "\n",
    "    # Forward Pass\n",
    "    emb = C[X_batch] # embed characters into vectors\n",
    "    embcat = emb.view(emb.shape[0], -1) # concatentae the vectors\n",
    "    hpreact = embcat @ W1 + b1 # hidden layer preactivation\n",
    "    h = torch.tanh(hpreact) # hidden layer\n",
    "    logits = h @ W2 + b2\n",
    "    loss = F.cross_entropy(logits, Y_batch) # loss function\n",
    "\n",
    "    # Backward Pass\n",
    "    for p in parameters:\n",
    "      p.grad = None\n",
    "    loss.backward()\n",
    "\n",
    "    # Update Parameters\n",
    "    lr = 0.1 if epoch < 100000 else 0.01 # stop learning rate decay\n",
    "    for p in parameters:\n",
    "      p.data += -lr * p.grad\n",
    "    \n",
    "    # Track Stats\n",
    "    lossi.append(loss.log10().item())\n",
    "    if epoch % 10000 == 0:\n",
    "      print(f'{epoch:7d}/{n_epochs:7d}: {loss.item():.4f}')\n",
    "  \n",
    "  trainedParameters = [C, W1, b1, W2, b2]\n",
    "  return lossi, trainedParameters\n",
    "\n",
    "lossi, trainedParameters = trainModel(Xtr, Ytr, parameters, BLOCK_SIZE, N_EMBED, N_EPOCHS, BATCH_SIZE)"
   ]
  },
  {
   "cell_type": "code",
   "execution_count": 55,
   "metadata": {},
   "outputs": [
    {
     "data": {
      "text/plain": [
       "[<matplotlib.lines.Line2D at 0x13b21abf0>]"
      ]
     },
     "execution_count": 55,
     "metadata": {},
     "output_type": "execute_result"
    },
    {
     "data": {
      "image/png": "[encoded data removed]",
      "text/plain": [
       "<Figure size 640x480 with 1 Axes>"
      ]
     },
     "metadata": {},
     "output_type": "display_data"
    }
   ],
   "source": [
    "plt.plot(lossi)"
   ]
  },
  {
   "cell_type": "code",
   "execution_count": 56,
   "metadata": {},
   "outputs": [
    {
     "name": "stdout",
     "output_type": "stream",
     "text": [
      "Train Loss: 2.036576747894287\n",
      "Val Loss: 2.1043293476104736\n"
     ]
    }
   ],
   "source": [
    "@torch.no_grad()\n",
    "def loss(X, Y, parameters):\n",
    "  C, W1, b1, W2, b2 = parameters\n",
    "  emb = C[X]\n",
    "  embcat = emb.view(emb.shape[0], -1)\n",
    "  hpreact = embcat @ W1 + b1\n",
    "  h = torch.tanh(hpreact)\n",
    "  logits = h @ W2 + b2\n",
    "  loss = F.cross_entropy(logits, Y)\n",
    "  return loss\n",
    "\n",
    "print(f'Train Loss: {loss(Xtr, Ytr, trainedParameters)}')\n",
    "print(f'Val Loss: {loss(Xdev, Ydev, trainedParameters)}')"
   ]
  },
  {
   "cell_type": "code",
   "execution_count": 57,
   "metadata": {},
   "outputs": [
    {
     "data": {
      "text/plain": [
       "['carmah.',\n",
       " 'amelle.',\n",
       " 'khi.',\n",
       " 'mili.',\n",
       " 'thold.',\n",
       " 'kanden.',\n",
       " 'jazonte.',\n",
       " 'deliah.',\n",
       " 'jareei.',\n",
       " 'nellara.',\n",
       " 'chaiir.',\n",
       " 'kaleigh.',\n",
       " 'ham.',\n",
       " 'por.',\n",
       " 'dessanis.',\n",
       " 'lilea.',\n",
       " 'jadiquinterridearynix.',\n",
       " 'kaellissa.',\n",
       " 'mel.',\n",
       " 'edi.']"
      ]
     },
     "execution_count": 57,
     "metadata": {},
     "output_type": "execute_result"
    }
   ],
   "source": [
    "def generateExample(parameters, block_size, g, itos):\n",
    "  C, W1, b1, W2, b2 = parameters\n",
    "  out = []\n",
    "  context = [0] * block_size\n",
    "  while True:\n",
    "    emb = C[torch.tensor([context])] # (1,block_size, d)\n",
    "    embcat = emb.view(1, -1)\n",
    "    hpreact = embcat @ W1 + b1\n",
    "    h = torch.tanh(hpreact)\n",
    "    logits = h @ W2 + b2\n",
    "    probs = F.softmax(logits, dim=1)\n",
    "    ix = torch.multinomial(probs, num_samples=1, generator=g).item()\n",
    "    context = context[1:] + [ix]\n",
    "    out.append(ix)\n",
    "    if ix == 0:\n",
    "      break\n",
    "  return ''.join(itos[i] for i in out)\n",
    "\n",
    "def generateExamples(parameters, block_size, itos, numExamples = 20):\n",
    "  g = torch.Generator().manual_seed(2147483647 + 10)\n",
    "  examples = []\n",
    "  for _ in range(numExamples):\n",
    "    example = generateExample(parameters, block_size, g, itos)\n",
    "    examples.append(example)\n",
    "  return examples\n",
    "\n",
    "generateExamples(trainedParameters, BLOCK_SIZE, itos)"
   ]
  },
  {
   "attachments": {},
   "cell_type": "markdown",
   "metadata": {},
   "source": [
    "### 1. Fix the Initial Loss\n",
    "\n",
    "- Add multiplier of `0.01` and `0` to `W2` and `b2` respectively to reduce high initial loss. The random initialization makes weights have high range of values, thus multiplying by small multipliers make loss smaller in the beginning.\n",
    "- This also makes model optimize loss better."
   ]
  },
  {
   "cell_type": "code",
   "execution_count": 10,
   "metadata": {},
   "outputs": [
    {
     "name": "stdout",
     "output_type": "stream",
     "text": [
      "tensor([0., 5., 0., 0.]) tensor([0.0066, 0.9802, 0.0066, 0.0066]) tensor(5.0200)\n",
      "tensor([1.3765, 0.5533, 0.7409, 0.2717]) tensor([0.4348, 0.1909, 0.2303, 0.1440]) tensor(1.4685)\n",
      "tensor([-4.0821, -6.2703,  1.7319, -8.6291]) tensor([2.9757e-03, 3.3360e-04, 9.9666e-01, 3.1538e-05]) tensor(0.0033)\n"
     ]
    }
   ],
   "source": [
    "# 4 -dimensional example of the issue\n",
    "logits = torch.tensor([0.0, 5.0, 0.0, 0.0])\n",
    "probs = torch.softmax(logits, dim=0)\n",
    "loss = -probs[2].log()\n",
    "print(logits, probs, loss)\n",
    "\n",
    "logits = torch.randn(4)\n",
    "probs = torch.softmax(logits, dim=0)\n",
    "loss = -probs[2].log()\n",
    "print(logits, probs, loss)\n",
    "\n",
    "logits = torch.randn(4) * 10\n",
    "probs = torch.softmax(logits, dim=0)\n",
    "loss = -probs[2].log()\n",
    "print(logits, probs, loss)"
   ]
  },
  {
   "attachments": {},
   "cell_type": "markdown",
   "metadata": {},
   "source": [
    "### 2. Fix the Saturated `tanh`"
   ]
  },
  {
   "cell_type": "code",
   "execution_count": 15,
   "metadata": {},
   "outputs": [
    {
     "name": "stdout",
     "output_type": "stream",
     "text": [
      "Total Parameters: 11897\n"
     ]
    }
   ],
   "source": [
    "def initializeWeights(n_vocab, block_size, n_embed, n_hidden):\n",
    "  g = torch.Generator().manual_seed(2147483647)\n",
    "  \n",
    "  C = torch.randn((n_vocab, n_embed), generator=g)\n",
    "  W1 = torch.randn((n_embed * block_size, n_hidden), generator=g)\n",
    "  b1 = torch.randn(n_hidden, generator=g)\n",
    "  W2 = torch.randn((n_hidden, n_vocab), generator=g) * 0.01\n",
    "  b2 = torch.randn(n_vocab, generator=g) * 0\n",
    "\n",
    "  parameters = [C, W1, b1, W2, b2]\n",
    "  for p in parameters:\n",
    "    p.requires_grad = True\n",
    "\n",
    "  print(f'Total Parameters: {sum(p.nelement() for p in parameters)}')\n",
    "  return parameters\n",
    "\n",
    "parameters = initializeWeights(n_vocab, BLOCK_SIZE, N_EMBED, N_HIDDEN)"
   ]
  },
  {
   "cell_type": "code",
   "execution_count": 16,
   "metadata": {},
   "outputs": [
    {
     "name": "stdout",
     "output_type": "stream",
     "text": [
      "      0/ 200000: 3.3179\n"
     ]
    }
   ],
   "source": [
    "\n",
    "n_epochs, batch_size = N_EPOCHS, BATCH_SIZE\n",
    "X, Y = Xtr, Ytr\n",
    "\n",
    "C, W1, b1, W2, b2 = parameters\n",
    "g = torch.Generator().manual_seed(2147483647)\n",
    "lossi = []\n",
    "\n",
    "for epoch in range(n_epochs):\n",
    "\n",
    "  # Minibatch Construct\n",
    "  ix = torch.randint(0, X.shape[0], (batch_size,), generator=g)\n",
    "  X_batch, Y_batch = X[ix], Y[ix] # batch X, Y \n",
    "\n",
    "  # Forward Pass\n",
    "  emb = C[X_batch] # embed characters into vectors\n",
    "  embcat = emb.view(emb.shape[0], -1) # concatentae the vectors\n",
    "  hpreact = embcat @ W1 + b1 # hidden layer preactivation\n",
    "  h = torch.tanh(hpreact) # hidden layer\n",
    "  logits = h @ W2 + b2\n",
    "  loss = F.cross_entropy(logits, Y_batch) # loss function\n",
    "\n",
    "  # Backward Pass\n",
    "  for p in parameters:\n",
    "    p.grad = None\n",
    "  loss.backward()\n",
    "\n",
    "  # Update Parameters\n",
    "  lr = 0.1 if epoch < 100000 else 0.01 # stop learning rate decay\n",
    "  for p in parameters:\n",
    "    p.data += -lr * p.grad\n",
    "  \n",
    "  # Track Stats\n",
    "  lossi.append(loss.log10().item())\n",
    "  if epoch % 10000 == 0:\n",
    "    print(f'{epoch:7d}/{n_epochs:7d}: {loss.item():.4f}')\n",
    "  \n",
    "  break"
   ]
  },
  {
   "cell_type": "code",
   "execution_count": 17,
   "metadata": {},
   "outputs": [
    {
     "data": {
      "image/png": "[encoded data removed]",
      "text/plain": [
       "<Figure size 640x480 with 1 Axes>"
      ]
     },
     "metadata": {},
     "output_type": "display_data"
    }
   ],
   "source": [
    "plt.hist(hpreact.view(-1).tolist(), 50);"
   ]
  },
  {
   "attachments": {},
   "cell_type": "markdown",
   "metadata": {},
   "source": [
    "Distribution of preactivations is very broad `(-20, 20)`. That's why in `torch.tanh()` everything is squashed and capped to be range `(-1, 1)`."
   ]
  },
  {
   "cell_type": "code",
   "execution_count": 18,
   "metadata": {},
   "outputs": [
    {
     "data": {
      "image/png": "[encoded data removed]",
      "text/plain": [
       "<Figure size 640x480 with 1 Axes>"
      ]
     },
     "metadata": {},
     "output_type": "display_data"
    }
   ],
   "source": [
    "plt.hist(h.view(-1).tolist(), 50);"
   ]
  },
  {
   "attachments": {},
   "cell_type": "markdown",
   "metadata": {},
   "source": [
    "Most of the values in h take `1` or `-1`, which means this `tanh` activation is very very active."
   ]
  },
  {
   "attachments": {},
   "cell_type": "markdown",
   "metadata": {},
   "source": [
    "When `tanh` outputs are close to 1 and -1, considering how we backpropagate in `tanh`:\n",
    "\n",
    "```python\n",
    "x = self.data\n",
    "t = (math.exp(2*x)-1)/(math.exp(2*x)+1)\n",
    "\n",
    "def _backward():\n",
    "  self.grad += (1 - t**2) * out.grad\n",
    "```\n",
    "\n",
    "We are effectively killing the gradient and stopping the backpropagation, when outputs of `tanh` are close to 1 and -1.\n",
    "\n",
    "IMP\n",
    "\n",
    "The gradient passing through `tanh` **can only ever decrease**, considering we are multiplying by the factor of `1 - t**2`. If `t==0`, we are passing `out.grad` as it is, for any other value of `t`, the gradient will decrease.\n",
    "\n",
    "CONCERN\n",
    "\n",
    "The problem here is if all of this outputs `h` are in flat region, that is close to `1` or `-1`, the gradient flowing throgh network will get destroyed."
   ]
  },
  {
   "cell_type": "code",
   "execution_count": 19,
   "metadata": {},
   "outputs": [
    {
     "data": {
      "text/plain": [
       "<matplotlib.image.AxesImage at 0x13b7efeb0>"
      ]
     },
     "execution_count": 19,
     "metadata": {},
     "output_type": "execute_result"
    },
    {
     "data": {
      "image/png": "[encoded data removed]",
      "text/plain": [
       "<Figure size 2000x1000 with 1 Axes>"
      ]
     },
     "metadata": {},
     "output_type": "display_data"
    }
   ],
   "source": [
    "plt.figure(figsize=(20,10))\n",
    "plt.imshow(h.abs() > 0.99, cmap='gray', interpolation='nearest')"
   ]
  },
  {
   "attachments": {},
   "cell_type": "markdown",
   "metadata": {},
   "source": [
    "White neurons are the ones in the flat domain i.e close to 1 or -1. In all this cases, backward gradient will get destroyed. The issue is when in any one of this 200 neurons, entire column is white, that will be a `dead neuron`, which will never learn. Not a case here.\n",
    "\n",
    "This is also true for other activation functions as well.\n",
    "\n",
    "Only issue that we have now is `hpreact` distribution it too wide, causing this neurons to be close to `1` or `-1` after applying `tanh` activation."
   ]
  },
  {
   "attachments": {},
   "cell_type": "markdown",
   "metadata": {},
   "source": [
    "**The solution here is similar to the fixing inital loss. We multiply `W1` by factor of `0.2` and `b1` by factor of `0.01` to reduce overall range of values.**"
   ]
  },
  {
   "cell_type": "code",
   "execution_count": 25,
   "metadata": {},
   "outputs": [
    {
     "name": "stdout",
     "output_type": "stream",
     "text": [
      "Total Parameters: 11897\n"
     ]
    }
   ],
   "source": [
    "def initializeWeights(n_vocab, block_size, n_embed, n_hidden):\n",
    "  g = torch.Generator().manual_seed(2147483647)\n",
    "  \n",
    "  C = torch.randn((n_vocab, n_embed), generator=g)\n",
    "  W1 = torch.randn((n_embed * block_size, n_hidden), generator=g) * 0.2\n",
    "  b1 = torch.randn(n_hidden, generator=g) * 0.01\n",
    "  W2 = torch.randn((n_hidden, n_vocab), generator=g) * 0.01\n",
    "  b2 = torch.randn(n_vocab, generator=g) * 0\n",
    "\n",
    "  parameters = [C, W1, b1, W2, b2]\n",
    "  for p in parameters:\n",
    "    p.requires_grad = True\n",
    "\n",
    "  print(f'Total Parameters: {sum(p.nelement() for p in parameters)}')\n",
    "  return parameters\n",
    "\n",
    "parameters = initializeWeights(n_vocab, BLOCK_SIZE, N_EMBED, N_HIDDEN)"
   ]
  },
  {
   "cell_type": "code",
   "execution_count": 26,
   "metadata": {},
   "outputs": [
    {
     "name": "stdout",
     "output_type": "stream",
     "text": [
      "      0/ 200000: 3.3070\n"
     ]
    }
   ],
   "source": [
    "\n",
    "n_epochs, batch_size = N_EPOCHS, BATCH_SIZE\n",
    "X, Y = Xtr, Ytr\n",
    "\n",
    "C, W1, b1, W2, b2 = parameters\n",
    "g = torch.Generator().manual_seed(2147483647)\n",
    "lossi = []\n",
    "\n",
    "for epoch in range(n_epochs):\n",
    "\n",
    "  # Minibatch Construct\n",
    "  ix = torch.randint(0, X.shape[0], (batch_size,), generator=g)\n",
    "  X_batch, Y_batch = X[ix], Y[ix] # batch X, Y \n",
    "\n",
    "  # Forward Pass\n",
    "  emb = C[X_batch] # embed characters into vectors\n",
    "  embcat = emb.view(emb.shape[0], -1) # concatentae the vectors\n",
    "  hpreact = embcat @ W1 + b1 # hidden layer preactivation\n",
    "  h = torch.tanh(hpreact) # hidden layer\n",
    "  logits = h @ W2 + b2\n",
    "  loss = F.cross_entropy(logits, Y_batch) # loss function\n",
    "\n",
    "  # Backward Pass\n",
    "  for p in parameters:\n",
    "    p.grad = None\n",
    "  loss.backward()\n",
    "\n",
    "  # Update Parameters\n",
    "  lr = 0.1 if epoch < 100000 else 0.01 # stop learning rate decay\n",
    "  for p in parameters:\n",
    "    p.data += -lr * p.grad\n",
    "  \n",
    "  # Track Stats\n",
    "  lossi.append(loss.log10().item())\n",
    "  if epoch % 10000 == 0:\n",
    "    print(f'{epoch:7d}/{n_epochs:7d}: {loss.item():.4f}')\n",
    "  \n",
    "  break"
   ]
  },
  {
   "cell_type": "code",
   "execution_count": 27,
   "metadata": {},
   "outputs": [
    {
     "data": {
      "image/png": "[encoded data removed]",
      "text/plain": [
       "<Figure size 640x480 with 1 Axes>"
      ]
     },
     "metadata": {},
     "output_type": "display_data"
    }
   ],
   "source": [
    "plt.hist(hpreact.view(-1).tolist(), 50);"
   ]
  },
  {
   "cell_type": "code",
   "execution_count": 28,
   "metadata": {},
   "outputs": [
    {
     "data": {
      "image/png": "[encoded data removed]",
      "text/plain": [
       "<Figure size 640x480 with 1 Axes>"
      ]
     },
     "metadata": {},
     "output_type": "display_data"
    }
   ],
   "source": [
    "plt.hist(h.view(-1).tolist(), 50);"
   ]
  },
  {
   "cell_type": "code",
   "execution_count": 29,
   "metadata": {},
   "outputs": [
    {
     "data": {
      "text/plain": [
       "<matplotlib.image.AxesImage at 0x13b219990>"
      ]
     },
     "execution_count": 29,
     "metadata": {},
     "output_type": "execute_result"
    },
    {
     "data": {
      "image/png": "[encoded data removed]",
      "text/plain": [
       "<Figure size 2000x1000 with 1 Axes>"
      ]
     },
     "metadata": {},
     "output_type": "display_data"
    }
   ],
   "source": [
    "plt.figure(figsize=(20,10))\n",
    "plt.imshow(h.abs() > 0.99, cmap='gray', interpolation='nearest')"
   ]
  },
  {
   "attachments": {},
   "cell_type": "markdown",
   "metadata": {},
   "source": [
    "### 3."
   ]
  },
  {
   "cell_type": "code",
   "execution_count": null,
   "metadata": {},
   "outputs": [],
   "source": []
  }
 ],
 "metadata": {
  "kernelspec": {
   "display_name": "dev-gpu",
   "language": "python",
   "name": "python3"
  },
  "language_info": {
   "codemirror_mode": {
    "name": "ipython",
    "version": 3
   },
   "file_extension": ".py",
   "mimetype": "text/x-python",
   "name": "python",
   "nbconvert_exporter": "python",
   "pygments_lexer": "ipython3",
   "version": "3.10.9"
  },
  "orig_nbformat": 4
 },
 "nbformat": 4,
 "nbformat_minor": 2
}
