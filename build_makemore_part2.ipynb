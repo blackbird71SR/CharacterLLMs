{
 "cells": [
  {
   "attachments": {},
   "cell_type": "markdown",
   "metadata": {},
   "source": [
    "### Loss Log\n",
    "\n",
    "| No. | Model                                           | Train Loss | Dev Loss |\n",
    "| --- | ----------------------------------------------- | ---------- | -------- |\n",
    "| 1   | Starter Code (From NN v2)                       | 2.125      | 2.172    |\n",
    "| 2   | Fix initial loss in `softmax`                   | 2.068      | 2.129    |\n",
    "| 3   | Fix saturated `tanh` layer                      | 2.036      | 2.104    |\n",
    "| 4   | Fix weight initialization with `kaiming_normal` | 2.036      | 2.106    |\n",
    "| 5   | Batch Normalization | 2.067      | 2.116    |"
   ]
  },
  {
   "attachments": {},
   "cell_type": "markdown",
   "metadata": {},
   "source": [
    "### Final Code"
   ]
  },
  {
   "cell_type": "code",
   "execution_count": 10,
   "metadata": {},
   "outputs": [],
   "source": [
    "import torch\n",
    "import torch.nn.functional as F\n",
    "import matplotlib.pyplot as plt\n",
    "import random\n",
    "\n",
    "%matplotlib inline"
   ]
  },
  {
   "cell_type": "code",
   "execution_count": 2,
   "metadata": {},
   "outputs": [],
   "source": [
    "BLOCK_SIZE = 3\n",
    "N_EMBED = 10\n",
    "N_HIDDEN = 200\n",
    "N_EPOCHS = 200000\n",
    "BATCH_SIZE = 32"
   ]
  },
  {
   "cell_type": "code",
   "execution_count": 3,
   "metadata": {},
   "outputs": [],
   "source": [
    "def createWordsMapping(filename = 'names.txt'):\n",
    "  words = open(filename, 'r').read().splitlines()\n",
    "  chars = sorted(list(set(''.join(words))))\n",
    "  stoi = {s:i+1 for i,s in enumerate(chars)}\n",
    "  stoi['.'] = 0\n",
    "  itos = {i:s for s,i in stoi.items()}\n",
    "  n_vocab = len(stoi)\n",
    "  return words, stoi, itos, n_vocab\n",
    "\n",
    "words, stoi, itos, n_vocab = createWordsMapping()"
   ]
  },
  {
   "cell_type": "code",
   "execution_count": 4,
   "metadata": {},
   "outputs": [],
   "source": [
    "def buildDataset(words, block_size):\n",
    "  X, Y = [], []\n",
    "  for w in words:\n",
    "    context = [0] * block_size\n",
    "    for ch in w + '.':\n",
    "      ix = stoi[ch]\n",
    "      X.append(context)\n",
    "      Y.append(ix)\n",
    "      context = context[1:] + [ix]\n",
    "  X = torch.tensor(X)\n",
    "  Y = torch.tensor(Y)\n",
    "  return X,Y\n",
    "\n",
    "def buildDatasets(words, block_size):\n",
    "  random.seed(42)\n",
    "  random.shuffle(words)\n",
    "  \n",
    "  n1 = int(0.8 * len(words))\n",
    "  n2 = int(0.9 * len(words))\n",
    "  \n",
    "  Xtr, Ytr = buildDataset(words[:n1], block_size)\n",
    "  Xdev, Ydev = buildDataset(words[n1:n2], block_size)\n",
    "  Xte, Yte = buildDataset(words[n2:], block_size)\n",
    "\n",
    "  return Xtr, Ytr, Xdev, Ydev, Xte, Yte\n",
    "\n",
    "Xtr, Ytr, Xdev, Ydev, Xte, Yte = buildDatasets(words, BLOCK_SIZE)"
   ]
  },
  {
   "cell_type": "code",
   "execution_count": 5,
   "metadata": {},
   "outputs": [
    {
     "name": "stdout",
     "output_type": "stream",
     "text": [
      "Total Parameters: 12297\n"
     ]
    }
   ],
   "source": [
    "def initializeWeights(n_vocab, block_size, n_embed, n_hidden):\n",
    "  g = torch.Generator().manual_seed(2147483647)\n",
    "  \n",
    "  C = torch.randn((n_vocab, n_embed), generator=g)\n",
    "  W1 = torch.randn((n_embed * block_size, n_hidden), generator=g) * ((5/3)/((n_embed*block_size) ** 0.5))\n",
    "  b1 = torch.randn(n_hidden, generator=g) * 0.01\n",
    "  W2 = torch.randn((n_hidden, n_vocab), generator=g) * 0.01\n",
    "  b2 = torch.randn(n_vocab, generator=g) * 0\n",
    "\n",
    "  bngain = torch.ones((1, n_hidden))\n",
    "  bnbias = torch.zeros((1, n_hidden))\n",
    "\n",
    "  bnmean_running = torch.zeros((1, n_hidden))\n",
    "  bnstd_running = torch.ones((1, n_hidden))\n",
    "\n",
    "  parameters = [C, W1, b1, bngain, bnbias, W2, b2]\n",
    "  static_parameters = [bnmean_running, bnstd_running]\n",
    "  \n",
    "  for p in parameters:\n",
    "    p.requires_grad = True\n",
    "\n",
    "  print(f'Total Parameters: {sum(p.nelement() for p in parameters)}')\n",
    "  return parameters, static_parameters\n",
    "\n",
    "parameters, static_parameters = initializeWeights(n_vocab, BLOCK_SIZE, N_EMBED, N_HIDDEN)"
   ]
  },
  {
   "cell_type": "code",
   "execution_count": 6,
   "metadata": {},
   "outputs": [
    {
     "name": "stdout",
     "output_type": "stream",
     "text": [
      "      0/ 200000: 3.3158\n",
      "  10000/ 200000: 2.0639\n",
      "  20000/ 200000: 2.3912\n",
      "  30000/ 200000: 2.0695\n",
      "  40000/ 200000: 2.0941\n",
      "  50000/ 200000: 2.3558\n",
      "  60000/ 200000: 2.0253\n",
      "  70000/ 200000: 2.0959\n",
      "  80000/ 200000: 2.2565\n",
      "  90000/ 200000: 2.0353\n",
      " 100000/ 200000: 2.1657\n",
      " 110000/ 200000: 2.0474\n",
      " 120000/ 200000: 2.1879\n",
      " 130000/ 200000: 1.6793\n",
      " 140000/ 200000: 2.1612\n",
      " 150000/ 200000: 2.3387\n",
      " 160000/ 200000: 2.1152\n",
      " 170000/ 200000: 1.7658\n",
      " 180000/ 200000: 2.6340\n",
      " 190000/ 200000: 2.3162\n"
     ]
    }
   ],
   "source": [
    "def trainModel(X, Y, parameters, static_parameters, block_size, n_embed, n_epochs, batch_size):\n",
    "  C, W1, b1, bngain, bnbias, W2, b2 = parameters\n",
    "  bnmean_running, bnstd_running = static_parameters\n",
    "  g = torch.Generator().manual_seed(2147483647)\n",
    "  lossi = []\n",
    "\n",
    "  for epoch in range(n_epochs):\n",
    "\n",
    "    # Minibatch Construct\n",
    "    ix = torch.randint(0, X.shape[0], (batch_size,), generator=g)\n",
    "    X_batch, Y_batch = X[ix], Y[ix] # batch X, Y \n",
    "\n",
    "    # Forward Pass\n",
    "    emb = C[X_batch] # embed characters into vectors\n",
    "    embcat = emb.view(emb.shape[0], -1) # concatentae the vectors\n",
    "    hpreact = embcat @ W1 + b1 # hidden layer preactivation\n",
    "\n",
    "    # Batch Normalization Layer\n",
    "    bnmeani = hpreact.mean(0, keepdim=True)\n",
    "    bnstdi  = hpreact.std(0, keepdim=True)\n",
    "    hpreact = bngain * (hpreact - bnmeani)/bnstdi + bnbias\n",
    "    with torch.no_grad():\n",
    "      bnmean_running = 0.999 * bnmean_running + 0.001 * bnmeani\n",
    "      bnstd_running = 0.999 * bnstd_running + 0.001 * bnstdi\n",
    "    \n",
    "    # Non-Linearity\n",
    "    h = torch.tanh(hpreact)\n",
    "    logits = h @ W2 + b2\n",
    "    loss = F.cross_entropy(logits, Y_batch) # loss function\n",
    "\n",
    "    # Backward Pass\n",
    "    for p in parameters:\n",
    "      p.grad = None\n",
    "    loss.backward()\n",
    "\n",
    "    # Update Parameters\n",
    "    lr = 0.1 if epoch < 100000 else 0.01 # stop learning rate decay\n",
    "    for p in parameters:\n",
    "      p.data += -lr * p.grad\n",
    "    \n",
    "    # Track Stats\n",
    "    lossi.append(loss.log10().item())\n",
    "    if epoch % 10000 == 0:\n",
    "      print(f'{epoch:7d}/{n_epochs:7d}: {loss.item():.4f}')\n",
    "  \n",
    "  trainedParameters = [C, W1, b1, bngain, bnbias, W2, b2]\n",
    "  staticParameters = [bnmean_running, bnstd_running]\n",
    "  return lossi, trainedParameters, staticParameters\n",
    "\n",
    "lossi, trainedParameters, staticParameters = trainModel(Xtr, Ytr, parameters, static_parameters, BLOCK_SIZE, N_EMBED, N_EPOCHS, BATCH_SIZE)"
   ]
  },
  {
   "cell_type": "code",
   "execution_count": 7,
   "metadata": {},
   "outputs": [
    {
     "data": {
      "text/plain": [
       "[<matplotlib.lines.Line2D at 0x145d23130>]"
      ]
     },
     "execution_count": 7,
     "metadata": {},
     "output_type": "execute_result"
    },
    {
     "data": {
      "image/png": "[encoded data removed]",
      "text/plain": [
       "<Figure size 640x480 with 1 Axes>"
      ]
     },
     "metadata": {},
     "output_type": "display_data"
    }
   ],
   "source": [
    "plt.plot(lossi)"
   ]
  },
  {
   "cell_type": "code",
   "execution_count": 8,
   "metadata": {},
   "outputs": [
    {
     "name": "stdout",
     "output_type": "stream",
     "text": [
      "Train Loss: 2.0679240226745605\n",
      "Val Loss: 2.109525442123413\n"
     ]
    }
   ],
   "source": [
    "@torch.no_grad()\n",
    "def loss(X, Y, parameters, static_parameters):\n",
    "  C, W1, b1, bngain, bnbias, W2, b2 = parameters\n",
    "  bnmean_running, bnstd_running = static_parameters\n",
    "  emb = C[X]\n",
    "  embcat = emb.view(emb.shape[0], -1)\n",
    "  hpreact = embcat @ W1 + b1\n",
    "  hpreact = bngain * (hpreact - bnmean_running)/bnstd_running + bnbias\n",
    "  h = torch.tanh(hpreact)\n",
    "  logits = h @ W2 + b2\n",
    "  loss = F.cross_entropy(logits, Y)\n",
    "  return loss\n",
    "\n",
    "print(f'Train Loss: {loss(Xtr, Ytr, trainedParameters, staticParameters)}')\n",
    "print(f'Val Loss: {loss(Xdev, Ydev, trainedParameters, staticParameters)}')"
   ]
  },
  {
   "cell_type": "code",
   "execution_count": 9,
   "metadata": {},
   "outputs": [
    {
     "data": {
      "text/plain": [
       "['carmahzari.',\n",
       " 'hari.',\n",
       " 'kimri.',\n",
       " 'reity.',\n",
       " 'salessa.',\n",
       " 'jazonel.',\n",
       " 'den.',\n",
       " 'rha.',\n",
       " 'kaeli.',\n",
       " 'ner.',\n",
       " 'kia.',\n",
       " 'chaiivon.',\n",
       " 'legy.',\n",
       " 'dham.',\n",
       " 'jore.',\n",
       " 'quinn.',\n",
       " 'shon.',\n",
       " 'marianni.',\n",
       " 'watell.',\n",
       " 'dearynn.']"
      ]
     },
     "execution_count": 9,
     "metadata": {},
     "output_type": "execute_result"
    }
   ],
   "source": [
    "def generateExample(parameters, static_parameters, block_size, g, itos):\n",
    "  C, W1, b1, bngain, bnbias, W2, b2 = parameters\n",
    "  bnmean_running, bnstd_running = static_parameters\n",
    "  out = []\n",
    "  context = [0] * block_size\n",
    "  while True:\n",
    "    emb = C[torch.tensor([context])] # (1,block_size, d)\n",
    "    embcat = emb.view(1, -1)\n",
    "    hpreact = embcat @ W1 + b1\n",
    "    hpreact = bngain * (hpreact - bnmean_running)/bnstd_running + bnbias\n",
    "    h = torch.tanh(hpreact)\n",
    "    logits = h @ W2 + b2\n",
    "    probs = F.softmax(logits, dim=1)\n",
    "    ix = torch.multinomial(probs, num_samples=1, generator=g).item()\n",
    "    context = context[1:] + [ix]\n",
    "    out.append(ix)\n",
    "    if ix == 0:\n",
    "      break\n",
    "  return ''.join(itos[i] for i in out)\n",
    "\n",
    "def generateExamples(parameters, static_parameters, block_size, itos, numExamples = 20):\n",
    "  g = torch.Generator().manual_seed(2147483647 + 10)\n",
    "  examples = []\n",
    "  for _ in range(numExamples):\n",
    "    example = generateExample(parameters, static_parameters, block_size, g, itos)\n",
    "    examples.append(example)\n",
    "  return examples\n",
    "\n",
    "generateExamples(trainedParameters, staticParameters, BLOCK_SIZE, itos)"
   ]
  },
  {
   "attachments": {},
   "cell_type": "markdown",
   "metadata": {},
   "source": [
    "### 1. Fix the Initial Loss\n",
    "\n",
    "- Add multiplier of `0.01` and `0` to `W2` and `b2` respectively to reduce high initial loss. The random initialization makes weights have high range of values, thus multiplying by small multipliers make loss smaller in the beginning.\n",
    "- This also makes model optimize loss better."
   ]
  },
  {
   "cell_type": "code",
   "execution_count": 10,
   "metadata": {},
   "outputs": [
    {
     "name": "stdout",
     "output_type": "stream",
     "text": [
      "tensor([0., 5., 0., 0.]) tensor([0.0066, 0.9802, 0.0066, 0.0066]) tensor(5.0200)\n",
      "tensor([1.3765, 0.5533, 0.7409, 0.2717]) tensor([0.4348, 0.1909, 0.2303, 0.1440]) tensor(1.4685)\n",
      "tensor([-4.0821, -6.2703,  1.7319, -8.6291]) tensor([2.9757e-03, 3.3360e-04, 9.9666e-01, 3.1538e-05]) tensor(0.0033)\n"
     ]
    }
   ],
   "source": [
    "# 4 -dimensional example of the issue\n",
    "logits = torch.tensor([0.0, 5.0, 0.0, 0.0])\n",
    "probs = torch.softmax(logits, dim=0)\n",
    "loss = -probs[2].log()\n",
    "print(logits, probs, loss)\n",
    "\n",
    "logits = torch.randn(4)\n",
    "probs = torch.softmax(logits, dim=0)\n",
    "loss = -probs[2].log()\n",
    "print(logits, probs, loss)\n",
    "\n",
    "logits = torch.randn(4) * 10\n",
    "probs = torch.softmax(logits, dim=0)\n",
    "loss = -probs[2].log()\n",
    "print(logits, probs, loss)"
   ]
  },
  {
   "attachments": {},
   "cell_type": "markdown",
   "metadata": {},
   "source": [
    "### 2. Fix the Saturated `tanh`\n",
    "\n",
    "- The solution here is similar to the fixing inital loss. We multiply `W1` by factor of `0.2` and `b1` by factor of `0.01` to reduce overall range of values."
   ]
  },
  {
   "cell_type": "code",
   "execution_count": 15,
   "metadata": {},
   "outputs": [
    {
     "name": "stdout",
     "output_type": "stream",
     "text": [
      "Total Parameters: 11897\n"
     ]
    }
   ],
   "source": [
    "def initializeWeights(n_vocab, block_size, n_embed, n_hidden):\n",
    "  g = torch.Generator().manual_seed(2147483647)\n",
    "  \n",
    "  C = torch.randn((n_vocab, n_embed), generator=g)\n",
    "  W1 = torch.randn((n_embed * block_size, n_hidden), generator=g)\n",
    "  b1 = torch.randn(n_hidden, generator=g)\n",
    "  W2 = torch.randn((n_hidden, n_vocab), generator=g) * 0.01\n",
    "  b2 = torch.randn(n_vocab, generator=g) * 0\n",
    "\n",
    "  parameters = [C, W1, b1, W2, b2]\n",
    "  for p in parameters:\n",
    "    p.requires_grad = True\n",
    "\n",
    "  print(f'Total Parameters: {sum(p.nelement() for p in parameters)}')\n",
    "  return parameters\n",
    "\n",
    "parameters = initializeWeights(n_vocab, BLOCK_SIZE, N_EMBED, N_HIDDEN)"
   ]
  },
  {
   "cell_type": "code",
   "execution_count": 16,
   "metadata": {},
   "outputs": [
    {
     "name": "stdout",
     "output_type": "stream",
     "text": [
      "      0/ 200000: 3.3179\n"
     ]
    }
   ],
   "source": [
    "\n",
    "n_epochs, batch_size = N_EPOCHS, BATCH_SIZE\n",
    "X, Y = Xtr, Ytr\n",
    "\n",
    "C, W1, b1, W2, b2 = parameters\n",
    "g = torch.Generator().manual_seed(2147483647)\n",
    "lossi = []\n",
    "\n",
    "for epoch in range(n_epochs):\n",
    "\n",
    "  # Minibatch Construct\n",
    "  ix = torch.randint(0, X.shape[0], (batch_size,), generator=g)\n",
    "  X_batch, Y_batch = X[ix], Y[ix] # batch X, Y \n",
    "\n",
    "  # Forward Pass\n",
    "  emb = C[X_batch] # embed characters into vectors\n",
    "  embcat = emb.view(emb.shape[0], -1) # concatentae the vectors\n",
    "  hpreact = embcat @ W1 + b1 # hidden layer preactivation\n",
    "  h = torch.tanh(hpreact) # hidden layer\n",
    "  logits = h @ W2 + b2\n",
    "  loss = F.cross_entropy(logits, Y_batch) # loss function\n",
    "\n",
    "  # Backward Pass\n",
    "  for p in parameters:\n",
    "    p.grad = None\n",
    "  loss.backward()\n",
    "\n",
    "  # Update Parameters\n",
    "  lr = 0.1 if epoch < 100000 else 0.01 # stop learning rate decay\n",
    "  for p in parameters:\n",
    "    p.data += -lr * p.grad\n",
    "  \n",
    "  # Track Stats\n",
    "  lossi.append(loss.log10().item())\n",
    "  if epoch % 10000 == 0:\n",
    "    print(f'{epoch:7d}/{n_epochs:7d}: {loss.item():.4f}')\n",
    "  \n",
    "  break"
   ]
  },
  {
   "cell_type": "code",
   "execution_count": 17,
   "metadata": {},
   "outputs": [
    {
     "data": {
      "image/png": "[encoded data removed]",
      "text/plain": [
       "<Figure size 640x480 with 1 Axes>"
      ]
     },
     "metadata": {},
     "output_type": "display_data"
    }
   ],
   "source": [
    "plt.hist(hpreact.view(-1).tolist(), 50);"
   ]
  },
  {
   "attachments": {},
   "cell_type": "markdown",
   "metadata": {},
   "source": [
    "Distribution of preactivations is very broad `(-20, 20)`. That's why in `torch.tanh()` everything is squashed and capped to be range `(-1, 1)`."
   ]
  },
  {
   "cell_type": "code",
   "execution_count": 18,
   "metadata": {},
   "outputs": [
    {
     "data": {
      "image/png": "[encoded data removed]",
      "text/plain": [
       "<Figure size 640x480 with 1 Axes>"
      ]
     },
     "metadata": {},
     "output_type": "display_data"
    }
   ],
   "source": [
    "plt.hist(h.view(-1).tolist(), 50);"
   ]
  },
  {
   "attachments": {},
   "cell_type": "markdown",
   "metadata": {},
   "source": [
    "Most of the values in h take `1` or `-1`, which means this `tanh` activation is very very active."
   ]
  },
  {
   "attachments": {},
   "cell_type": "markdown",
   "metadata": {},
   "source": [
    "When `tanh` outputs are close to 1 and -1, considering how we backpropagate in `tanh`:\n",
    "\n",
    "```python\n",
    "x = self.data\n",
    "t = (math.exp(2*x)-1)/(math.exp(2*x)+1)\n",
    "\n",
    "def _backward():\n",
    "  self.grad += (1 - t**2) * out.grad\n",
    "```\n",
    "\n",
    "We are effectively killing the gradient and stopping the backpropagation, when outputs of `tanh` are close to 1 and -1.\n",
    "\n",
    "IMP\n",
    "\n",
    "The gradient passing through `tanh` **can only ever decrease**, considering we are multiplying by the factor of `1 - t**2`. If `t==0`, we are passing `out.grad` as it is, for any other value of `t`, the gradient will decrease.\n",
    "\n",
    "CONCERN\n",
    "\n",
    "The problem here is if all of this outputs `h` are in flat region, that is close to `1` or `-1`, the gradient flowing throgh network will get destroyed."
   ]
  },
  {
   "cell_type": "code",
   "execution_count": 19,
   "metadata": {},
   "outputs": [
    {
     "data": {
      "text/plain": [
       "<matplotlib.image.AxesImage at 0x13b7efeb0>"
      ]
     },
     "execution_count": 19,
     "metadata": {},
     "output_type": "execute_result"
    },
    {
     "data": {
      "image/png": "[encoded data removed]",
      "text/plain": [
       "<Figure size 2000x1000 with 1 Axes>"
      ]
     },
     "metadata": {},
     "output_type": "display_data"
    }
   ],
   "source": [
    "plt.figure(figsize=(20,10))\n",
    "plt.imshow(h.abs() > 0.99, cmap='gray', interpolation='nearest')"
   ]
  },
  {
   "attachments": {},
   "cell_type": "markdown",
   "metadata": {},
   "source": [
    "White neurons are the ones in the flat domain i.e close to 1 or -1. In all this cases, backward gradient will get destroyed. The issue is when in any one of this 200 neurons, entire column is white, that will be a `dead neuron`, which will never learn. Not a case here.\n",
    "\n",
    "This is also true for other activation functions as well.\n",
    "\n",
    "Only issue that we have now is `hpreact` distribution it too wide, causing this neurons to be close to `1` or `-1` after applying `tanh` activation."
   ]
  },
  {
   "attachments": {},
   "cell_type": "markdown",
   "metadata": {},
   "source": [
    "**The solution here is similar to the fixing inital loss. We multiply `W1` by factor of `0.2` and `b1` by factor of `0.01` to reduce overall range of values.**"
   ]
  },
  {
   "cell_type": "code",
   "execution_count": 25,
   "metadata": {},
   "outputs": [
    {
     "name": "stdout",
     "output_type": "stream",
     "text": [
      "Total Parameters: 11897\n"
     ]
    }
   ],
   "source": [
    "def initializeWeights(n_vocab, block_size, n_embed, n_hidden):\n",
    "  g = torch.Generator().manual_seed(2147483647)\n",
    "  \n",
    "  C = torch.randn((n_vocab, n_embed), generator=g)\n",
    "  W1 = torch.randn((n_embed * block_size, n_hidden), generator=g) * 0.2\n",
    "  b1 = torch.randn(n_hidden, generator=g) * 0.01\n",
    "  W2 = torch.randn((n_hidden, n_vocab), generator=g) * 0.01\n",
    "  b2 = torch.randn(n_vocab, generator=g) * 0\n",
    "\n",
    "  parameters = [C, W1, b1, W2, b2]\n",
    "  for p in parameters:\n",
    "    p.requires_grad = True\n",
    "\n",
    "  print(f'Total Parameters: {sum(p.nelement() for p in parameters)}')\n",
    "  return parameters\n",
    "\n",
    "parameters = initializeWeights(n_vocab, BLOCK_SIZE, N_EMBED, N_HIDDEN)"
   ]
  },
  {
   "cell_type": "code",
   "execution_count": 26,
   "metadata": {},
   "outputs": [
    {
     "name": "stdout",
     "output_type": "stream",
     "text": [
      "      0/ 200000: 3.3070\n"
     ]
    }
   ],
   "source": [
    "\n",
    "n_epochs, batch_size = N_EPOCHS, BATCH_SIZE\n",
    "X, Y = Xtr, Ytr\n",
    "\n",
    "C, W1, b1, W2, b2 = parameters\n",
    "g = torch.Generator().manual_seed(2147483647)\n",
    "lossi = []\n",
    "\n",
    "for epoch in range(n_epochs):\n",
    "\n",
    "  # Minibatch Construct\n",
    "  ix = torch.randint(0, X.shape[0], (batch_size,), generator=g)\n",
    "  X_batch, Y_batch = X[ix], Y[ix] # batch X, Y \n",
    "\n",
    "  # Forward Pass\n",
    "  emb = C[X_batch] # embed characters into vectors\n",
    "  embcat = emb.view(emb.shape[0], -1) # concatentae the vectors\n",
    "  hpreact = embcat @ W1 + b1 # hidden layer preactivation\n",
    "  h = torch.tanh(hpreact) # hidden layer\n",
    "  logits = h @ W2 + b2\n",
    "  loss = F.cross_entropy(logits, Y_batch) # loss function\n",
    "\n",
    "  # Backward Pass\n",
    "  for p in parameters:\n",
    "    p.grad = None\n",
    "  loss.backward()\n",
    "\n",
    "  # Update Parameters\n",
    "  lr = 0.1 if epoch < 100000 else 0.01 # stop learning rate decay\n",
    "  for p in parameters:\n",
    "    p.data += -lr * p.grad\n",
    "  \n",
    "  # Track Stats\n",
    "  lossi.append(loss.log10().item())\n",
    "  if epoch % 10000 == 0:\n",
    "    print(f'{epoch:7d}/{n_epochs:7d}: {loss.item():.4f}')\n",
    "  \n",
    "  break"
   ]
  },
  {
   "cell_type": "code",
   "execution_count": 27,
   "metadata": {},
   "outputs": [
    {
     "data": {
      "image/png": "[encoded data removed]",
      "text/plain": [
       "<Figure size 640x480 with 1 Axes>"
      ]
     },
     "metadata": {},
     "output_type": "display_data"
    }
   ],
   "source": [
    "plt.hist(hpreact.view(-1).tolist(), 50);"
   ]
  },
  {
   "cell_type": "code",
   "execution_count": 28,
   "metadata": {},
   "outputs": [
    {
     "data": {
      "image/png": "[encoded data removed]",
      "text/plain": [
       "<Figure size 640x480 with 1 Axes>"
      ]
     },
     "metadata": {},
     "output_type": "display_data"
    }
   ],
   "source": [
    "plt.hist(h.view(-1).tolist(), 50);"
   ]
  },
  {
   "cell_type": "code",
   "execution_count": 29,
   "metadata": {},
   "outputs": [
    {
     "data": {
      "text/plain": [
       "<matplotlib.image.AxesImage at 0x13b219990>"
      ]
     },
     "execution_count": 29,
     "metadata": {},
     "output_type": "execute_result"
    },
    {
     "data": {
      "image/png": "[encoded data removed]",
      "text/plain": [
       "<Figure size 2000x1000 with 1 Axes>"
      ]
     },
     "metadata": {},
     "output_type": "display_data"
    }
   ],
   "source": [
    "plt.figure(figsize=(20,10))\n",
    "plt.imshow(h.abs() > 0.99, cmap='gray', interpolation='nearest')"
   ]
  },
  {
   "attachments": {},
   "cell_type": "markdown",
   "metadata": {},
   "source": [
    "### 3. Calculating the init scale: \"Kaiming init\"\n",
    "\n",
    "- Set standard deviation of weight initialization to `gain/sqrt(neurons_in)`, hwre `gain` is `5/3` for `tanh`. This is achieved just by multiplying randomly generated weights by this value."
   ]
  },
  {
   "cell_type": "code",
   "execution_count": 27,
   "metadata": {},
   "outputs": [
    {
     "name": "stdout",
     "output_type": "stream",
     "text": [
      "tensor(-0.0026) tensor(0.9972)\n",
      "tensor(0.0051) tensor(3.1429)\n"
     ]
    },
    {
     "data": {
      "image/png": "[encoded data removed]",
      "text/plain": [
       "<Figure size 2000x500 with 2 Axes>"
      ]
     },
     "metadata": {},
     "output_type": "display_data"
    }
   ],
   "source": [
    "x = torch.randn(1000, 10)\n",
    "w = torch.randn(10, 200)\n",
    "y = x @ w\n",
    "print(x.mean(), x.std())\n",
    "print(y.mean(), y.std())\n",
    "\n",
    "plt.figure(figsize=(20, 5))\n",
    "plt.subplot(121)\n",
    "plt.hist(x.view(-1).tolist(), 50, density=True);\n",
    "plt.subplot(122)\n",
    "plt.hist(y.view(-1).tolist(), 50, density=True);"
   ]
  },
  {
   "attachments": {},
   "cell_type": "markdown",
   "metadata": {},
   "source": [
    "We can see that although `y` has similar 0 mean to `x`, the standard deviation is much higher, giving wider distribution to the `y`.\n",
    "\n",
    "We want most of the activations to have unit gaussian distribution."
   ]
  },
  {
   "attachments": {},
   "cell_type": "markdown",
   "metadata": {},
   "source": [
    "To solve this issue, we need to multiply weights `w` to scale them in a way that makes the activations have unit gaussian distribution. \n",
    "\n",
    "Say,\n",
    "`n = number of input neurons to the layer (fan in)`\n",
    "\n",
    "- For `tanh`: Multiply the weights by `sqrt(5/3n)`\n",
    "- For `relu`: Multiply the weights by `sqrt(2/n)`, the factor of 2 is to compensate for the fact that relu squaches negative weights to zero completely\n",
    "\n",
    "Implemented in PyTorch using `torch.nn.init.kaiming_nomral_`"
   ]
  },
  {
   "cell_type": "code",
   "execution_count": 28,
   "metadata": {},
   "outputs": [
    {
     "name": "stdout",
     "output_type": "stream",
     "text": [
      "tensor(0.0058) tensor(0.9907)\n",
      "tensor(0.0068) tensor(0.9888)\n"
     ]
    },
    {
     "data": {
      "image/png": "[encoded data removed]",
      "text/plain": [
       "<Figure size 2000x500 with 2 Axes>"
      ]
     },
     "metadata": {},
     "output_type": "display_data"
    }
   ],
   "source": [
    "x = torch.randn(1000, 10)\n",
    "w = torch.randn(10, 200) / (10 ** 0.5)\n",
    "y = x @ w\n",
    "print(x.mean(), x.std())\n",
    "print(y.mean(), y.std())\n",
    "\n",
    "plt.figure(figsize=(20, 5))\n",
    "plt.subplot(121)\n",
    "plt.hist(x.view(-1).tolist(), 50, density=True);\n",
    "plt.subplot(122)\n",
    "plt.hist(y.view(-1).tolist(), 50, density=True);"
   ]
  },
  {
   "attachments": {},
   "cell_type": "markdown",
   "metadata": {},
   "source": [
    "To achieve this in our neural network, we need to set standard deviation of weight initialization to `gain/sqrt(neurons_in)`, hwre `gain` is `5/3` for `tanh`. This is achieved just by multiplying randomly generated weights by this value."
   ]
  },
  {
   "cell_type": "code",
   "execution_count": 29,
   "metadata": {},
   "outputs": [
    {
     "name": "stdout",
     "output_type": "stream",
     "text": [
      "tensor(0.0068) tensor(1.0073)\n",
      "tensor(0.0092) tensor(1.6455)\n"
     ]
    },
    {
     "data": {
      "image/png": "[encoded data removed]",
      "text/plain": [
       "<Figure size 2000x500 with 2 Axes>"
      ]
     },
     "metadata": {},
     "output_type": "display_data"
    }
   ],
   "source": [
    "x = torch.randn(1000, 10)\n",
    "w = torch.randn(10, 200) * ((5/3) / (10 ** 0.5))\n",
    "y = x @ w\n",
    "print(x.mean(), x.std())\n",
    "print(y.mean(), y.std())\n",
    "\n",
    "plt.figure(figsize=(20, 5))\n",
    "plt.subplot(121)\n",
    "plt.hist(x.view(-1).tolist(), 50, density=True);\n",
    "plt.subplot(122)\n",
    "plt.hist(y.view(-1).tolist(), 50, density=True);"
   ]
  },
  {
   "attachments": {},
   "cell_type": "markdown",
   "metadata": {},
   "source": [
    "### 4. Batch Normalization\n",
    "\n",
    "**In Training**\n",
    "\n",
    "- Batch Normalize hidden layer preactivations so that they have unit gaussian structure at training initialization.\n",
    "- This is just subtrating mean and divide by standard deviation of `hpreact` on the 0th dimension.\n",
    "- But this will also make `hpreact` unit gaussian at each training step, which is not ideal. To avoid this, we include tow more trainable parameters `bngain` and `bnbias` (Batch Normalization Gain & Bias).\n",
    "- `bngain` & `bnbias` will be just 1's and 0's respectively at the beginning of the training to give unit gaussian, but will be updated in training so that we don't always have unit gaussian at training.\n",
    "\n",
    "**Tracking Mean & Std. Dev.**\n",
    "- Also IMP, to remmeber that now while in training, we are batching the training examples while calculating the weights. We need to simulutae that while calculating loss or generating examples later.\n",
    "- We do this by calculating `bnmean_running` and `bnstd_running`, the running mean and std. dev. of the training data. This is done simultaeously while training with `torch.no_grad()`.\n",
    "- This values are used later after `hpreact` step to simulate batch normalization parameters.\n",
    "\n",
    "**What more can be done?**\n",
    "- Add small number `epsilon` to the denominator while nomalizing along with standard deviation to avoid divison by zero.\n",
    "- The bias `b1` is currently not doing anything at all. `b1.grad` is going to be 0. `bnbias` is working instead. We are calculating mean after adding bias `b1` and then subtracting it, so removing it's effect. We can remove the bias completlly in any layers followed by batch normalization.\n",
    "\n",
    "**IMP**\n",
    "- Generally used after linear or Convolutional layer"
   ]
  },
  {
   "cell_type": "code",
   "execution_count": 18,
   "metadata": {},
   "outputs": [
    {
     "name": "stdout",
     "output_type": "stream",
     "text": [
      "Total Parameters: 11897\n"
     ]
    }
   ],
   "source": [
    "parameters = initializeWeights(n_vocab, BLOCK_SIZE, N_EMBED, N_HIDDEN)"
   ]
  },
  {
   "cell_type": "code",
   "execution_count": 19,
   "metadata": {},
   "outputs": [
    {
     "name": "stdout",
     "output_type": "stream",
     "text": [
      "      0/ 200000: 3.3097\n"
     ]
    }
   ],
   "source": [
    "\n",
    "n_epochs, batch_size = N_EPOCHS, BATCH_SIZE\n",
    "X, Y = Xtr, Ytr\n",
    "\n",
    "C, W1, b1, W2, b2 = parameters\n",
    "g = torch.Generator().manual_seed(2147483647)\n",
    "lossi = []\n",
    "\n",
    "for epoch in range(n_epochs):\n",
    "\n",
    "  # Minibatch Construct\n",
    "  ix = torch.randint(0, X.shape[0], (batch_size,), generator=g)\n",
    "  X_batch, Y_batch = X[ix], Y[ix] # batch X, Y \n",
    "\n",
    "  # Forward Pass\n",
    "  emb = C[X_batch] # embed characters into vectors\n",
    "  embcat = emb.view(emb.shape[0], -1) # concatentae the vectors\n",
    "  hpreact = embcat @ W1 + b1 # hidden layer preactivation\n",
    "  h = torch.tanh(hpreact) # hidden layer\n",
    "  logits = h @ W2 + b2\n",
    "  loss = F.cross_entropy(logits, Y_batch) # loss function\n",
    "\n",
    "  # Backward Pass\n",
    "  for p in parameters:\n",
    "    p.grad = None\n",
    "  loss.backward()\n",
    "\n",
    "  # Update Parameters\n",
    "  lr = 0.1 if epoch < 100000 else 0.01 # stop learning rate decay\n",
    "  for p in parameters:\n",
    "    p.data += -lr * p.grad\n",
    "  \n",
    "  # Track Stats\n",
    "  lossi.append(loss.log10().item())\n",
    "  if epoch % 10000 == 0:\n",
    "    print(f'{epoch:7d}/{n_epochs:7d}: {loss.item():.4f}')\n",
    "  \n",
    "  break"
   ]
  },
  {
   "cell_type": "code",
   "execution_count": 12,
   "metadata": {},
   "outputs": [
    {
     "data": {
      "text/plain": [
       "torch.Size([32, 200])"
      ]
     },
     "execution_count": 12,
     "metadata": {},
     "output_type": "execute_result"
    }
   ],
   "source": [
    "hpreact.shape"
   ]
  },
  {
   "cell_type": "code",
   "execution_count": 14,
   "metadata": {},
   "outputs": [
    {
     "data": {
      "text/plain": [
       "torch.Size([1, 200])"
      ]
     },
     "execution_count": 14,
     "metadata": {},
     "output_type": "execute_result"
    }
   ],
   "source": [
    "hpreact.mean(0, keepdim=True).shape"
   ]
  },
  {
   "cell_type": "code",
   "execution_count": 15,
   "metadata": {},
   "outputs": [
    {
     "data": {
      "text/plain": [
       "torch.Size([1, 200])"
      ]
     },
     "execution_count": 15,
     "metadata": {},
     "output_type": "execute_result"
    }
   ],
   "source": [
    "hpreact.std(0, keepdim=True).shape"
   ]
  },
  {
   "cell_type": "code",
   "execution_count": 22,
   "metadata": {},
   "outputs": [
    {
     "name": "stdout",
     "output_type": "stream",
     "text": [
      "Total Parameters: 12297\n"
     ]
    }
   ],
   "source": [
    "def initializeWeights(n_vocab, block_size, n_embed, n_hidden):\n",
    "  g = torch.Generator().manual_seed(2147483647)\n",
    "  \n",
    "  C = torch.randn((n_vocab, n_embed), generator=g)\n",
    "  W1 = torch.randn((n_embed * block_size, n_hidden), generator=g) * ((5/3)/((n_embed*block_size) ** 0.5))\n",
    "  b1 = torch.randn(n_hidden, generator=g) * 0.01\n",
    "  W2 = torch.randn((n_hidden, n_vocab), generator=g) * 0.01\n",
    "  b2 = torch.randn(n_vocab, generator=g) * 0\n",
    "\n",
    "  bngain = torch.ones((1, n_hidden))\n",
    "  bnbias = torch.zeros((1, n_hidden))\n",
    "\n",
    "  parameters = [C, W1, b1, bngain, bnbias, W2, b2]\n",
    "  for p in parameters:\n",
    "    p.requires_grad = True\n",
    "\n",
    "  print(f'Total Parameters: {sum(p.nelement() for p in parameters)}')\n",
    "  return parameters\n",
    "\n",
    "parameters = initializeWeights(n_vocab, BLOCK_SIZE, N_EMBED, N_HIDDEN)"
   ]
  },
  {
   "cell_type": "code",
   "execution_count": 21,
   "metadata": {},
   "outputs": [
    {
     "name": "stdout",
     "output_type": "stream",
     "text": [
      "      0/ 200000: 3.3158\n"
     ]
    }
   ],
   "source": [
    "\n",
    "n_epochs, batch_size = N_EPOCHS, BATCH_SIZE\n",
    "X, Y = Xtr, Ytr\n",
    "\n",
    "C, W1, b1, bngain, bnbias, W2, b2 = parameters\n",
    "g = torch.Generator().manual_seed(2147483647)\n",
    "lossi = []\n",
    "\n",
    "for epoch in range(n_epochs):\n",
    "\n",
    "  # Minibatch Construct\n",
    "  ix = torch.randint(0, X.shape[0], (batch_size,), generator=g)\n",
    "  X_batch, Y_batch = X[ix], Y[ix] # batch X, Y \n",
    "\n",
    "  # Forward Pass\n",
    "  emb = C[X_batch] # embed characters into vectors\n",
    "  embcat = emb.view(emb.shape[0], -1) # concatentae the vectors\n",
    "  hpreact = embcat @ W1 + b1 # hidden layer preactivation\n",
    "  hpreact = bngain * (hpreact - hpreact.mean(0, keepdim=True))/hpreact.std(0, keepdim=True) + bnbias# batch normalization\n",
    "  h = torch.tanh(hpreact) # hidden layer\n",
    "  logits = h @ W2 + b2\n",
    "  loss = F.cross_entropy(logits, Y_batch) # loss function\n",
    "\n",
    "  # Backward Pass\n",
    "  for p in parameters:\n",
    "    p.grad = None\n",
    "  loss.backward()\n",
    "\n",
    "  # Update Parameters\n",
    "  lr = 0.1 if epoch < 100000 else 0.01 # stop learning rate decay\n",
    "  for p in parameters:\n",
    "    p.data += -lr * p.grad\n",
    "  \n",
    "  # Track Stats\n",
    "  lossi.append(loss.log10().item())\n",
    "  if epoch % 10000 == 0:\n",
    "    print(f'{epoch:7d}/{n_epochs:7d}: {loss.item():.4f}')\n",
    "  \n",
    "  break"
   ]
  },
  {
   "attachments": {},
   "cell_type": "markdown",
   "metadata": {},
   "source": [
    "## PyTorch-Like Implementation"
   ]
  },
  {
   "cell_type": "code",
   "execution_count": 11,
   "metadata": {},
   "outputs": [],
   "source": [
    "class Linear:\n",
    "  \n",
    "  def __init__(self, fan_in, fan_out, bias=True):\n",
    "    self.weight = torch.randn((fan_in, fan_out), generator=g)/ fan_in**0.5\n",
    "    self.bias = torch.zeros(fan_out) if bias else None\n",
    "\n",
    "  def __call__(self, x):\n",
    "    self.out = x @ self.weight\n",
    "    if self.bias is not None:\n",
    "      self.out += self.bias\n",
    "    return self.out\n",
    "  \n",
    "  def parameters(self):\n",
    "    return [self.weight] + ([] if self.bias is None else [self.bias])\n",
    "\n",
    "\n",
    "class BatchNorm1d:\n",
    "\n",
    "  def __init__(self, dim, eps=1e-5, momentum=0.1):\n",
    "    self.eps = eps\n",
    "    self.momentum = momentum\n",
    "    # parameters (trained with backprop)\n",
    "    self.gamma = torch.ones(dim)\n",
    "    self.beta = torch.zeros(dim)\n",
    "    # buffers (trained with a running 'momentum update')\n",
    "    self.running_mean = torch.zeros(dim)\n",
    "    self.running_var = torch.ones(dim)"
   ]
  },
  {
   "cell_type": "code",
   "execution_count": null,
   "metadata": {},
   "outputs": [],
   "source": []
  }
 ],
 "metadata": {
  "kernelspec": {
   "display_name": "dev-gpu",
   "language": "python",
   "name": "python3"
  },
  "language_info": {
   "codemirror_mode": {
    "name": "ipython",
    "version": 3
   },
   "file_extension": ".py",
   "mimetype": "text/x-python",
   "name": "python",
   "nbconvert_exporter": "python",
   "pygments_lexer": "ipython3",
   "version": "3.10.9"
  },
  "orig_nbformat": 4
 },
 "nbformat": 4,
 "nbformat_minor": 2
}
