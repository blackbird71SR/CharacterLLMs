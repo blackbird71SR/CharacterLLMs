{
 "cells": [
  {
   "attachments": {},
   "cell_type": "markdown",
   "metadata": {},
   "source": [
    "### Starter Code"
   ]
  },
  {
   "cell_type": "code",
   "execution_count": 16,
   "metadata": {},
   "outputs": [],
   "source": [
    "import torch\n",
    "import torch.nn.functional as F\n",
    "import matplotlib.pyplot as plt\n",
    "import random\n",
    "\n",
    "%matplotlib inline"
   ]
  },
  {
   "cell_type": "code",
   "execution_count": 17,
   "metadata": {},
   "outputs": [],
   "source": [
    "BLOCK_SIZE = 3\n",
    "N_EMBED = 10\n",
    "N_HIDDEN = 200\n",
    "N_EPOCHS = 200000\n",
    "BATCH_SIZE = 32"
   ]
  },
  {
   "cell_type": "code",
   "execution_count": 18,
   "metadata": {},
   "outputs": [],
   "source": [
    "def createWordsMapping(filename = 'names.txt'):\n",
    "  words = open(filename, 'r').read().splitlines()\n",
    "  chars = sorted(list(set(''.join(words))))\n",
    "  stoi = {s:i+1 for i,s in enumerate(chars)}\n",
    "  stoi['.'] = 0\n",
    "  itos = {i:s for s,i in stoi.items()}\n",
    "  n_vocab = len(stoi)\n",
    "  return words, stoi, itos, n_vocab\n",
    "\n",
    "words, stoi, itos, n_vocab = createWordsMapping()"
   ]
  },
  {
   "cell_type": "code",
   "execution_count": 19,
   "metadata": {},
   "outputs": [],
   "source": [
    "def buildDataset(words, block_size):\n",
    "  X, Y = [], []\n",
    "  for w in words:\n",
    "    context = [0] * block_size\n",
    "    for ch in w + '.':\n",
    "      ix = stoi[ch]\n",
    "      X.append(context)\n",
    "      Y.append(ix)\n",
    "      context = context[1:] + [ix]\n",
    "  X = torch.tensor(X)\n",
    "  Y = torch.tensor(Y)\n",
    "  return X,Y\n",
    "\n",
    "def buildDatasets(words, block_size):\n",
    "  random.seed(42)\n",
    "  random.shuffle(words)\n",
    "  \n",
    "  n1 = int(0.8 * len(words))\n",
    "  n2 = int(0.9 * len(words))\n",
    "  \n",
    "  Xtr, Ytr = buildDataset(words[:n1], block_size)\n",
    "  Xdev, Ydev = buildDataset(words[n1:n2], block_size)\n",
    "  Xte, Yte = buildDataset(words[n2:], block_size)\n",
    "\n",
    "  return Xtr, Ytr, Xdev, Ydev, Xte, Yte\n",
    "\n",
    "Xtr, Ytr, Xdev, Ydev, Xte, Yte = buildDatasets(words, BLOCK_SIZE)"
   ]
  },
  {
   "cell_type": "code",
   "execution_count": 29,
   "metadata": {},
   "outputs": [
    {
     "name": "stdout",
     "output_type": "stream",
     "text": [
      "Total Parameters: 11897\n"
     ]
    }
   ],
   "source": [
    "def initializeWeights(n_vocab, block_size, n_embed, n_hidden):\n",
    "  g = torch.Generator().manual_seed(2147483647)\n",
    "  \n",
    "  C = torch.randn((n_vocab, n_embed), generator=g)\n",
    "  W1 = torch.randn((n_embed * block_size, n_hidden), generator=g)\n",
    "  b1 = torch.randn(n_hidden, generator=g)\n",
    "  W2 = torch.randn((n_hidden, n_vocab), generator=g) * 0.01\n",
    "  b2 = torch.randn(n_vocab, generator=g) * 0\n",
    "\n",
    "  parameters = [C, W1, b1, W2, b2]\n",
    "  for p in parameters:\n",
    "    p.requires_grad = True\n",
    "\n",
    "  print(f'Total Parameters: {sum(p.nelement() for p in parameters)}')\n",
    "  return parameters\n",
    "\n",
    "parameters = initializeWeights(n_vocab, BLOCK_SIZE, N_EMBED, N_HIDDEN)"
   ]
  },
  {
   "cell_type": "code",
   "execution_count": 21,
   "metadata": {},
   "outputs": [
    {
     "name": "stdout",
     "output_type": "stream",
     "text": [
      "      0/ 200000: 3.3179\n",
      "  10000/ 200000: 2.1848\n",
      "  20000/ 200000: 2.3320\n",
      "  30000/ 200000: 2.4731\n",
      "  40000/ 200000: 1.9858\n",
      "  50000/ 200000: 2.4827\n",
      "  60000/ 200000: 2.1361\n",
      "  70000/ 200000: 2.1642\n",
      "  80000/ 200000: 2.3967\n",
      "  90000/ 200000: 2.0793\n",
      " 100000/ 200000: 2.4436\n",
      " 110000/ 200000: 2.1291\n",
      " 120000/ 200000: 2.2657\n",
      " 130000/ 200000: 1.7314\n",
      " 140000/ 200000: 2.1808\n",
      " 150000/ 200000: 2.2475\n",
      " 160000/ 200000: 2.0536\n",
      " 170000/ 200000: 1.6976\n",
      " 180000/ 200000: 2.4663\n",
      " 190000/ 200000: 2.2927\n"
     ]
    }
   ],
   "source": [
    "def trainModel(X, Y, parameters, block_size, n_embed, n_epochs, batch_size):\n",
    "  C, W1, b1, W2, b2 = parameters\n",
    "  g = torch.Generator().manual_seed(2147483647)\n",
    "  lossi = []\n",
    "\n",
    "  for epoch in range(n_epochs):\n",
    "\n",
    "    # Minibatch Construct\n",
    "    ix = torch.randint(0, X.shape[0], (batch_size,), generator=g)\n",
    "    X_batch, Y_batch = X[ix], Y[ix] # batch X, Y \n",
    "\n",
    "    # Forward Pass\n",
    "    emb = C[X_batch] # embed characters into vectors\n",
    "    embcat = emb.view(emb.shape[0], -1) # concatentae the vectors\n",
    "    hpreact = embcat @ W1 + b1 # hidden layer preactivation\n",
    "    h = torch.tanh(hpreact) # hidden layer\n",
    "    logits = h @ W2 + b2\n",
    "    loss = F.cross_entropy(logits, Y_batch) # loss function\n",
    "\n",
    "    # Backward Pass\n",
    "    for p in parameters:\n",
    "      p.grad = None\n",
    "    loss.backward()\n",
    "\n",
    "    # Update Parameters\n",
    "    lr = 0.1 if epoch < 100000 else 0.01 # stop learning rate decay\n",
    "    for p in parameters:\n",
    "      p.data += -lr * p.grad\n",
    "    \n",
    "    # Track Stats\n",
    "    lossi.append(loss.log10().item())\n",
    "    if epoch % 10000 == 0:\n",
    "      print(f'{epoch:7d}/{n_epochs:7d}: {loss.item():.4f}')\n",
    "  \n",
    "  trainedParameters = [C, W1, b1, W2, b2]\n",
    "  return lossi, trainedParameters\n",
    "\n",
    "lossi, trainedParameters = trainModel(Xtr, Ytr, parameters, BLOCK_SIZE, N_EMBED, N_EPOCHS, BATCH_SIZE)"
   ]
  },
  {
   "cell_type": "code",
   "execution_count": 22,
   "metadata": {},
   "outputs": [
    {
     "data": {
      "text/plain": [
       "[<matplotlib.lines.Line2D at 0x12f9264a0>]"
      ]
     },
     "execution_count": 22,
     "metadata": {},
     "output_type": "execute_result"
    },
    {
     "data": {
      "image/png": "[encoded data removed]",
      "text/plain": [
       "<Figure size 640x480 with 1 Axes>"
      ]
     },
     "metadata": {},
     "output_type": "display_data"
    }
   ],
   "source": [
    "plt.plot(lossi)"
   ]
  },
  {
   "cell_type": "code",
   "execution_count": 23,
   "metadata": {},
   "outputs": [
    {
     "name": "stdout",
     "output_type": "stream",
     "text": [
      "Train Loss: 2.068942070007324\n",
      "Val Loss: 2.129626989364624\n"
     ]
    }
   ],
   "source": [
    "@torch.no_grad()\n",
    "def loss(X, Y, parameters):\n",
    "  C, W1, b1, W2, b2 = parameters\n",
    "  emb = C[X]\n",
    "  embcat = emb.view(emb.shape[0], -1)\n",
    "  hpreact = embcat @ W1 + b1\n",
    "  h = torch.tanh(hpreact)\n",
    "  logits = h @ W2 + b2\n",
    "  loss = F.cross_entropy(logits, Y)\n",
    "  return loss\n",
    "\n",
    "print(f'Train Loss: {loss(Xtr, Ytr, trainedParameters)}')\n",
    "print(f'Val Loss: {loss(Xdev, Ydev, trainedParameters)}')"
   ]
  },
  {
   "cell_type": "code",
   "execution_count": 24,
   "metadata": {},
   "outputs": [
    {
     "data": {
      "text/plain": [
       "['carman.',\n",
       " 'amelle.',\n",
       " 'khi.',\n",
       " 'mili.',\n",
       " 'thiyah.',\n",
       " 'cassie.',\n",
       " 'rah.',\n",
       " 'bradheiraciereni.',\n",
       " 'nellara.',\n",
       " 'chaihvon.',\n",
       " 'legy.',\n",
       " 'dham.',\n",
       " 'joce.',\n",
       " 'quinthororeed.',\n",
       " 'jadiquinterri.',\n",
       " 'jarynix.',\n",
       " 'kaellissa.',\n",
       " 'mel.',\n",
       " 'edi.',\n",
       " 'abette.']"
      ]
     },
     "execution_count": 24,
     "metadata": {},
     "output_type": "execute_result"
    }
   ],
   "source": [
    "def generateExample(parameters, block_size, g, itos):\n",
    "  C, W1, b1, W2, b2 = parameters\n",
    "  out = []\n",
    "  context = [0] * block_size\n",
    "  while True:\n",
    "    emb = C[torch.tensor([context])] # (1,block_size, d)\n",
    "    embcat = emb.view(1, -1)\n",
    "    hpreact = embcat @ W1 + b1\n",
    "    h = torch.tanh(hpreact)\n",
    "    logits = h @ W2 + b2\n",
    "    probs = F.softmax(logits, dim=1)\n",
    "    ix = torch.multinomial(probs, num_samples=1, generator=g).item()\n",
    "    context = context[1:] + [ix]\n",
    "    out.append(ix)\n",
    "    if ix == 0:\n",
    "      break\n",
    "  return ''.join(itos[i] for i in out)\n",
    "\n",
    "def generateExamples(parameters, block_size, itos, numExamples = 20):\n",
    "  g = torch.Generator().manual_seed(2147483647 + 10)\n",
    "  examples = []\n",
    "  for _ in range(numExamples):\n",
    "    example = generateExample(parameters, block_size, g, itos)\n",
    "    examples.append(example)\n",
    "  return examples\n",
    "\n",
    "generateExamples(trainedParameters, BLOCK_SIZE, itos)"
   ]
  },
  {
   "attachments": {},
   "cell_type": "markdown",
   "metadata": {},
   "source": [
    "### 1. Fix the Initial Loss\n",
    "\n",
    "- Add multiplier of `0.01` and `0` to `W2` and `b2` respectively to reduce high initial loss. The random initialization makes weights have high range of values, thus multiplying by small multipliers make loss smaller in the beginning.\n",
    "- This also makes model optimize loss better."
   ]
  },
  {
   "cell_type": "code",
   "execution_count": 26,
   "metadata": {},
   "outputs": [
    {
     "name": "stdout",
     "output_type": "stream",
     "text": [
      "tensor([0., 5., 0., 0.]) tensor([0.0066, 0.9802, 0.0066, 0.0066]) tensor(5.0200)\n",
      "tensor([ 0.1337,  2.0364, -0.3207,  0.1000]) tensor([0.1075, 0.7204, 0.0682, 0.1039]) tensor(2.6850)\n",
      "tensor([ -0.9470, -10.4212, -11.2372,   5.6889]) tensor([1.3106e-03, 1.0067e-07, 4.4515e-08, 9.9869e-01]) tensor(16.9274)\n"
     ]
    }
   ],
   "source": [
    "# 4 -dimensional example of the issue\n",
    "logits = torch.tensor([0.0, 5.0, 0.0, 0.0])\n",
    "probs = torch.softmax(logits, dim=0)\n",
    "loss = -probs[2].log()\n",
    "print(logits, probs, loss)\n",
    "\n",
    "logits = torch.randn(4)\n",
    "probs = torch.softmax(logits, dim=0)\n",
    "loss = -probs[2].log()\n",
    "print(logits, probs, loss)\n",
    "\n",
    "logits = torch.randn(4) * 10\n",
    "probs = torch.softmax(logits, dim=0)\n",
    "loss = -probs[2].log()\n",
    "print(logits, probs, loss)"
   ]
  },
  {
   "attachments": {},
   "cell_type": "markdown",
   "metadata": {},
   "source": [
    "### 2. Fix the Saturated `tanh`"
   ]
  },
  {
   "cell_type": "code",
   "execution_count": 30,
   "metadata": {},
   "outputs": [
    {
     "name": "stdout",
     "output_type": "stream",
     "text": [
      "      0/ 200000: 3.3179\n"
     ]
    }
   ],
   "source": [
    "\n",
    "n_epochs, batch_size = N_EPOCHS, BATCH_SIZE\n",
    "X, Y = Xtr, Ytr\n",
    "\n",
    "C, W1, b1, W2, b2 = parameters\n",
    "g = torch.Generator().manual_seed(2147483647)\n",
    "lossi = []\n",
    "\n",
    "for epoch in range(n_epochs):\n",
    "\n",
    "  # Minibatch Construct\n",
    "  ix = torch.randint(0, X.shape[0], (batch_size,), generator=g)\n",
    "  X_batch, Y_batch = X[ix], Y[ix] # batch X, Y \n",
    "\n",
    "  # Forward Pass\n",
    "  emb = C[X_batch] # embed characters into vectors\n",
    "  embcat = emb.view(emb.shape[0], -1) # concatentae the vectors\n",
    "  hpreact = embcat @ W1 + b1 # hidden layer preactivation\n",
    "  h = torch.tanh(hpreact) # hidden layer\n",
    "  logits = h @ W2 + b2\n",
    "  loss = F.cross_entropy(logits, Y_batch) # loss function\n",
    "\n",
    "  # Backward Pass\n",
    "  for p in parameters:\n",
    "    p.grad = None\n",
    "  loss.backward()\n",
    "\n",
    "  # Update Parameters\n",
    "  lr = 0.1 if epoch < 100000 else 0.01 # stop learning rate decay\n",
    "  for p in parameters:\n",
    "    p.data += -lr * p.grad\n",
    "  \n",
    "  # Track Stats\n",
    "  lossi.append(loss.log10().item())\n",
    "  if epoch % 10000 == 0:\n",
    "    print(f'{epoch:7d}/{n_epochs:7d}: {loss.item():.4f}')\n",
    "  \n",
    "  break"
   ]
  },
  {
   "cell_type": "code",
   "execution_count": 37,
   "metadata": {},
   "outputs": [
    {
     "data": {
      "image/png": "[encoded data removed]",
      "text/plain": [
       "<Figure size 640x480 with 1 Axes>"
      ]
     },
     "metadata": {},
     "output_type": "display_data"
    }
   ],
   "source": [
    "plt.hist(hpreact.view(-1).tolist(), 50);"
   ]
  },
  {
   "attachments": {},
   "cell_type": "markdown",
   "metadata": {},
   "source": [
    "Distribution of preactivations is very broad `(-20, 20)`. That's why in `torch.tanh()` everything is squashed and capped to be range `(-1, 1)`."
   ]
  },
  {
   "cell_type": "code",
   "execution_count": 36,
   "metadata": {},
   "outputs": [
    {
     "data": {
      "image/png": "[encoded data removed]",
      "text/plain": [
       "<Figure size 640x480 with 1 Axes>"
      ]
     },
     "metadata": {},
     "output_type": "display_data"
    }
   ],
   "source": [
    "plt.hist(h.view(-1).tolist(), 50);"
   ]
  },
  {
   "attachments": {},
   "cell_type": "markdown",
   "metadata": {},
   "source": [
    "Most of the values in h take `1` or `-1`, which means this `tanh` activation is very very active."
   ]
  },
  {
   "attachments": {},
   "cell_type": "markdown",
   "metadata": {},
   "source": [
    "When `tanh` outputs are close to 1 and -1, considering how we backpropagate in `tanh`:\n",
    "\n",
    "```python\n",
    "x = self.data\n",
    "t = (math.exp(2*x)-1)/(math.exp(2*x)+1)\n",
    "\n",
    "def _backward():\n",
    "  self.grad += (1 - t**2) * out.grad\n",
    "```\n",
    "\n",
    "We are effectively killing the gradient and stopping the backpropagation, when outputs of `tanh` are close to 1 and -1.\n",
    "\n",
    "IMP\n",
    "\n",
    "The gradient passing through `tanh` **can only ever decrease**, considering we are multiplying by the factor of `1 - t**2`. If `t==0`, we are passing `out.grad` as it is, for any other value of `t`, the gradient will decrease.\n",
    "\n",
    "CONCERN\n",
    "\n",
    "The problem here is if all of this outputs `h` are in flat region, that is close to `1` or `-1`, the gradient flowing throgh network will get destroyed."
   ]
  },
  {
   "cell_type": "code",
   "execution_count": null,
   "metadata": {},
   "outputs": [],
   "source": []
  }
 ],
 "metadata": {
  "kernelspec": {
   "display_name": "dev-gpu",
   "language": "python",
   "name": "python3"
  },
  "language_info": {
   "codemirror_mode": {
    "name": "ipython",
    "version": 3
   },
   "file_extension": ".py",
   "mimetype": "text/x-python",
   "name": "python",
   "nbconvert_exporter": "python",
   "pygments_lexer": "ipython3",
   "version": "3.10.9"
  },
  "orig_nbformat": 4
 },
 "nbformat": 4,
 "nbformat_minor": 2
}
