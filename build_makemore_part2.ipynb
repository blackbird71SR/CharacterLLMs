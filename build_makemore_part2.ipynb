{
 "cells": [
  {
   "cell_type": "code",
   "execution_count": 1,
   "metadata": {},
   "outputs": [],
   "source": [
    "import torch\n",
    "import torch.nn.functional as F\n",
    "import matplotlib.pyplot as plt\n",
    "import random\n",
    "\n",
    "%matplotlib inline"
   ]
  },
  {
   "cell_type": "code",
   "execution_count": 2,
   "metadata": {},
   "outputs": [],
   "source": [
    "BLOCK_SIZE = 3\n",
    "N_EMBED = 10\n",
    "N_HIDDEN = 200\n",
    "N_EPOCHS = 200000\n",
    "BATCH_SIZE = 32"
   ]
  },
  {
   "cell_type": "code",
   "execution_count": 3,
   "metadata": {},
   "outputs": [],
   "source": [
    "def createWordsMapping(filename = 'names.txt'):\n",
    "  words = open(filename, 'r').read().splitlines()\n",
    "  chars = sorted(list(set(''.join(words))))\n",
    "  stoi = {s:i+1 for i,s in enumerate(chars)}\n",
    "  stoi['.'] = 0\n",
    "  itos = {i:s for s,i in stoi.items()}\n",
    "  n_vocab = len(stoi)\n",
    "  return words, stoi, itos, n_vocab\n",
    "\n",
    "words, stoi, itos, n_vocab = createWordsMapping()"
   ]
  },
  {
   "cell_type": "code",
   "execution_count": 4,
   "metadata": {},
   "outputs": [],
   "source": [
    "def buildDataset(words, block_size):\n",
    "  X, Y = [], []\n",
    "  for w in words:\n",
    "    context = [0] * block_size\n",
    "    for ch in w + '.':\n",
    "      ix = stoi[ch]\n",
    "      X.append(context)\n",
    "      Y.append(ix)\n",
    "      context = context[1:] + [ix]\n",
    "  X = torch.tensor(X)\n",
    "  Y = torch.tensor(Y)\n",
    "  return X,Y\n",
    "\n",
    "def buildDatasets(words, block_size):\n",
    "  random.seed(42)\n",
    "  random.shuffle(words)\n",
    "  \n",
    "  n1 = int(0.8 * len(words))\n",
    "  n2 = int(0.9 * len(words))\n",
    "  \n",
    "  Xtr, Ytr = buildDataset(words[:n1], block_size)\n",
    "  Xdev, Ydev = buildDataset(words[n1:n2], block_size)\n",
    "  Xte, Yte = buildDataset(words[n2:], block_size)\n",
    "\n",
    "  return Xtr, Ytr, Xdev, Ydev, Xte, Yte\n",
    "\n",
    "Xtr, Ytr, Xdev, Ydev, Xte, Yte = buildDatasets(words, BLOCK_SIZE)"
   ]
  },
  {
   "cell_type": "code",
   "execution_count": 5,
   "metadata": {},
   "outputs": [
    {
     "name": "stdout",
     "output_type": "stream",
     "text": [
      "Total Parameters: 11897\n"
     ]
    }
   ],
   "source": [
    "def initializeWeights(n_vocab, block_size, n_embed, n_hidden):\n",
    "  g = torch.Generator().manual_seed(2147483647)\n",
    "  \n",
    "  C = torch.randn((n_vocab, n_embed), generator=g)\n",
    "  W1 = torch.randn((n_embed * block_size, n_hidden), generator=g)\n",
    "  b1 = torch.randn(n_hidden, generator=g)\n",
    "  W2 = torch.randn((n_hidden, n_vocab), generator=g)\n",
    "  b2 = torch.randn(n_vocab, generator=g)\n",
    "\n",
    "  parameters = [C, W1, b1, W2, b2]\n",
    "  for p in parameters:\n",
    "    p.requires_grad = True\n",
    "\n",
    "  print(f'Total Parameters: {sum(p.nelement() for p in parameters)}')\n",
    "  return parameters\n",
    "\n",
    "parameters = initializeWeights(n_vocab, BLOCK_SIZE, N_EMBED, N_HIDDEN)"
   ]
  },
  {
   "cell_type": "code",
   "execution_count": 6,
   "metadata": {},
   "outputs": [
    {
     "name": "stdout",
     "output_type": "stream",
     "text": [
      "      0/ 200000: 27.1911\n",
      "  10000/ 200000: 2.2490\n",
      "  20000/ 200000: 2.5724\n",
      "  30000/ 200000: 2.4509\n",
      "  40000/ 200000: 2.1374\n",
      "  50000/ 200000: 2.4703\n",
      "  60000/ 200000: 2.1571\n",
      "  70000/ 200000: 2.4489\n",
      "  80000/ 200000: 2.5287\n",
      "  90000/ 200000: 2.2128\n",
      " 100000/ 200000: 2.3358\n",
      " 110000/ 200000: 2.1692\n",
      " 120000/ 200000: 2.1493\n",
      " 130000/ 200000: 1.7323\n",
      " 140000/ 200000: 2.2502\n",
      " 150000/ 200000: 2.3654\n",
      " 160000/ 200000: 2.0955\n",
      " 170000/ 200000: 1.7022\n",
      " 180000/ 200000: 2.4705\n",
      " 190000/ 200000: 2.2818\n"
     ]
    }
   ],
   "source": [
    "def trainModel(X, Y, parameters, block_size, n_embed, n_epochs, batch_size):\n",
    "  C, W1, b1, W2, b2 = parameters\n",
    "  g = torch.Generator().manual_seed(2147483647)\n",
    "  lossi = []\n",
    "\n",
    "  for epoch in range(n_epochs):\n",
    "\n",
    "    # Minibatch Construct\n",
    "    ix = torch.randint(0, X.shape[0], (batch_size,), generator=g)\n",
    "    X_batch, Y_batch = X[ix], Y[ix] # batch X, Y \n",
    "\n",
    "    # Forward Pass\n",
    "    emb = C[X_batch] # embed characters into vectors\n",
    "    embcat = emb.view(emb.shape[0], -1) # concatentae the vectors\n",
    "    hpreact = embcat @ W1 + b1 # hidden layer preactivation\n",
    "    h = torch.tanh(hpreact) # hidden layer\n",
    "    logits = h @ W2 + b2\n",
    "    loss = F.cross_entropy(logits, Y_batch) # loss function\n",
    "\n",
    "    # Backward Pass\n",
    "    for p in parameters:\n",
    "      p.grad = None\n",
    "    loss.backward()\n",
    "\n",
    "    # Update Parameters\n",
    "    lr = 0.1 if epoch < 100000 else 0.01 # stop learning rate decay\n",
    "    for p in parameters:\n",
    "      p.data += -lr * p.grad\n",
    "    \n",
    "    # Track Stats\n",
    "    lossi.append(loss.log10().item())\n",
    "    if epoch % 10000 == 0:\n",
    "      print(f'{epoch:7d}/{n_epochs:7d}: {loss.item():.4f}')\n",
    "  \n",
    "  trainedParameters = [C, W1, b1, W2, b2]\n",
    "  return lossi, trainedParameters\n",
    "\n",
    "lossi, trainedParameters = trainModel(Xtr, Ytr, parameters, BLOCK_SIZE, N_EMBED, N_EPOCHS, BATCH_SIZE)"
   ]
  },
  {
   "cell_type": "code",
   "execution_count": 7,
   "metadata": {},
   "outputs": [
    {
     "data": {
      "text/plain": [
       "[<matplotlib.lines.Line2D at 0x1514f5ed0>]"
      ]
     },
     "execution_count": 7,
     "metadata": {},
     "output_type": "execute_result"
    },
    {
     "data": {
      "image/png": "[encoded data removed]",
      "text/plain": [
       "<Figure size 640x480 with 1 Axes>"
      ]
     },
     "metadata": {},
     "output_type": "display_data"
    }
   ],
   "source": [
    "plt.plot(lossi)"
   ]
  },
  {
   "cell_type": "code",
   "execution_count": 9,
   "metadata": {},
   "outputs": [
    {
     "name": "stdout",
     "output_type": "stream",
     "text": [
      "Train Loss: 2.1259920597076416\n",
      "Val Loss: 2.1729347705841064\n"
     ]
    }
   ],
   "source": [
    "@torch.no_grad()\n",
    "def loss(X, Y, parameters):\n",
    "  C, W1, b1, W2, b2 = parameters\n",
    "  emb = C[X]\n",
    "  embcat = emb.view(emb.shape[0], -1)\n",
    "  hpreact = embcat @ W1 + b1\n",
    "  h = torch.tanh(hpreact)\n",
    "  logits = h @ W2 + b2\n",
    "  loss = F.cross_entropy(logits, Y)\n",
    "  return loss\n",
    "\n",
    "print(f'Train Loss: {loss(Xtr, Ytr, trainedParameters)}')\n",
    "print(f'Val Loss: {loss(Xdev, Ydev, trainedParameters)}')"
   ]
  },
  {
   "cell_type": "code",
   "execution_count": 10,
   "metadata": {},
   "outputs": [
    {
     "data": {
      "text/plain": [
       "['carpa.',\n",
       " 'zamilli.',\n",
       " 'khi.',\n",
       " 'miri.',\n",
       " 'thay.',\n",
       " 'skansh.',\n",
       " 'eja.',\n",
       " 'hube.',\n",
       " 'den.',\n",
       " 'rhe.',\n",
       " 'kaeli.',\n",
       " 'nerania.',\n",
       " 'chaiif.',\n",
       " 'kaleigh.',\n",
       " 'ham.',\n",
       " 'jorn.',\n",
       " 'quinn.',\n",
       " 'shous.',\n",
       " 'alian.',\n",
       " 'quis.']"
      ]
     },
     "execution_count": 10,
     "metadata": {},
     "output_type": "execute_result"
    }
   ],
   "source": [
    "def generateExample(parameters, block_size, g, itos):\n",
    "  C, W1, b1, W2, b2 = parameters\n",
    "  out = []\n",
    "  context = [0] * block_size\n",
    "  while True:\n",
    "    emb = C[torch.tensor([context])] # (1,block_size, d)\n",
    "    embcat = emb.view(1, -1)\n",
    "    hpreact = embcat @ W1 + b1\n",
    "    h = torch.tanh(hpreact)\n",
    "    logits = h @ W2 + b2\n",
    "    probs = F.softmax(logits, dim=1)\n",
    "    ix = torch.multinomial(probs, num_samples=1, generator=g).item()\n",
    "    context = context[1:] + [ix]\n",
    "    out.append(ix)\n",
    "    if ix == 0:\n",
    "      break\n",
    "  return ''.join(itos[i] for i in out)\n",
    "\n",
    "def generateExamples(parameters, block_size, itos, numExamples = 20):\n",
    "  g = torch.Generator().manual_seed(2147483647 + 10)\n",
    "  examples = []\n",
    "  for _ in range(numExamples):\n",
    "    example = generateExample(parameters, block_size, g, itos)\n",
    "    examples.append(example)\n",
    "  return examples\n",
    "\n",
    "generateExamples(trainedParameters, BLOCK_SIZE, itos)"
   ]
  },
  {
   "cell_type": "code",
   "execution_count": null,
   "metadata": {},
   "outputs": [],
   "source": []
  }
 ],
 "metadata": {
  "kernelspec": {
   "display_name": "dev-gpu",
   "language": "python",
   "name": "python3"
  },
  "language_info": {
   "codemirror_mode": {
    "name": "ipython",
    "version": 3
   },
   "file_extension": ".py",
   "mimetype": "text/x-python",
   "name": "python",
   "nbconvert_exporter": "python",
   "pygments_lexer": "ipython3",
   "version": "3.10.9"
  },
  "orig_nbformat": 4
 },
 "nbformat": 4,
 "nbformat_minor": 2
}
